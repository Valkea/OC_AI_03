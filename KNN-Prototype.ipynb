{
 "cells": [
  {
   "cell_type": "markdown",
   "metadata": {},
   "source": [
    "# Ajustez les différents curseurs pour obtenir une prédiction de Nutriscore."
   ]
  },
  {
   "cell_type": "code",
   "execution_count": 7,
   "metadata": {},
   "outputs": [],
   "source": [
    "import pickle\n",
    "\n",
    "import pandas as pd\n",
    "\n",
    "from IPython.display import display, HTML\n",
    "\n",
    "from __future__ import print_function\n",
    "from ipywidgets import interact,FloatSlider,IntSlider,interactive,HBox, VBox, Layout\n",
    "import ipywidgets as widgets"
   ]
  },
  {
   "cell_type": "code",
   "execution_count": 8,
   "metadata": {},
   "outputs": [],
   "source": [
    "# load the model from disk\n",
    "filename = 'data/knn_model'\n",
    "loaded_model = pickle.load(open(filename, 'rb'))"
   ]
  },
  {
   "cell_type": "code",
   "execution_count": 9,
   "metadata": {},
   "outputs": [],
   "source": [
    "slider_energy = FloatSlider(min=0,max=3756.6,value=1000, description=\"Énergie en kJ\", layout=Layout(width='500px'), style= {'description_width': 'initial'})\n",
    "slider_saturated_fat = FloatSlider(min=0,max=92.6,value=10, description=\"Acides gras saturés / 100g\", layout=Layout(width='500px'), style= {'description_width': 'initial'})\n",
    "slider_sugars = FloatSlider(min=0,max=99.8,value=20, description=\"Sucres / 100g\", layout=Layout(width='500px'), style= {'description_width': 'initial'})\n",
    "#slider_FVN_estimate = FloatSlider(min=0,max=100,value=30, description=\"Fruits, légumes, noix / 100g\", layout=Layout(width='500px'), style= {'description_width': 'initial'})\n",
    "slider_fiber = FloatSlider(min=0,max=43.5,value=40, description=\"Fibres alimentaires / 100g\", layout=Layout(width='500px'), style= {'description_width': 'initial'})\n",
    "slider_proteins = FloatSlider(min=0,max=87.6,value=30, description=\"Protéines / 100g\", layout=Layout(width='500px'), style= {'description_width': 'initial'})\n",
    "slider_salt = FloatSlider(min=0,max=100,value=50, description=\"Sel / 100g\", layout=Layout(width='500px'), style= {'description_width': 'initial'})"
   ]
  },
  {
   "cell_type": "code",
   "execution_count": 10,
   "metadata": {},
   "outputs": [],
   "source": [
    "#var_nutri_pca = ['energy_100g','saturated-fat_100g','sugars_100g','FVN_estimate_100g','fiber_100g','salt_100g']\n",
    "var_knn = ['saturated-fat_100g', 'energy_100g', 'sugars_100g', 'fiber_100g', 'salt_100g', 'proteins_100g']"
   ]
  },
  {
   "cell_type": "code",
   "execution_count": 13,
   "metadata": {},
   "outputs": [],
   "source": [
    "def predict_KNN(energy_100g, saturated_fat_100g, sugars_100g, fiber_100g, proteins_100g, salt_100g):\n",
    "    \n",
    "    input_row = pd.DataFrame([[saturated_fat_100g, energy_100g, sugars_100g, fiber_100g, salt_100g, proteins_100g]], columns=var_knn)\n",
    "    \n",
    "    pred = loaded_model.predict(input_row)[0]\n",
    "    pred_label = 'ABCDE'[pred]\n",
    "    \n",
    "    # print(energy_100g, saturated_fat_100g, sugars_100g, FVN_estimate_100g, fiber_100g, salt_100g, \" PRED \", pred, pred_label)\n",
    "    \n",
    "    display(HTML(f\"<img src='medias/Nutri-score-{pred_label}.svg'>\"))"
   ]
  },
  {
   "cell_type": "code",
   "execution_count": 12,
   "metadata": {},
   "outputs": [
    {
     "data": {
      "application/vnd.jupyter.widget-view+json": {
       "model_id": "12eb6411d50a4c00ac76c64036437d70",
       "version_major": 2,
       "version_minor": 0
      },
      "text/plain": [
       "HBox(children=(VBox(children=(FloatSlider(value=1000.0, description='Énergie en kJ', layout=Layout(width='500p…"
      ]
     },
     "metadata": {},
     "output_type": "display_data"
    }
   ],
   "source": [
    "ip = interactive(predict_KNN,\n",
    "                 energy_100g=slider_energy,\n",
    "                 saturated_fat_100g=slider_saturated_fat,\n",
    "                 sugars_100g=slider_sugars,\n",
    "                 #FVN_estimate_100g=slider_FVN_estimate,\n",
    "                 fiber_100g=slider_fiber,\n",
    "                 proteins_100g=slider_proteins,\n",
    "                 salt_100g=slider_salt,\n",
    "                )\n",
    "\n",
    "display(HBox([VBox(ip.children[:-1]),ip.children[-1]])) #Show the output & output"
   ]
  },
  {
   "cell_type": "code",
   "execution_count": null,
   "metadata": {},
   "outputs": [],
   "source": []
  }
 ],
 "metadata": {
  "kernelspec": {
   "display_name": "venvP3",
   "language": "python",
   "name": "venvp3"
  },
  "language_info": {
   "codemirror_mode": {
    "name": "ipython",
    "version": 3
   },
   "file_extension": ".py",
   "mimetype": "text/x-python",
   "name": "python",
   "nbconvert_exporter": "python",
   "pygments_lexer": "ipython3",
   "version": "3.8.10"
  }
 },
 "nbformat": 4,
 "nbformat_minor": 4
}
