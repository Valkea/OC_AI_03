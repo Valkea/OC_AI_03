{
 "cells": [
  {
   "cell_type": "code",
   "execution_count": 1,
   "metadata": {},
   "outputs": [],
   "source": [
    "import pandas as pd\n",
    "import numpy as np\n",
    "import matplotlib.pyplot as plt\n",
    "#import seaborn as sns\n",
    "import plotly_express as px"
   ]
  },
  {
   "cell_type": "markdown",
   "metadata": {},
   "source": [
    "# Objectif\n",
    "\n",
    "Le Nutriscore est une information qui peut être utile pour comparer divers produits d'une même catégorie les uns avec les autres. Cependant, tous les produits ne disposent pas de cette information et il pourrait être intéressant de pouvoir calculer ce score à partir des indications disponibles sur les étiquettes des produits (ou même simplement en scannant le code-barre).\n",
    "\n",
    "Nous allons donc essayer de calculer le nutriscore ou le nutrigrade en nous basant sur les données disponibles sur l'étiquette d'un produit.\n",
    "\n",
    "#### Éléments défavorables au score\n",
    "\n",
    "- Apport calorique pour cent grammes.\n",
    "- Teneur en sucre.\n",
    "- Teneur en graisses saturées.\n",
    "- Teneur en sel.\n",
    "\n",
    "#### Éléments favorables au score\n",
    "\n",
    "- Teneur en fruits, légumes, légumineuses (dont les légumes secs), oléagineux, huiles de colza, de noix et d'olive.\n",
    "- Teneur en fibres.\n",
    "- Teneur en protéines.\n",
    "\n",
    "Pour calculer la teneur de fruits et légumes, les féculents (tel que pomme de terre, patate douce, taro, manioc et tapioca) ne sont pas pris en compte.\n",
    "\n",
    "Pour les fromages, la teneur en protéines est toujours prise en compte car celle-ci est liée à celle en calcium. Ceci améliore le nutri-score des fromages et la cohérence entre celui-ci et les recommandations nutritionnelles du Haut Conseil de la Santé Publique. Celles-ci recommandent en effet de consommer des produits laitiers plusieurs fois par jour. "
   ]
  },
  {
   "cell_type": "markdown",
   "metadata": {},
   "source": [
    "# 2. Présentation générale du jeu de données <a class=\"anchor\" id=\"P02\"></a>\n",
    "\n",
    "Le [jeu de données](https://static.openfoodfacts.org/data/en.openfoodfacts.org.products.csv) utilisé dans le cadre de l'appel à projets de l'agence *Santé publique France* qui consiste à rendre les données de santé plus accessibles, est une liste de 2.251.894 produits alimentaires répertoriés par les volontaires de l'association [Open Food Facts](https://world.openfoodfacts.org).\n",
    "\n",
    "Chacun des produits référencé est décrit par un certain nombre de caractèristiques nutritionels *(taux de graisse, de sucre, de sel, de fibres, de protéines, de vitamines, etc.)* et par des méta-données *(code-barre, nom du produit, catégorie, lieu de production, data d'ajout dans la DB, auteur de l'ajout, etc.)*.\n",
    "\n",
    "> Le jeu de données complet fait plus de 5.9GB. Et il est difficile de travailler avec un tel volume de donnée, donc nous avons crée un jeu de données réduit (dans Cleaning_01.ipynb) que nous allons utiliser ici."
   ]
  },
  {
   "cell_type": "code",
   "execution_count": 2,
   "metadata": {},
   "outputs": [],
   "source": [
    "filename = 'data/data_low_cols.csv'"
   ]
  },
  {
   "cell_type": "code",
   "execution_count": 42,
   "metadata": {},
   "outputs": [],
   "source": [
    "data = pd.read_csv(filename, sep=',', dtype={'code':'str'})"
   ]
  },
  {
   "cell_type": "markdown",
   "metadata": {},
   "source": [
    "# Explorons le jeu de données reduit"
   ]
  },
  {
   "cell_type": "code",
   "execution_count": 43,
   "metadata": {},
   "outputs": [
    {
     "data": {
      "text/html": [
       "<div>\n",
       "<style scoped>\n",
       "    .dataframe tbody tr th:only-of-type {\n",
       "        vertical-align: middle;\n",
       "    }\n",
       "\n",
       "    .dataframe tbody tr th {\n",
       "        vertical-align: top;\n",
       "    }\n",
       "\n",
       "    .dataframe thead th {\n",
       "        text-align: right;\n",
       "    }\n",
       "</style>\n",
       "<table border=\"1\" class=\"dataframe\">\n",
       "  <thead>\n",
       "    <tr style=\"text-align: right;\">\n",
       "      <th></th>\n",
       "      <th>code</th>\n",
       "      <th>url</th>\n",
       "      <th>product_name</th>\n",
       "      <th>quantity</th>\n",
       "      <th>categories_tags</th>\n",
       "      <th>labels_tags</th>\n",
       "      <th>ingredients_tags</th>\n",
       "      <th>allergens</th>\n",
       "      <th>traces_tags</th>\n",
       "      <th>serving_size</th>\n",
       "      <th>...</th>\n",
       "      <th>vitamin-a_100g</th>\n",
       "      <th>vitamin-c_100g</th>\n",
       "      <th>vitamin-b1_100g</th>\n",
       "      <th>vitamin-b2_100g</th>\n",
       "      <th>vitamin-pp_100g</th>\n",
       "      <th>potassium_100g</th>\n",
       "      <th>calcium_100g</th>\n",
       "      <th>iron_100g</th>\n",
       "      <th>fruits-vegetables-nuts-estimate-from-ingredients_100g</th>\n",
       "      <th>nutrition-score-fr_100g</th>\n",
       "    </tr>\n",
       "  </thead>\n",
       "  <tbody>\n",
       "    <tr>\n",
       "      <th>0</th>\n",
       "      <td>00000000000000225</td>\n",
       "      <td>http://world-en.openfoodfacts.org/product/0000...</td>\n",
       "      <td>jeunes pousses</td>\n",
       "      <td>NaN</td>\n",
       "      <td>NaN</td>\n",
       "      <td>NaN</td>\n",
       "      <td>NaN</td>\n",
       "      <td>NaN</td>\n",
       "      <td>NaN</td>\n",
       "      <td>NaN</td>\n",
       "      <td>...</td>\n",
       "      <td>NaN</td>\n",
       "      <td>NaN</td>\n",
       "      <td>NaN</td>\n",
       "      <td>NaN</td>\n",
       "      <td>NaN</td>\n",
       "      <td>NaN</td>\n",
       "      <td>NaN</td>\n",
       "      <td>NaN</td>\n",
       "      <td>NaN</td>\n",
       "      <td>NaN</td>\n",
       "    </tr>\n",
       "    <tr>\n",
       "      <th>1</th>\n",
       "      <td>00000000000003429145</td>\n",
       "      <td>http://world-en.openfoodfacts.org/product/0000...</td>\n",
       "      <td>L.casei</td>\n",
       "      <td>NaN</td>\n",
       "      <td>NaN</td>\n",
       "      <td>NaN</td>\n",
       "      <td>en:semi-skimmed-milk,en:dairy,en:milk,es:azuca...</td>\n",
       "      <td>NaN</td>\n",
       "      <td>NaN</td>\n",
       "      <td>NaN</td>\n",
       "      <td>...</td>\n",
       "      <td>NaN</td>\n",
       "      <td>NaN</td>\n",
       "      <td>NaN</td>\n",
       "      <td>NaN</td>\n",
       "      <td>NaN</td>\n",
       "      <td>NaN</td>\n",
       "      <td>NaN</td>\n",
       "      <td>NaN</td>\n",
       "      <td>0.000</td>\n",
       "      <td>NaN</td>\n",
       "    </tr>\n",
       "    <tr>\n",
       "      <th>2</th>\n",
       "      <td>0000000000017</td>\n",
       "      <td>http://world-en.openfoodfacts.org/product/0000...</td>\n",
       "      <td>Vitória crackers</td>\n",
       "      <td>NaN</td>\n",
       "      <td>NaN</td>\n",
       "      <td>NaN</td>\n",
       "      <td>NaN</td>\n",
       "      <td>NaN</td>\n",
       "      <td>NaN</td>\n",
       "      <td>NaN</td>\n",
       "      <td>...</td>\n",
       "      <td>NaN</td>\n",
       "      <td>NaN</td>\n",
       "      <td>NaN</td>\n",
       "      <td>NaN</td>\n",
       "      <td>NaN</td>\n",
       "      <td>NaN</td>\n",
       "      <td>NaN</td>\n",
       "      <td>NaN</td>\n",
       "      <td>NaN</td>\n",
       "      <td>NaN</td>\n",
       "    </tr>\n",
       "  </tbody>\n",
       "</table>\n",
       "<p>3 rows × 48 columns</p>\n",
       "</div>"
      ],
      "text/plain": [
       "                   code                                                url  \\\n",
       "0     00000000000000225  http://world-en.openfoodfacts.org/product/0000...   \n",
       "1  00000000000003429145  http://world-en.openfoodfacts.org/product/0000...   \n",
       "2         0000000000017  http://world-en.openfoodfacts.org/product/0000...   \n",
       "\n",
       "       product_name quantity categories_tags labels_tags  \\\n",
       "0    jeunes pousses      NaN             NaN         NaN   \n",
       "1           L.casei      NaN             NaN         NaN   \n",
       "2  Vitória crackers      NaN             NaN         NaN   \n",
       "\n",
       "                                    ingredients_tags allergens traces_tags  \\\n",
       "0                                                NaN       NaN         NaN   \n",
       "1  en:semi-skimmed-milk,en:dairy,en:milk,es:azuca...       NaN         NaN   \n",
       "2                                                NaN       NaN         NaN   \n",
       "\n",
       "  serving_size  ...  vitamin-a_100g  vitamin-c_100g vitamin-b1_100g  \\\n",
       "0          NaN  ...             NaN             NaN             NaN   \n",
       "1          NaN  ...             NaN             NaN             NaN   \n",
       "2          NaN  ...             NaN             NaN             NaN   \n",
       "\n",
       "   vitamin-b2_100g vitamin-pp_100g  potassium_100g calcium_100g iron_100g  \\\n",
       "0              NaN             NaN             NaN          NaN       NaN   \n",
       "1              NaN             NaN             NaN          NaN       NaN   \n",
       "2              NaN             NaN             NaN          NaN       NaN   \n",
       "\n",
       "  fruits-vegetables-nuts-estimate-from-ingredients_100g  \\\n",
       "0                                                NaN      \n",
       "1                                              0.000      \n",
       "2                                                NaN      \n",
       "\n",
       "   nutrition-score-fr_100g  \n",
       "0                      NaN  \n",
       "1                      NaN  \n",
       "2                      NaN  \n",
       "\n",
       "[3 rows x 48 columns]"
      ]
     },
     "execution_count": 43,
     "metadata": {},
     "output_type": "execute_result"
    }
   ],
   "source": [
    "data.head(3)"
   ]
  },
  {
   "cell_type": "code",
   "execution_count": 44,
   "metadata": {},
   "outputs": [
    {
     "data": {
      "text/plain": [
       "(2251894, 48)"
      ]
     },
     "execution_count": 44,
     "metadata": {},
     "output_type": "execute_result"
    }
   ],
   "source": [
    "data.shape"
   ]
  },
  {
   "cell_type": "code",
   "execution_count": 45,
   "metadata": {},
   "outputs": [],
   "source": [
    "pd.set_option('display.float_format', lambda x: '%.3f' % x)"
   ]
  },
  {
   "cell_type": "code",
   "execution_count": 46,
   "metadata": {},
   "outputs": [
    {
     "data": {
      "text/html": [
       "<div>\n",
       "<style scoped>\n",
       "    .dataframe tbody tr th:only-of-type {\n",
       "        vertical-align: middle;\n",
       "    }\n",
       "\n",
       "    .dataframe tbody tr th {\n",
       "        vertical-align: top;\n",
       "    }\n",
       "\n",
       "    .dataframe thead th {\n",
       "        text-align: right;\n",
       "    }\n",
       "</style>\n",
       "<table border=\"1\" class=\"dataframe\">\n",
       "  <thead>\n",
       "    <tr style=\"text-align: right;\">\n",
       "      <th></th>\n",
       "      <th>count</th>\n",
       "      <th>mean</th>\n",
       "      <th>std</th>\n",
       "      <th>min</th>\n",
       "      <th>25%</th>\n",
       "      <th>50%</th>\n",
       "      <th>75%</th>\n",
       "      <th>max</th>\n",
       "    </tr>\n",
       "  </thead>\n",
       "  <tbody>\n",
       "    <tr>\n",
       "      <th>serving_quantity</th>\n",
       "      <td>526776.000</td>\n",
       "      <td>21092745435793836.000</td>\n",
       "      <td>15308918127999203328.000</td>\n",
       "      <td>0.000</td>\n",
       "      <td>28.000</td>\n",
       "      <td>55.000</td>\n",
       "      <td>114.000</td>\n",
       "      <td>11111111111111100858368.000</td>\n",
       "    </tr>\n",
       "    <tr>\n",
       "      <th>additives_n</th>\n",
       "      <td>755169.000</td>\n",
       "      <td>2.013</td>\n",
       "      <td>2.880</td>\n",
       "      <td>0.000</td>\n",
       "      <td>0.000</td>\n",
       "      <td>1.000</td>\n",
       "      <td>3.000</td>\n",
       "      <td>49.000</td>\n",
       "    </tr>\n",
       "    <tr>\n",
       "      <th>nutriscore_score</th>\n",
       "      <td>776383.000</td>\n",
       "      <td>9.091</td>\n",
       "      <td>8.849</td>\n",
       "      <td>-15.000</td>\n",
       "      <td>1.000</td>\n",
       "      <td>10.000</td>\n",
       "      <td>16.000</td>\n",
       "      <td>40.000</td>\n",
       "    </tr>\n",
       "    <tr>\n",
       "      <th>nova_group</th>\n",
       "      <td>679561.000</td>\n",
       "      <td>3.382</td>\n",
       "      <td>0.992</td>\n",
       "      <td>1.000</td>\n",
       "      <td>3.000</td>\n",
       "      <td>4.000</td>\n",
       "      <td>4.000</td>\n",
       "      <td>4.000</td>\n",
       "    </tr>\n",
       "    <tr>\n",
       "      <th>ecoscore_score</th>\n",
       "      <td>516814.000</td>\n",
       "      <td>43.546</td>\n",
       "      <td>25.704</td>\n",
       "      <td>-30.000</td>\n",
       "      <td>27.000</td>\n",
       "      <td>39.000</td>\n",
       "      <td>65.000</td>\n",
       "      <td>125.000</td>\n",
       "    </tr>\n",
       "    <tr>\n",
       "      <th>energy-kj_100g</th>\n",
       "      <td>162957.000</td>\n",
       "      <td>40903789888675473637899005574841892864.000</td>\n",
       "      <td>16512014422283680237661674859037450043392.000</td>\n",
       "      <td>0.000</td>\n",
       "      <td>394.000</td>\n",
       "      <td>980.000</td>\n",
       "      <td>1619.000</td>\n",
       "      <td>6665558888888888950360610417759390841962496.000</td>\n",
       "    </tr>\n",
       "    <tr>\n",
       "      <th>energy-kcal_100g</th>\n",
       "      <td>1737339.000</td>\n",
       "      <td>62672267.876</td>\n",
       "      <td>76154079787.096</td>\n",
       "      <td>0.000</td>\n",
       "      <td>100.000</td>\n",
       "      <td>259.000</td>\n",
       "      <td>400.000</td>\n",
       "      <td>100000000376832.000</td>\n",
       "    </tr>\n",
       "    <tr>\n",
       "      <th>energy_100g</th>\n",
       "      <td>1786722.000</td>\n",
       "      <td>3730607721228534090965745911682039808.000</td>\n",
       "      <td>4986640698625920150338062244302641168384.000</td>\n",
       "      <td>0.000</td>\n",
       "      <td>418.000</td>\n",
       "      <td>1079.000</td>\n",
       "      <td>1674.000</td>\n",
       "      <td>6665558888888888950360610417759390841962496.000</td>\n",
       "    </tr>\n",
       "    <tr>\n",
       "      <th>fat_100g</th>\n",
       "      <td>1777186.000</td>\n",
       "      <td>562754208033.989</td>\n",
       "      <td>750124863814886.500</td>\n",
       "      <td>0.000</td>\n",
       "      <td>0.800</td>\n",
       "      <td>7.000</td>\n",
       "      <td>21.200</td>\n",
       "      <td>1000000000000000000.000</td>\n",
       "    </tr>\n",
       "    <tr>\n",
       "      <th>saturated-fat_100g</th>\n",
       "      <td>1731439.000</td>\n",
       "      <td>57722.281</td>\n",
       "      <td>75945867.241</td>\n",
       "      <td>0.000</td>\n",
       "      <td>0.100</td>\n",
       "      <td>1.800</td>\n",
       "      <td>7.000</td>\n",
       "      <td>99932728111.000</td>\n",
       "    </tr>\n",
       "    <tr>\n",
       "      <th>monounsaturated-fat_100g</th>\n",
       "      <td>48443.000</td>\n",
       "      <td>10.086</td>\n",
       "      <td>17.060</td>\n",
       "      <td>0.000</td>\n",
       "      <td>0.100</td>\n",
       "      <td>3.570</td>\n",
       "      <td>10.000</td>\n",
       "      <td>489.000</td>\n",
       "    </tr>\n",
       "    <tr>\n",
       "      <th>polyunsaturated-fat_100g</th>\n",
       "      <td>48414.000</td>\n",
       "      <td>5.944</td>\n",
       "      <td>12.024</td>\n",
       "      <td>0.000</td>\n",
       "      <td>0.000</td>\n",
       "      <td>2.140</td>\n",
       "      <td>7.000</td>\n",
       "      <td>1230.000</td>\n",
       "    </tr>\n",
       "    <tr>\n",
       "      <th>trans-fat_100g</th>\n",
       "      <td>265364.000</td>\n",
       "      <td>0.162</td>\n",
       "      <td>29.665</td>\n",
       "      <td>0.000</td>\n",
       "      <td>0.000</td>\n",
       "      <td>0.000</td>\n",
       "      <td>0.000</td>\n",
       "      <td>14800.000</td>\n",
       "    </tr>\n",
       "    <tr>\n",
       "      <th>cholesterol_100g</th>\n",
       "      <td>269384.000</td>\n",
       "      <td>0.060</td>\n",
       "      <td>1.951</td>\n",
       "      <td>0.000</td>\n",
       "      <td>0.000</td>\n",
       "      <td>0.000</td>\n",
       "      <td>0.022</td>\n",
       "      <td>381.000</td>\n",
       "    </tr>\n",
       "    <tr>\n",
       "      <th>carbohydrates_100g</th>\n",
       "      <td>1776746.000</td>\n",
       "      <td>56274.039</td>\n",
       "      <td>74971304.959</td>\n",
       "      <td>-1.000</td>\n",
       "      <td>3.529</td>\n",
       "      <td>15.380</td>\n",
       "      <td>53.000</td>\n",
       "      <td>99932728111.000</td>\n",
       "    </tr>\n",
       "    <tr>\n",
       "      <th>sugars_100g</th>\n",
       "      <td>1758313.000</td>\n",
       "      <td>56929545.382</td>\n",
       "      <td>75414025717.789</td>\n",
       "      <td>-1.000</td>\n",
       "      <td>0.600</td>\n",
       "      <td>3.570</td>\n",
       "      <td>17.100</td>\n",
       "      <td>100000000376832.000</td>\n",
       "    </tr>\n",
       "    <tr>\n",
       "      <th>fiber_100g</th>\n",
       "      <td>639994.000</td>\n",
       "      <td>153333860029341582185095018443795150667776.000</td>\n",
       "      <td>122666513020150478865288974968710559086673920.000</td>\n",
       "      <td>-6.700</td>\n",
       "      <td>0.000</td>\n",
       "      <td>1.600</td>\n",
       "      <td>3.700</td>\n",
       "      <td>98132750415618438665845168411918503733975056384...</td>\n",
       "    </tr>\n",
       "    <tr>\n",
       "      <th>proteins_100g</th>\n",
       "      <td>1778610.000</td>\n",
       "      <td>56198.842</td>\n",
       "      <td>74932009.551</td>\n",
       "      <td>-500.000</td>\n",
       "      <td>1.300</td>\n",
       "      <td>6.000</td>\n",
       "      <td>12.500</td>\n",
       "      <td>99932728111.000</td>\n",
       "    </tr>\n",
       "    <tr>\n",
       "      <th>salt_100g</th>\n",
       "      <td>1640254.000</td>\n",
       "      <td>60928.005</td>\n",
       "      <td>78028308.222</td>\n",
       "      <td>0.000</td>\n",
       "      <td>0.083</td>\n",
       "      <td>0.590</td>\n",
       "      <td>1.400</td>\n",
       "      <td>99932728111.000</td>\n",
       "    </tr>\n",
       "    <tr>\n",
       "      <th>sodium_100g</th>\n",
       "      <td>1640251.000</td>\n",
       "      <td>24371.247</td>\n",
       "      <td>31211351.831</td>\n",
       "      <td>0.000</td>\n",
       "      <td>0.033</td>\n",
       "      <td>0.236</td>\n",
       "      <td>0.560</td>\n",
       "      <td>39973091244.400</td>\n",
       "    </tr>\n",
       "    <tr>\n",
       "      <th>alcohol_100g</th>\n",
       "      <td>25143.000</td>\n",
       "      <td>19886250646311120896.000</td>\n",
       "      <td>3153272161287633108992.000</td>\n",
       "      <td>0.000</td>\n",
       "      <td>0.000</td>\n",
       "      <td>0.000</td>\n",
       "      <td>4.800</td>\n",
       "      <td>499999999999999991611392.000</td>\n",
       "    </tr>\n",
       "    <tr>\n",
       "      <th>vitamin-a_100g</th>\n",
       "      <td>212955.000</td>\n",
       "      <td>1.671</td>\n",
       "      <td>371.121</td>\n",
       "      <td>-0.000</td>\n",
       "      <td>0.000</td>\n",
       "      <td>0.000</td>\n",
       "      <td>0.000</td>\n",
       "      <td>150000.000</td>\n",
       "    </tr>\n",
       "    <tr>\n",
       "      <th>vitamin-c_100g</th>\n",
       "      <td>220782.000</td>\n",
       "      <td>0.114</td>\n",
       "      <td>21.591</td>\n",
       "      <td>0.000</td>\n",
       "      <td>0.000</td>\n",
       "      <td>0.000</td>\n",
       "      <td>0.004</td>\n",
       "      <td>8000.000</td>\n",
       "    </tr>\n",
       "    <tr>\n",
       "      <th>vitamin-b1_100g</th>\n",
       "      <td>23979.000</td>\n",
       "      <td>8.824</td>\n",
       "      <td>1164.291</td>\n",
       "      <td>0.000</td>\n",
       "      <td>0.000</td>\n",
       "      <td>0.001</td>\n",
       "      <td>0.001</td>\n",
       "      <td>180000.000</td>\n",
       "    </tr>\n",
       "    <tr>\n",
       "      <th>vitamin-b2_100g</th>\n",
       "      <td>23066.000</td>\n",
       "      <td>0.193</td>\n",
       "      <td>11.086</td>\n",
       "      <td>0.000</td>\n",
       "      <td>0.000</td>\n",
       "      <td>0.000</td>\n",
       "      <td>0.001</td>\n",
       "      <td>1300.000</td>\n",
       "    </tr>\n",
       "    <tr>\n",
       "      <th>vitamin-pp_100g</th>\n",
       "      <td>24100.000</td>\n",
       "      <td>0.260</td>\n",
       "      <td>17.043</td>\n",
       "      <td>0.000</td>\n",
       "      <td>0.003</td>\n",
       "      <td>0.005</td>\n",
       "      <td>0.009</td>\n",
       "      <td>2000.000</td>\n",
       "    </tr>\n",
       "    <tr>\n",
       "      <th>potassium_100g</th>\n",
       "      <td>92699.000</td>\n",
       "      <td>0.835</td>\n",
       "      <td>17.379</td>\n",
       "      <td>0.000</td>\n",
       "      <td>0.080</td>\n",
       "      <td>0.167</td>\n",
       "      <td>0.300</td>\n",
       "      <td>1917.000</td>\n",
       "    </tr>\n",
       "    <tr>\n",
       "      <th>calcium_100g</th>\n",
       "      <td>271880.000</td>\n",
       "      <td>736.131</td>\n",
       "      <td>383567.119</td>\n",
       "      <td>0.000</td>\n",
       "      <td>0.000</td>\n",
       "      <td>0.036</td>\n",
       "      <td>0.111</td>\n",
       "      <td>200000000.000</td>\n",
       "    </tr>\n",
       "    <tr>\n",
       "      <th>iron_100g</th>\n",
       "      <td>265735.000</td>\n",
       "      <td>0.038</td>\n",
       "      <td>6.442</td>\n",
       "      <td>-0.000</td>\n",
       "      <td>0.000</td>\n",
       "      <td>0.001</td>\n",
       "      <td>0.002</td>\n",
       "      <td>1800.000</td>\n",
       "    </tr>\n",
       "    <tr>\n",
       "      <th>fruits-vegetables-nuts-estimate-from-ingredients_100g</th>\n",
       "      <td>753817.000</td>\n",
       "      <td>8.602</td>\n",
       "      <td>36.118</td>\n",
       "      <td>0.000</td>\n",
       "      <td>0.000</td>\n",
       "      <td>0.000</td>\n",
       "      <td>0.500</td>\n",
       "      <td>13461.000</td>\n",
       "    </tr>\n",
       "    <tr>\n",
       "      <th>nutrition-score-fr_100g</th>\n",
       "      <td>776389.000</td>\n",
       "      <td>9.091</td>\n",
       "      <td>8.849</td>\n",
       "      <td>-15.000</td>\n",
       "      <td>1.000</td>\n",
       "      <td>10.000</td>\n",
       "      <td>16.000</td>\n",
       "      <td>40.000</td>\n",
       "    </tr>\n",
       "  </tbody>\n",
       "</table>\n",
       "</div>"
      ],
      "text/plain": [
       "                                                         count  \\\n",
       "serving_quantity                                    526776.000   \n",
       "additives_n                                         755169.000   \n",
       "nutriscore_score                                    776383.000   \n",
       "nova_group                                          679561.000   \n",
       "ecoscore_score                                      516814.000   \n",
       "energy-kj_100g                                      162957.000   \n",
       "energy-kcal_100g                                   1737339.000   \n",
       "energy_100g                                        1786722.000   \n",
       "fat_100g                                           1777186.000   \n",
       "saturated-fat_100g                                 1731439.000   \n",
       "monounsaturated-fat_100g                             48443.000   \n",
       "polyunsaturated-fat_100g                             48414.000   \n",
       "trans-fat_100g                                      265364.000   \n",
       "cholesterol_100g                                    269384.000   \n",
       "carbohydrates_100g                                 1776746.000   \n",
       "sugars_100g                                        1758313.000   \n",
       "fiber_100g                                          639994.000   \n",
       "proteins_100g                                      1778610.000   \n",
       "salt_100g                                          1640254.000   \n",
       "sodium_100g                                        1640251.000   \n",
       "alcohol_100g                                         25143.000   \n",
       "vitamin-a_100g                                      212955.000   \n",
       "vitamin-c_100g                                      220782.000   \n",
       "vitamin-b1_100g                                      23979.000   \n",
       "vitamin-b2_100g                                      23066.000   \n",
       "vitamin-pp_100g                                      24100.000   \n",
       "potassium_100g                                       92699.000   \n",
       "calcium_100g                                        271880.000   \n",
       "iron_100g                                           265735.000   \n",
       "fruits-vegetables-nuts-estimate-from-ingredient...  753817.000   \n",
       "nutrition-score-fr_100g                             776389.000   \n",
       "\n",
       "                                                                                             mean  \\\n",
       "serving_quantity                                                            21092745435793836.000   \n",
       "additives_n                                                                                 2.013   \n",
       "nutriscore_score                                                                            9.091   \n",
       "nova_group                                                                                  3.382   \n",
       "ecoscore_score                                                                             43.546   \n",
       "energy-kj_100g                                         40903789888675473637899005574841892864.000   \n",
       "energy-kcal_100g                                                                     62672267.876   \n",
       "energy_100g                                             3730607721228534090965745911682039808.000   \n",
       "fat_100g                                                                         562754208033.989   \n",
       "saturated-fat_100g                                                                      57722.281   \n",
       "monounsaturated-fat_100g                                                                   10.086   \n",
       "polyunsaturated-fat_100g                                                                    5.944   \n",
       "trans-fat_100g                                                                              0.162   \n",
       "cholesterol_100g                                                                            0.060   \n",
       "carbohydrates_100g                                                                      56274.039   \n",
       "sugars_100g                                                                          56929545.382   \n",
       "fiber_100g                                         153333860029341582185095018443795150667776.000   \n",
       "proteins_100g                                                                           56198.842   \n",
       "salt_100g                                                                               60928.005   \n",
       "sodium_100g                                                                             24371.247   \n",
       "alcohol_100g                                                             19886250646311120896.000   \n",
       "vitamin-a_100g                                                                              1.671   \n",
       "vitamin-c_100g                                                                              0.114   \n",
       "vitamin-b1_100g                                                                             8.824   \n",
       "vitamin-b2_100g                                                                             0.193   \n",
       "vitamin-pp_100g                                                                             0.260   \n",
       "potassium_100g                                                                              0.835   \n",
       "calcium_100g                                                                              736.131   \n",
       "iron_100g                                                                                   0.038   \n",
       "fruits-vegetables-nuts-estimate-from-ingredient...                                          8.602   \n",
       "nutrition-score-fr_100g                                                                     9.091   \n",
       "\n",
       "                                                                                                 std  \\\n",
       "serving_quantity                                                            15308918127999203328.000   \n",
       "additives_n                                                                                    2.880   \n",
       "nutriscore_score                                                                               8.849   \n",
       "nova_group                                                                                     0.992   \n",
       "ecoscore_score                                                                                25.704   \n",
       "energy-kj_100g                                         16512014422283680237661674859037450043392.000   \n",
       "energy-kcal_100g                                                                     76154079787.096   \n",
       "energy_100g                                             4986640698625920150338062244302641168384.000   \n",
       "fat_100g                                                                         750124863814886.500   \n",
       "saturated-fat_100g                                                                      75945867.241   \n",
       "monounsaturated-fat_100g                                                                      17.060   \n",
       "polyunsaturated-fat_100g                                                                      12.024   \n",
       "trans-fat_100g                                                                                29.665   \n",
       "cholesterol_100g                                                                               1.951   \n",
       "carbohydrates_100g                                                                      74971304.959   \n",
       "sugars_100g                                                                          75414025717.789   \n",
       "fiber_100g                                         122666513020150478865288974968710559086673920.000   \n",
       "proteins_100g                                                                           74932009.551   \n",
       "salt_100g                                                                               78028308.222   \n",
       "sodium_100g                                                                             31211351.831   \n",
       "alcohol_100g                                                              3153272161287633108992.000   \n",
       "vitamin-a_100g                                                                               371.121   \n",
       "vitamin-c_100g                                                                                21.591   \n",
       "vitamin-b1_100g                                                                             1164.291   \n",
       "vitamin-b2_100g                                                                               11.086   \n",
       "vitamin-pp_100g                                                                               17.043   \n",
       "potassium_100g                                                                                17.379   \n",
       "calcium_100g                                                                              383567.119   \n",
       "iron_100g                                                                                      6.442   \n",
       "fruits-vegetables-nuts-estimate-from-ingredient...                                            36.118   \n",
       "nutrition-score-fr_100g                                                                        8.849   \n",
       "\n",
       "                                                        min     25%      50%  \\\n",
       "serving_quantity                                      0.000  28.000   55.000   \n",
       "additives_n                                           0.000   0.000    1.000   \n",
       "nutriscore_score                                    -15.000   1.000   10.000   \n",
       "nova_group                                            1.000   3.000    4.000   \n",
       "ecoscore_score                                      -30.000  27.000   39.000   \n",
       "energy-kj_100g                                        0.000 394.000  980.000   \n",
       "energy-kcal_100g                                      0.000 100.000  259.000   \n",
       "energy_100g                                           0.000 418.000 1079.000   \n",
       "fat_100g                                              0.000   0.800    7.000   \n",
       "saturated-fat_100g                                    0.000   0.100    1.800   \n",
       "monounsaturated-fat_100g                              0.000   0.100    3.570   \n",
       "polyunsaturated-fat_100g                              0.000   0.000    2.140   \n",
       "trans-fat_100g                                        0.000   0.000    0.000   \n",
       "cholesterol_100g                                      0.000   0.000    0.000   \n",
       "carbohydrates_100g                                   -1.000   3.529   15.380   \n",
       "sugars_100g                                          -1.000   0.600    3.570   \n",
       "fiber_100g                                           -6.700   0.000    1.600   \n",
       "proteins_100g                                      -500.000   1.300    6.000   \n",
       "salt_100g                                             0.000   0.083    0.590   \n",
       "sodium_100g                                           0.000   0.033    0.236   \n",
       "alcohol_100g                                          0.000   0.000    0.000   \n",
       "vitamin-a_100g                                       -0.000   0.000    0.000   \n",
       "vitamin-c_100g                                        0.000   0.000    0.000   \n",
       "vitamin-b1_100g                                       0.000   0.000    0.001   \n",
       "vitamin-b2_100g                                       0.000   0.000    0.000   \n",
       "vitamin-pp_100g                                       0.000   0.003    0.005   \n",
       "potassium_100g                                        0.000   0.080    0.167   \n",
       "calcium_100g                                          0.000   0.000    0.036   \n",
       "iron_100g                                            -0.000   0.000    0.001   \n",
       "fruits-vegetables-nuts-estimate-from-ingredient...    0.000   0.000    0.000   \n",
       "nutrition-score-fr_100g                             -15.000   1.000   10.000   \n",
       "\n",
       "                                                        75%  \\\n",
       "serving_quantity                                    114.000   \n",
       "additives_n                                           3.000   \n",
       "nutriscore_score                                     16.000   \n",
       "nova_group                                            4.000   \n",
       "ecoscore_score                                       65.000   \n",
       "energy-kj_100g                                     1619.000   \n",
       "energy-kcal_100g                                    400.000   \n",
       "energy_100g                                        1674.000   \n",
       "fat_100g                                             21.200   \n",
       "saturated-fat_100g                                    7.000   \n",
       "monounsaturated-fat_100g                             10.000   \n",
       "polyunsaturated-fat_100g                              7.000   \n",
       "trans-fat_100g                                        0.000   \n",
       "cholesterol_100g                                      0.022   \n",
       "carbohydrates_100g                                   53.000   \n",
       "sugars_100g                                          17.100   \n",
       "fiber_100g                                            3.700   \n",
       "proteins_100g                                        12.500   \n",
       "salt_100g                                             1.400   \n",
       "sodium_100g                                           0.560   \n",
       "alcohol_100g                                          4.800   \n",
       "vitamin-a_100g                                        0.000   \n",
       "vitamin-c_100g                                        0.004   \n",
       "vitamin-b1_100g                                       0.001   \n",
       "vitamin-b2_100g                                       0.001   \n",
       "vitamin-pp_100g                                       0.009   \n",
       "potassium_100g                                        0.300   \n",
       "calcium_100g                                          0.111   \n",
       "iron_100g                                             0.002   \n",
       "fruits-vegetables-nuts-estimate-from-ingredient...    0.500   \n",
       "nutrition-score-fr_100g                              16.000   \n",
       "\n",
       "                                                                                                  max  \n",
       "serving_quantity                                                          11111111111111100858368.000  \n",
       "additives_n                                                                                    49.000  \n",
       "nutriscore_score                                                                               40.000  \n",
       "nova_group                                                                                      4.000  \n",
       "ecoscore_score                                                                                125.000  \n",
       "energy-kj_100g                                        6665558888888888950360610417759390841962496.000  \n",
       "energy-kcal_100g                                                                  100000000376832.000  \n",
       "energy_100g                                           6665558888888888950360610417759390841962496.000  \n",
       "fat_100g                                                                      1000000000000000000.000  \n",
       "saturated-fat_100g                                                                    99932728111.000  \n",
       "monounsaturated-fat_100g                                                                      489.000  \n",
       "polyunsaturated-fat_100g                                                                     1230.000  \n",
       "trans-fat_100g                                                                              14800.000  \n",
       "cholesterol_100g                                                                              381.000  \n",
       "carbohydrates_100g                                                                    99932728111.000  \n",
       "sugars_100g                                                                       100000000376832.000  \n",
       "fiber_100g                                         98132750415618438665845168411918503733975056384...  \n",
       "proteins_100g                                                                         99932728111.000  \n",
       "salt_100g                                                                             99932728111.000  \n",
       "sodium_100g                                                                           39973091244.400  \n",
       "alcohol_100g                                                             499999999999999991611392.000  \n",
       "vitamin-a_100g                                                                             150000.000  \n",
       "vitamin-c_100g                                                                               8000.000  \n",
       "vitamin-b1_100g                                                                            180000.000  \n",
       "vitamin-b2_100g                                                                              1300.000  \n",
       "vitamin-pp_100g                                                                              2000.000  \n",
       "potassium_100g                                                                               1917.000  \n",
       "calcium_100g                                                                            200000000.000  \n",
       "iron_100g                                                                                    1800.000  \n",
       "fruits-vegetables-nuts-estimate-from-ingredient...                                          13461.000  \n",
       "nutrition-score-fr_100g                                                                        40.000  "
      ]
     },
     "execution_count": 46,
     "metadata": {},
     "output_type": "execute_result"
    }
   ],
   "source": [
    "data.describe().T"
   ]
  },
  {
   "cell_type": "markdown",
   "metadata": {},
   "source": [
    "> On remarque que beaucoup de colonnes numériques ont des valeurs min, max (et donc std) clairement hors normes.\n",
    ">\n",
    "> Il va falloir s'occuper de toutes ces valeurs aberrantes."
   ]
  },
  {
   "cell_type": "code",
   "execution_count": 47,
   "metadata": {},
   "outputs": [
    {
     "data": {
      "text/html": [
       "<div>\n",
       "<style scoped>\n",
       "    .dataframe tbody tr th:only-of-type {\n",
       "        vertical-align: middle;\n",
       "    }\n",
       "\n",
       "    .dataframe tbody tr th {\n",
       "        vertical-align: top;\n",
       "    }\n",
       "\n",
       "    .dataframe thead th {\n",
       "        text-align: right;\n",
       "    }\n",
       "</style>\n",
       "<table border=\"1\" class=\"dataframe\">\n",
       "  <thead>\n",
       "    <tr style=\"text-align: right;\">\n",
       "      <th></th>\n",
       "      <th>count</th>\n",
       "      <th>unique</th>\n",
       "      <th>top</th>\n",
       "      <th>freq</th>\n",
       "    </tr>\n",
       "  </thead>\n",
       "  <tbody>\n",
       "    <tr>\n",
       "      <th>code</th>\n",
       "      <td>2251894</td>\n",
       "      <td>2251873</td>\n",
       "      <td>3477610001135</td>\n",
       "      <td>2</td>\n",
       "    </tr>\n",
       "    <tr>\n",
       "      <th>url</th>\n",
       "      <td>2251894</td>\n",
       "      <td>2251876</td>\n",
       "      <td>http://world-en.openfoodfacts.org/product/3477...</td>\n",
       "      <td>2</td>\n",
       "    </tr>\n",
       "    <tr>\n",
       "      <th>product_name</th>\n",
       "      <td>2166180</td>\n",
       "      <td>1387469</td>\n",
       "      <td>Miel</td>\n",
       "      <td>1449</td>\n",
       "    </tr>\n",
       "    <tr>\n",
       "      <th>quantity</th>\n",
       "      <td>576236</td>\n",
       "      <td>39373</td>\n",
       "      <td>500 g</td>\n",
       "      <td>24211</td>\n",
       "    </tr>\n",
       "    <tr>\n",
       "      <th>categories_tags</th>\n",
       "      <td>1011088</td>\n",
       "      <td>79235</td>\n",
       "      <td>en:snacks</td>\n",
       "      <td>34325</td>\n",
       "    </tr>\n",
       "    <tr>\n",
       "      <th>labels_tags</th>\n",
       "      <td>462090</td>\n",
       "      <td>64122</td>\n",
       "      <td>en:organic</td>\n",
       "      <td>47495</td>\n",
       "    </tr>\n",
       "    <tr>\n",
       "      <th>ingredients_tags</th>\n",
       "      <td>753418</td>\n",
       "      <td>569887</td>\n",
       "      <td>en:extra-virgin-olive-oil,en:oil-and-fat,en:ve...</td>\n",
       "      <td>1391</td>\n",
       "    </tr>\n",
       "    <tr>\n",
       "      <th>allergens</th>\n",
       "      <td>199182</td>\n",
       "      <td>7300</td>\n",
       "      <td>en:milk</td>\n",
       "      <td>42134</td>\n",
       "    </tr>\n",
       "    <tr>\n",
       "      <th>traces_tags</th>\n",
       "      <td>136399</td>\n",
       "      <td>13774</td>\n",
       "      <td>en:nuts</td>\n",
       "      <td>13203</td>\n",
       "    </tr>\n",
       "    <tr>\n",
       "      <th>serving_size</th>\n",
       "      <td>530697</td>\n",
       "      <td>47576</td>\n",
       "      <td>100g</td>\n",
       "      <td>24366</td>\n",
       "    </tr>\n",
       "    <tr>\n",
       "      <th>additives_tags</th>\n",
       "      <td>434228</td>\n",
       "      <td>103551</td>\n",
       "      <td>en:e330</td>\n",
       "      <td>26240</td>\n",
       "    </tr>\n",
       "    <tr>\n",
       "      <th>nutriscore_grade</th>\n",
       "      <td>776383</td>\n",
       "      <td>5</td>\n",
       "      <td>d</td>\n",
       "      <td>240061</td>\n",
       "    </tr>\n",
       "    <tr>\n",
       "      <th>pnns_groups_1</th>\n",
       "      <td>2251021</td>\n",
       "      <td>12</td>\n",
       "      <td>unknown</td>\n",
       "      <td>1434691</td>\n",
       "    </tr>\n",
       "    <tr>\n",
       "      <th>pnns_groups_2</th>\n",
       "      <td>2251023</td>\n",
       "      <td>42</td>\n",
       "      <td>unknown</td>\n",
       "      <td>1434691</td>\n",
       "    </tr>\n",
       "    <tr>\n",
       "      <th>states_tags</th>\n",
       "      <td>2251894</td>\n",
       "      <td>4795</td>\n",
       "      <td>en:to-be-completed,en:nutrition-facts-complete...</td>\n",
       "      <td>389036</td>\n",
       "    </tr>\n",
       "    <tr>\n",
       "      <th>ecoscore_grade</th>\n",
       "      <td>2250600</td>\n",
       "      <td>7</td>\n",
       "      <td>unknown</td>\n",
       "      <td>1708311</td>\n",
       "    </tr>\n",
       "    <tr>\n",
       "      <th>main_category</th>\n",
       "      <td>1011088</td>\n",
       "      <td>35204</td>\n",
       "      <td>en:snacks</td>\n",
       "      <td>34348</td>\n",
       "    </tr>\n",
       "  </tbody>\n",
       "</table>\n",
       "</div>"
      ],
      "text/plain": [
       "                    count   unique  \\\n",
       "code              2251894  2251873   \n",
       "url               2251894  2251876   \n",
       "product_name      2166180  1387469   \n",
       "quantity           576236    39373   \n",
       "categories_tags   1011088    79235   \n",
       "labels_tags        462090    64122   \n",
       "ingredients_tags   753418   569887   \n",
       "allergens          199182     7300   \n",
       "traces_tags        136399    13774   \n",
       "serving_size       530697    47576   \n",
       "additives_tags     434228   103551   \n",
       "nutriscore_grade   776383        5   \n",
       "pnns_groups_1     2251021       12   \n",
       "pnns_groups_2     2251023       42   \n",
       "states_tags       2251894     4795   \n",
       "ecoscore_grade    2250600        7   \n",
       "main_category     1011088    35204   \n",
       "\n",
       "                                                                top     freq  \n",
       "code                                                  3477610001135        2  \n",
       "url               http://world-en.openfoodfacts.org/product/3477...        2  \n",
       "product_name                                                   Miel     1449  \n",
       "quantity                                                      500 g    24211  \n",
       "categories_tags                                           en:snacks    34325  \n",
       "labels_tags                                              en:organic    47495  \n",
       "ingredients_tags  en:extra-virgin-olive-oil,en:oil-and-fat,en:ve...     1391  \n",
       "allergens                                                   en:milk    42134  \n",
       "traces_tags                                                 en:nuts    13203  \n",
       "serving_size                                                   100g    24366  \n",
       "additives_tags                                              en:e330    26240  \n",
       "nutriscore_grade                                                  d   240061  \n",
       "pnns_groups_1                                               unknown  1434691  \n",
       "pnns_groups_2                                               unknown  1434691  \n",
       "states_tags       en:to-be-completed,en:nutrition-facts-complete...   389036  \n",
       "ecoscore_grade                                              unknown  1708311  \n",
       "main_category                                             en:snacks    34348  "
      ]
     },
     "execution_count": 47,
     "metadata": {},
     "output_type": "execute_result"
    }
   ],
   "source": [
    "data.describe(exclude=\"number\").T"
   ]
  },
  {
   "cell_type": "markdown",
   "metadata": {},
   "source": [
    "> On remarque qu'il y a au moins un doublon sur les codes, il faudra donc le(s) supprimer."
   ]
  },
  {
   "cell_type": "markdown",
   "metadata": {},
   "source": [
    "#### Affichons les taux de valeurs manquantes pour chaque colonne."
   ]
  },
  {
   "cell_type": "code",
   "execution_count": 48,
   "metadata": {},
   "outputs": [],
   "source": [
    "# Définissons une fonction qui nous permet d'afficher \n",
    "# facilement le nombre de valeurs manquantes / présentes et leur taux\n",
    "\n",
    "def print_fill_rate(dataset, col_array):\n",
    "    fill_count = dataset[col_array].notnull().sum()\n",
    "    fill_ratio = fill_count/dataset.shape[0]*100.0\n",
    "    total = dataset.shape[0]\n",
    "    \n",
    "    for k, v in zip(fill_count.keys(), fill_count):\n",
    "        fraction = v/dataset.shape[0]*100.0\n",
    "        print(f\"{k.rjust(53)} | {total-v:8} lignes vides | replissage: {fraction:6.2f}%\")\n",
    "        \n",
    "    return fill_ratio"
   ]
  },
  {
   "cell_type": "code",
   "execution_count": 49,
   "metadata": {
    "scrolled": false
   },
   "outputs": [
    {
     "name": "stdout",
     "output_type": "stream",
     "text": [
      "                                                 code |        0 lignes vides | replissage: 100.00%\n",
      "                                                  url |        0 lignes vides | replissage: 100.00%\n",
      "                                         product_name |    85714 lignes vides | replissage:  96.19%\n",
      "                                             quantity |  1675658 lignes vides | replissage:  25.59%\n",
      "                                      categories_tags |  1240806 lignes vides | replissage:  44.90%\n",
      "                                          labels_tags |  1789804 lignes vides | replissage:  20.52%\n",
      "                                     ingredients_tags |  1498476 lignes vides | replissage:  33.46%\n",
      "                                            allergens |  2052712 lignes vides | replissage:   8.85%\n",
      "                                          traces_tags |  2115495 lignes vides | replissage:   6.06%\n",
      "                                         serving_size |  1721197 lignes vides | replissage:  23.57%\n",
      "                                     serving_quantity |  1725118 lignes vides | replissage:  23.39%\n",
      "                                          additives_n |  1496725 lignes vides | replissage:  33.53%\n",
      "                                       additives_tags |  1817666 lignes vides | replissage:  19.28%\n",
      "                                     nutriscore_score |  1475511 lignes vides | replissage:  34.48%\n",
      "                                     nutriscore_grade |  1475511 lignes vides | replissage:  34.48%\n",
      "                                           nova_group |  1572333 lignes vides | replissage:  30.18%\n",
      "                                        pnns_groups_1 |      873 lignes vides | replissage:  99.96%\n",
      "                                        pnns_groups_2 |      871 lignes vides | replissage:  99.96%\n",
      "                                          states_tags |        0 lignes vides | replissage: 100.00%\n",
      "                                       ecoscore_score |  1735080 lignes vides | replissage:  22.95%\n",
      "                                       ecoscore_grade |     1294 lignes vides | replissage:  99.94%\n",
      "                                        main_category |  1240806 lignes vides | replissage:  44.90%\n",
      "                                       energy-kj_100g |  2088937 lignes vides | replissage:   7.24%\n",
      "                                     energy-kcal_100g |   514555 lignes vides | replissage:  77.15%\n",
      "                                          energy_100g |   465172 lignes vides | replissage:  79.34%\n",
      "                                             fat_100g |   474708 lignes vides | replissage:  78.92%\n",
      "                                   saturated-fat_100g |   520455 lignes vides | replissage:  76.89%\n",
      "                             monounsaturated-fat_100g |  2203451 lignes vides | replissage:   2.15%\n",
      "                             polyunsaturated-fat_100g |  2203480 lignes vides | replissage:   2.15%\n",
      "                                       trans-fat_100g |  1986530 lignes vides | replissage:  11.78%\n",
      "                                     cholesterol_100g |  1982510 lignes vides | replissage:  11.96%\n",
      "                                   carbohydrates_100g |   475148 lignes vides | replissage:  78.90%\n",
      "                                          sugars_100g |   493581 lignes vides | replissage:  78.08%\n",
      "                                           fiber_100g |  1611900 lignes vides | replissage:  28.42%\n",
      "                                        proteins_100g |   473284 lignes vides | replissage:  78.98%\n",
      "                                            salt_100g |   611640 lignes vides | replissage:  72.84%\n",
      "                                          sodium_100g |   611643 lignes vides | replissage:  72.84%\n",
      "                                         alcohol_100g |  2226751 lignes vides | replissage:   1.12%\n",
      "                                       vitamin-a_100g |  2038939 lignes vides | replissage:   9.46%\n",
      "                                       vitamin-c_100g |  2031112 lignes vides | replissage:   9.80%\n",
      "                                      vitamin-b1_100g |  2227915 lignes vides | replissage:   1.06%\n",
      "                                      vitamin-b2_100g |  2228828 lignes vides | replissage:   1.02%\n",
      "                                      vitamin-pp_100g |  2227794 lignes vides | replissage:   1.07%\n",
      "                                       potassium_100g |  2159195 lignes vides | replissage:   4.12%\n",
      "                                         calcium_100g |  1980014 lignes vides | replissage:  12.07%\n",
      "                                            iron_100g |  1986159 lignes vides | replissage:  11.80%\n",
      "fruits-vegetables-nuts-estimate-from-ingredients_100g |  1498077 lignes vides | replissage:  33.47%\n",
      "                              nutrition-score-fr_100g |  1475505 lignes vides | replissage:  34.48%\n"
     ]
    }
   ],
   "source": [
    "fill_ratio = print_fill_rate(data, data.columns)"
   ]
  },
  {
   "cell_type": "markdown",
   "metadata": {},
   "source": [
    "#### Affichons ces taux sous forme de graphique interactif"
   ]
  },
  {
   "cell_type": "code",
   "execution_count": 50,
   "metadata": {},
   "outputs": [
    {
     "data": {
      "application/vnd.plotly.v1+json": {
       "config": {
        "plotlyServerURL": "https://plot.ly"
       },
       "data": [
        {
         "alignmentgroup": "True",
         "hovertemplate": "=%{x}<br>Remplissage (en %)=%{marker.color}<extra></extra>",
         "legendgroup": "",
         "marker": {
          "color": [
           100,
           100,
           96.19369295357598,
           25.58894868053292,
           44.89944908596941,
           20.520060002824287,
           33.45708101713491,
           8.845087735035486,
           6.057079063224113,
           23.56669541283915,
           23.39257531660016,
           33.5348377854375,
           19.282790397771834,
           34.476889231908785,
           34.476889231908785,
           30.177308523402967,
           99.9612326335076,
           99.96132144763475,
           100,
           22.950192149364046,
           99.94253725974669,
           44.89944908596941,
           7.236441857387603,
           77.15012340722964,
           79.3430774272679,
           78.91961166911054,
           76.88812173219522,
           2.151211380286994,
           2.149923575443604,
           11.784036015904833,
           11.962552411436773,
           78.90007256114187,
           78.0815171584453,
           28.420254239320325,
           78.98284732762733,
           72.83886364100618,
           72.8387304198155,
           1.116526799218791,
           9.45670622151842,
           9.80428030804292,
           1.0648369772289459,
           1.0242933281939557,
           1.0702102319203302,
           4.116490385426667,
           12.07339244209541,
           11.800511036487508,
           33.47479943549741,
           34.47715567429018
          ],
          "coloraxis": "coloraxis",
          "pattern": {
           "shape": ""
          }
         },
         "name": "",
         "offsetgroup": "",
         "orientation": "v",
         "showlegend": false,
         "textposition": "auto",
         "type": "bar",
         "x": [
          "code",
          "url",
          "product_name",
          "quantity",
          "categories_tags",
          "labels_tags",
          "ingredients_tags",
          "allergens",
          "traces_tags",
          "serving_size",
          "serving_quantity",
          "additives_n",
          "additives_tags",
          "nutriscore_score",
          "nutriscore_grade",
          "nova_group",
          "pnns_groups_1",
          "pnns_groups_2",
          "states_tags",
          "ecoscore_score",
          "ecoscore_grade",
          "main_category",
          "energy-kj_100g",
          "energy-kcal_100g",
          "energy_100g",
          "fat_100g",
          "saturated-fat_100g",
          "monounsaturated-fat_100g",
          "polyunsaturated-fat_100g",
          "trans-fat_100g",
          "cholesterol_100g",
          "carbohydrates_100g",
          "sugars_100g",
          "fiber_100g",
          "proteins_100g",
          "salt_100g",
          "sodium_100g",
          "alcohol_100g",
          "vitamin-a_100g",
          "vitamin-c_100g",
          "vitamin-b1_100g",
          "vitamin-b2_100g",
          "vitamin-pp_100g",
          "potassium_100g",
          "calcium_100g",
          "iron_100g",
          "fruits-vegetables-nuts-estimate-from-ingredients_100g",
          "nutrition-score-fr_100g"
         ],
         "xaxis": "x",
         "y": [
          100,
          100,
          96.19369295357598,
          25.58894868053292,
          44.89944908596941,
          20.520060002824287,
          33.45708101713491,
          8.845087735035486,
          6.057079063224113,
          23.56669541283915,
          23.39257531660016,
          33.5348377854375,
          19.282790397771834,
          34.476889231908785,
          34.476889231908785,
          30.177308523402967,
          99.9612326335076,
          99.96132144763475,
          100,
          22.950192149364046,
          99.94253725974669,
          44.89944908596941,
          7.236441857387603,
          77.15012340722964,
          79.3430774272679,
          78.91961166911054,
          76.88812173219522,
          2.151211380286994,
          2.149923575443604,
          11.784036015904833,
          11.962552411436773,
          78.90007256114187,
          78.0815171584453,
          28.420254239320325,
          78.98284732762733,
          72.83886364100618,
          72.8387304198155,
          1.116526799218791,
          9.45670622151842,
          9.80428030804292,
          1.0648369772289459,
          1.0242933281939557,
          1.0702102319203302,
          4.116490385426667,
          12.07339244209541,
          11.800511036487508,
          33.47479943549741,
          34.47715567429018
         ],
         "yaxis": "y"
        }
       ],
       "layout": {
        "barmode": "relative",
        "coloraxis": {
         "colorbar": {
          "title": {
           "text": "Remplissage (en %)"
          }
         },
         "colorscale": [
          [
           0,
           "#0d0887"
          ],
          [
           0.1111111111111111,
           "#46039f"
          ],
          [
           0.2222222222222222,
           "#7201a8"
          ],
          [
           0.3333333333333333,
           "#9c179e"
          ],
          [
           0.4444444444444444,
           "#bd3786"
          ],
          [
           0.5555555555555556,
           "#d8576b"
          ],
          [
           0.6666666666666666,
           "#ed7953"
          ],
          [
           0.7777777777777778,
           "#fb9f3a"
          ],
          [
           0.8888888888888888,
           "#fdca26"
          ],
          [
           1,
           "#f0f921"
          ]
         ],
         "showscale": false
        },
        "height": 600,
        "legend": {
         "tracegroupgap": 0
        },
        "template": {
         "data": {
          "bar": [
           {
            "error_x": {
             "color": "#2a3f5f"
            },
            "error_y": {
             "color": "#2a3f5f"
            },
            "marker": {
             "line": {
              "color": "#E5ECF6",
              "width": 0.5
             },
             "pattern": {
              "fillmode": "overlay",
              "size": 10,
              "solidity": 0.2
             }
            },
            "type": "bar"
           }
          ],
          "barpolar": [
           {
            "marker": {
             "line": {
              "color": "#E5ECF6",
              "width": 0.5
             },
             "pattern": {
              "fillmode": "overlay",
              "size": 10,
              "solidity": 0.2
             }
            },
            "type": "barpolar"
           }
          ],
          "carpet": [
           {
            "aaxis": {
             "endlinecolor": "#2a3f5f",
             "gridcolor": "white",
             "linecolor": "white",
             "minorgridcolor": "white",
             "startlinecolor": "#2a3f5f"
            },
            "baxis": {
             "endlinecolor": "#2a3f5f",
             "gridcolor": "white",
             "linecolor": "white",
             "minorgridcolor": "white",
             "startlinecolor": "#2a3f5f"
            },
            "type": "carpet"
           }
          ],
          "choropleth": [
           {
            "colorbar": {
             "outlinewidth": 0,
             "ticks": ""
            },
            "type": "choropleth"
           }
          ],
          "contour": [
           {
            "colorbar": {
             "outlinewidth": 0,
             "ticks": ""
            },
            "colorscale": [
             [
              0,
              "#0d0887"
             ],
             [
              0.1111111111111111,
              "#46039f"
             ],
             [
              0.2222222222222222,
              "#7201a8"
             ],
             [
              0.3333333333333333,
              "#9c179e"
             ],
             [
              0.4444444444444444,
              "#bd3786"
             ],
             [
              0.5555555555555556,
              "#d8576b"
             ],
             [
              0.6666666666666666,
              "#ed7953"
             ],
             [
              0.7777777777777778,
              "#fb9f3a"
             ],
             [
              0.8888888888888888,
              "#fdca26"
             ],
             [
              1,
              "#f0f921"
             ]
            ],
            "type": "contour"
           }
          ],
          "contourcarpet": [
           {
            "colorbar": {
             "outlinewidth": 0,
             "ticks": ""
            },
            "type": "contourcarpet"
           }
          ],
          "heatmap": [
           {
            "colorbar": {
             "outlinewidth": 0,
             "ticks": ""
            },
            "colorscale": [
             [
              0,
              "#0d0887"
             ],
             [
              0.1111111111111111,
              "#46039f"
             ],
             [
              0.2222222222222222,
              "#7201a8"
             ],
             [
              0.3333333333333333,
              "#9c179e"
             ],
             [
              0.4444444444444444,
              "#bd3786"
             ],
             [
              0.5555555555555556,
              "#d8576b"
             ],
             [
              0.6666666666666666,
              "#ed7953"
             ],
             [
              0.7777777777777778,
              "#fb9f3a"
             ],
             [
              0.8888888888888888,
              "#fdca26"
             ],
             [
              1,
              "#f0f921"
             ]
            ],
            "type": "heatmap"
           }
          ],
          "heatmapgl": [
           {
            "colorbar": {
             "outlinewidth": 0,
             "ticks": ""
            },
            "colorscale": [
             [
              0,
              "#0d0887"
             ],
             [
              0.1111111111111111,
              "#46039f"
             ],
             [
              0.2222222222222222,
              "#7201a8"
             ],
             [
              0.3333333333333333,
              "#9c179e"
             ],
             [
              0.4444444444444444,
              "#bd3786"
             ],
             [
              0.5555555555555556,
              "#d8576b"
             ],
             [
              0.6666666666666666,
              "#ed7953"
             ],
             [
              0.7777777777777778,
              "#fb9f3a"
             ],
             [
              0.8888888888888888,
              "#fdca26"
             ],
             [
              1,
              "#f0f921"
             ]
            ],
            "type": "heatmapgl"
           }
          ],
          "histogram": [
           {
            "marker": {
             "pattern": {
              "fillmode": "overlay",
              "size": 10,
              "solidity": 0.2
             }
            },
            "type": "histogram"
           }
          ],
          "histogram2d": [
           {
            "colorbar": {
             "outlinewidth": 0,
             "ticks": ""
            },
            "colorscale": [
             [
              0,
              "#0d0887"
             ],
             [
              0.1111111111111111,
              "#46039f"
             ],
             [
              0.2222222222222222,
              "#7201a8"
             ],
             [
              0.3333333333333333,
              "#9c179e"
             ],
             [
              0.4444444444444444,
              "#bd3786"
             ],
             [
              0.5555555555555556,
              "#d8576b"
             ],
             [
              0.6666666666666666,
              "#ed7953"
             ],
             [
              0.7777777777777778,
              "#fb9f3a"
             ],
             [
              0.8888888888888888,
              "#fdca26"
             ],
             [
              1,
              "#f0f921"
             ]
            ],
            "type": "histogram2d"
           }
          ],
          "histogram2dcontour": [
           {
            "colorbar": {
             "outlinewidth": 0,
             "ticks": ""
            },
            "colorscale": [
             [
              0,
              "#0d0887"
             ],
             [
              0.1111111111111111,
              "#46039f"
             ],
             [
              0.2222222222222222,
              "#7201a8"
             ],
             [
              0.3333333333333333,
              "#9c179e"
             ],
             [
              0.4444444444444444,
              "#bd3786"
             ],
             [
              0.5555555555555556,
              "#d8576b"
             ],
             [
              0.6666666666666666,
              "#ed7953"
             ],
             [
              0.7777777777777778,
              "#fb9f3a"
             ],
             [
              0.8888888888888888,
              "#fdca26"
             ],
             [
              1,
              "#f0f921"
             ]
            ],
            "type": "histogram2dcontour"
           }
          ],
          "mesh3d": [
           {
            "colorbar": {
             "outlinewidth": 0,
             "ticks": ""
            },
            "type": "mesh3d"
           }
          ],
          "parcoords": [
           {
            "line": {
             "colorbar": {
              "outlinewidth": 0,
              "ticks": ""
             }
            },
            "type": "parcoords"
           }
          ],
          "pie": [
           {
            "automargin": true,
            "type": "pie"
           }
          ],
          "scatter": [
           {
            "fillpattern": {
             "fillmode": "overlay",
             "size": 10,
             "solidity": 0.2
            },
            "type": "scatter"
           }
          ],
          "scatter3d": [
           {
            "line": {
             "colorbar": {
              "outlinewidth": 0,
              "ticks": ""
             }
            },
            "marker": {
             "colorbar": {
              "outlinewidth": 0,
              "ticks": ""
             }
            },
            "type": "scatter3d"
           }
          ],
          "scattercarpet": [
           {
            "marker": {
             "colorbar": {
              "outlinewidth": 0,
              "ticks": ""
             }
            },
            "type": "scattercarpet"
           }
          ],
          "scattergeo": [
           {
            "marker": {
             "colorbar": {
              "outlinewidth": 0,
              "ticks": ""
             }
            },
            "type": "scattergeo"
           }
          ],
          "scattergl": [
           {
            "marker": {
             "colorbar": {
              "outlinewidth": 0,
              "ticks": ""
             }
            },
            "type": "scattergl"
           }
          ],
          "scattermapbox": [
           {
            "marker": {
             "colorbar": {
              "outlinewidth": 0,
              "ticks": ""
             }
            },
            "type": "scattermapbox"
           }
          ],
          "scatterpolar": [
           {
            "marker": {
             "colorbar": {
              "outlinewidth": 0,
              "ticks": ""
             }
            },
            "type": "scatterpolar"
           }
          ],
          "scatterpolargl": [
           {
            "marker": {
             "colorbar": {
              "outlinewidth": 0,
              "ticks": ""
             }
            },
            "type": "scatterpolargl"
           }
          ],
          "scatterternary": [
           {
            "marker": {
             "colorbar": {
              "outlinewidth": 0,
              "ticks": ""
             }
            },
            "type": "scatterternary"
           }
          ],
          "surface": [
           {
            "colorbar": {
             "outlinewidth": 0,
             "ticks": ""
            },
            "colorscale": [
             [
              0,
              "#0d0887"
             ],
             [
              0.1111111111111111,
              "#46039f"
             ],
             [
              0.2222222222222222,
              "#7201a8"
             ],
             [
              0.3333333333333333,
              "#9c179e"
             ],
             [
              0.4444444444444444,
              "#bd3786"
             ],
             [
              0.5555555555555556,
              "#d8576b"
             ],
             [
              0.6666666666666666,
              "#ed7953"
             ],
             [
              0.7777777777777778,
              "#fb9f3a"
             ],
             [
              0.8888888888888888,
              "#fdca26"
             ],
             [
              1,
              "#f0f921"
             ]
            ],
            "type": "surface"
           }
          ],
          "table": [
           {
            "cells": {
             "fill": {
              "color": "#EBF0F8"
             },
             "line": {
              "color": "white"
             }
            },
            "header": {
             "fill": {
              "color": "#C8D4E3"
             },
             "line": {
              "color": "white"
             }
            },
            "type": "table"
           }
          ]
         },
         "layout": {
          "annotationdefaults": {
           "arrowcolor": "#2a3f5f",
           "arrowhead": 0,
           "arrowwidth": 1
          },
          "autotypenumbers": "strict",
          "coloraxis": {
           "colorbar": {
            "outlinewidth": 0,
            "ticks": ""
           }
          },
          "colorscale": {
           "diverging": [
            [
             0,
             "#8e0152"
            ],
            [
             0.1,
             "#c51b7d"
            ],
            [
             0.2,
             "#de77ae"
            ],
            [
             0.3,
             "#f1b6da"
            ],
            [
             0.4,
             "#fde0ef"
            ],
            [
             0.5,
             "#f7f7f7"
            ],
            [
             0.6,
             "#e6f5d0"
            ],
            [
             0.7,
             "#b8e186"
            ],
            [
             0.8,
             "#7fbc41"
            ],
            [
             0.9,
             "#4d9221"
            ],
            [
             1,
             "#276419"
            ]
           ],
           "sequential": [
            [
             0,
             "#0d0887"
            ],
            [
             0.1111111111111111,
             "#46039f"
            ],
            [
             0.2222222222222222,
             "#7201a8"
            ],
            [
             0.3333333333333333,
             "#9c179e"
            ],
            [
             0.4444444444444444,
             "#bd3786"
            ],
            [
             0.5555555555555556,
             "#d8576b"
            ],
            [
             0.6666666666666666,
             "#ed7953"
            ],
            [
             0.7777777777777778,
             "#fb9f3a"
            ],
            [
             0.8888888888888888,
             "#fdca26"
            ],
            [
             1,
             "#f0f921"
            ]
           ],
           "sequentialminus": [
            [
             0,
             "#0d0887"
            ],
            [
             0.1111111111111111,
             "#46039f"
            ],
            [
             0.2222222222222222,
             "#7201a8"
            ],
            [
             0.3333333333333333,
             "#9c179e"
            ],
            [
             0.4444444444444444,
             "#bd3786"
            ],
            [
             0.5555555555555556,
             "#d8576b"
            ],
            [
             0.6666666666666666,
             "#ed7953"
            ],
            [
             0.7777777777777778,
             "#fb9f3a"
            ],
            [
             0.8888888888888888,
             "#fdca26"
            ],
            [
             1,
             "#f0f921"
            ]
           ]
          },
          "colorway": [
           "#636efa",
           "#EF553B",
           "#00cc96",
           "#ab63fa",
           "#FFA15A",
           "#19d3f3",
           "#FF6692",
           "#B6E880",
           "#FF97FF",
           "#FECB52"
          ],
          "font": {
           "color": "#2a3f5f"
          },
          "geo": {
           "bgcolor": "white",
           "lakecolor": "white",
           "landcolor": "#E5ECF6",
           "showlakes": true,
           "showland": true,
           "subunitcolor": "white"
          },
          "hoverlabel": {
           "align": "left"
          },
          "hovermode": "closest",
          "mapbox": {
           "style": "light"
          },
          "paper_bgcolor": "white",
          "plot_bgcolor": "#E5ECF6",
          "polar": {
           "angularaxis": {
            "gridcolor": "white",
            "linecolor": "white",
            "ticks": ""
           },
           "bgcolor": "#E5ECF6",
           "radialaxis": {
            "gridcolor": "white",
            "linecolor": "white",
            "ticks": ""
           }
          },
          "scene": {
           "xaxis": {
            "backgroundcolor": "#E5ECF6",
            "gridcolor": "white",
            "gridwidth": 2,
            "linecolor": "white",
            "showbackground": true,
            "ticks": "",
            "zerolinecolor": "white"
           },
           "yaxis": {
            "backgroundcolor": "#E5ECF6",
            "gridcolor": "white",
            "gridwidth": 2,
            "linecolor": "white",
            "showbackground": true,
            "ticks": "",
            "zerolinecolor": "white"
           },
           "zaxis": {
            "backgroundcolor": "#E5ECF6",
            "gridcolor": "white",
            "gridwidth": 2,
            "linecolor": "white",
            "showbackground": true,
            "ticks": "",
            "zerolinecolor": "white"
           }
          },
          "shapedefaults": {
           "line": {
            "color": "#2a3f5f"
           }
          },
          "ternary": {
           "aaxis": {
            "gridcolor": "white",
            "linecolor": "white",
            "ticks": ""
           },
           "baxis": {
            "gridcolor": "white",
            "linecolor": "white",
            "ticks": ""
           },
           "bgcolor": "#E5ECF6",
           "caxis": {
            "gridcolor": "white",
            "linecolor": "white",
            "ticks": ""
           }
          },
          "title": {
           "x": 0.05
          },
          "xaxis": {
           "automargin": true,
           "gridcolor": "white",
           "linecolor": "white",
           "ticks": "",
           "title": {
            "standoff": 15
           },
           "zerolinecolor": "white",
           "zerolinewidth": 2
          },
          "yaxis": {
           "automargin": true,
           "gridcolor": "white",
           "linecolor": "white",
           "ticks": "",
           "title": {
            "standoff": 15
           },
           "zerolinecolor": "white",
           "zerolinewidth": 2
          }
         }
        },
        "title": {
         "text": "Taux de valeurs présentes par colonnes"
        },
        "xaxis": {
         "anchor": "y",
         "domain": [
          0,
          1
         ],
         "tickangle": -45,
         "title": {
          "text": ""
         }
        },
        "yaxis": {
         "anchor": "x",
         "domain": [
          0,
          1
         ],
         "title": {
          "text": "Remplissage (en %)"
         }
        }
       }
      },
      "text/html": [
       "<div>                            <div id=\"0057beb1-0e59-48af-a213-30a1102e6d22\" class=\"plotly-graph-div\" style=\"height:600px; width:100%;\"></div>            <script type=\"text/javascript\">                require([\"plotly\"], function(Plotly) {                    window.PLOTLYENV=window.PLOTLYENV || {};                                    if (document.getElementById(\"0057beb1-0e59-48af-a213-30a1102e6d22\")) {                    Plotly.newPlot(                        \"0057beb1-0e59-48af-a213-30a1102e6d22\",                        [{\"alignmentgroup\":\"True\",\"hovertemplate\":\"=%{x}<br>Remplissage (en %)=%{marker.color}<extra></extra>\",\"legendgroup\":\"\",\"marker\":{\"color\":[100.0,100.0,96.19369295357598,25.58894868053292,44.89944908596941,20.520060002824287,33.45708101713491,8.845087735035486,6.057079063224113,23.56669541283915,23.39257531660016,33.5348377854375,19.282790397771834,34.476889231908785,34.476889231908785,30.177308523402967,99.9612326335076,99.96132144763475,100.0,22.950192149364046,99.94253725974669,44.89944908596941,7.236441857387603,77.15012340722964,79.3430774272679,78.91961166911054,76.88812173219522,2.151211380286994,2.149923575443604,11.784036015904833,11.962552411436773,78.90007256114187,78.0815171584453,28.420254239320325,78.98284732762733,72.83886364100618,72.8387304198155,1.116526799218791,9.45670622151842,9.80428030804292,1.0648369772289459,1.0242933281939557,1.0702102319203302,4.116490385426667,12.07339244209541,11.800511036487508,33.47479943549741,34.47715567429018],\"coloraxis\":\"coloraxis\",\"pattern\":{\"shape\":\"\"}},\"name\":\"\",\"offsetgroup\":\"\",\"orientation\":\"v\",\"showlegend\":false,\"textposition\":\"auto\",\"x\":[\"code\",\"url\",\"product_name\",\"quantity\",\"categories_tags\",\"labels_tags\",\"ingredients_tags\",\"allergens\",\"traces_tags\",\"serving_size\",\"serving_quantity\",\"additives_n\",\"additives_tags\",\"nutriscore_score\",\"nutriscore_grade\",\"nova_group\",\"pnns_groups_1\",\"pnns_groups_2\",\"states_tags\",\"ecoscore_score\",\"ecoscore_grade\",\"main_category\",\"energy-kj_100g\",\"energy-kcal_100g\",\"energy_100g\",\"fat_100g\",\"saturated-fat_100g\",\"monounsaturated-fat_100g\",\"polyunsaturated-fat_100g\",\"trans-fat_100g\",\"cholesterol_100g\",\"carbohydrates_100g\",\"sugars_100g\",\"fiber_100g\",\"proteins_100g\",\"salt_100g\",\"sodium_100g\",\"alcohol_100g\",\"vitamin-a_100g\",\"vitamin-c_100g\",\"vitamin-b1_100g\",\"vitamin-b2_100g\",\"vitamin-pp_100g\",\"potassium_100g\",\"calcium_100g\",\"iron_100g\",\"fruits-vegetables-nuts-estimate-from-ingredients_100g\",\"nutrition-score-fr_100g\"],\"xaxis\":\"x\",\"y\":[100.0,100.0,96.19369295357598,25.58894868053292,44.89944908596941,20.520060002824287,33.45708101713491,8.845087735035486,6.057079063224113,23.56669541283915,23.39257531660016,33.5348377854375,19.282790397771834,34.476889231908785,34.476889231908785,30.177308523402967,99.9612326335076,99.96132144763475,100.0,22.950192149364046,99.94253725974669,44.89944908596941,7.236441857387603,77.15012340722964,79.3430774272679,78.91961166911054,76.88812173219522,2.151211380286994,2.149923575443604,11.784036015904833,11.962552411436773,78.90007256114187,78.0815171584453,28.420254239320325,78.98284732762733,72.83886364100618,72.8387304198155,1.116526799218791,9.45670622151842,9.80428030804292,1.0648369772289459,1.0242933281939557,1.0702102319203302,4.116490385426667,12.07339244209541,11.800511036487508,33.47479943549741,34.47715567429018],\"yaxis\":\"y\",\"type\":\"bar\"}],                        {\"template\":{\"data\":{\"histogram2dcontour\":[{\"type\":\"histogram2dcontour\",\"colorbar\":{\"outlinewidth\":0,\"ticks\":\"\"},\"colorscale\":[[0.0,\"#0d0887\"],[0.1111111111111111,\"#46039f\"],[0.2222222222222222,\"#7201a8\"],[0.3333333333333333,\"#9c179e\"],[0.4444444444444444,\"#bd3786\"],[0.5555555555555556,\"#d8576b\"],[0.6666666666666666,\"#ed7953\"],[0.7777777777777778,\"#fb9f3a\"],[0.8888888888888888,\"#fdca26\"],[1.0,\"#f0f921\"]]}],\"choropleth\":[{\"type\":\"choropleth\",\"colorbar\":{\"outlinewidth\":0,\"ticks\":\"\"}}],\"histogram2d\":[{\"type\":\"histogram2d\",\"colorbar\":{\"outlinewidth\":0,\"ticks\":\"\"},\"colorscale\":[[0.0,\"#0d0887\"],[0.1111111111111111,\"#46039f\"],[0.2222222222222222,\"#7201a8\"],[0.3333333333333333,\"#9c179e\"],[0.4444444444444444,\"#bd3786\"],[0.5555555555555556,\"#d8576b\"],[0.6666666666666666,\"#ed7953\"],[0.7777777777777778,\"#fb9f3a\"],[0.8888888888888888,\"#fdca26\"],[1.0,\"#f0f921\"]]}],\"heatmap\":[{\"type\":\"heatmap\",\"colorbar\":{\"outlinewidth\":0,\"ticks\":\"\"},\"colorscale\":[[0.0,\"#0d0887\"],[0.1111111111111111,\"#46039f\"],[0.2222222222222222,\"#7201a8\"],[0.3333333333333333,\"#9c179e\"],[0.4444444444444444,\"#bd3786\"],[0.5555555555555556,\"#d8576b\"],[0.6666666666666666,\"#ed7953\"],[0.7777777777777778,\"#fb9f3a\"],[0.8888888888888888,\"#fdca26\"],[1.0,\"#f0f921\"]]}],\"heatmapgl\":[{\"type\":\"heatmapgl\",\"colorbar\":{\"outlinewidth\":0,\"ticks\":\"\"},\"colorscale\":[[0.0,\"#0d0887\"],[0.1111111111111111,\"#46039f\"],[0.2222222222222222,\"#7201a8\"],[0.3333333333333333,\"#9c179e\"],[0.4444444444444444,\"#bd3786\"],[0.5555555555555556,\"#d8576b\"],[0.6666666666666666,\"#ed7953\"],[0.7777777777777778,\"#fb9f3a\"],[0.8888888888888888,\"#fdca26\"],[1.0,\"#f0f921\"]]}],\"contourcarpet\":[{\"type\":\"contourcarpet\",\"colorbar\":{\"outlinewidth\":0,\"ticks\":\"\"}}],\"contour\":[{\"type\":\"contour\",\"colorbar\":{\"outlinewidth\":0,\"ticks\":\"\"},\"colorscale\":[[0.0,\"#0d0887\"],[0.1111111111111111,\"#46039f\"],[0.2222222222222222,\"#7201a8\"],[0.3333333333333333,\"#9c179e\"],[0.4444444444444444,\"#bd3786\"],[0.5555555555555556,\"#d8576b\"],[0.6666666666666666,\"#ed7953\"],[0.7777777777777778,\"#fb9f3a\"],[0.8888888888888888,\"#fdca26\"],[1.0,\"#f0f921\"]]}],\"surface\":[{\"type\":\"surface\",\"colorbar\":{\"outlinewidth\":0,\"ticks\":\"\"},\"colorscale\":[[0.0,\"#0d0887\"],[0.1111111111111111,\"#46039f\"],[0.2222222222222222,\"#7201a8\"],[0.3333333333333333,\"#9c179e\"],[0.4444444444444444,\"#bd3786\"],[0.5555555555555556,\"#d8576b\"],[0.6666666666666666,\"#ed7953\"],[0.7777777777777778,\"#fb9f3a\"],[0.8888888888888888,\"#fdca26\"],[1.0,\"#f0f921\"]]}],\"mesh3d\":[{\"type\":\"mesh3d\",\"colorbar\":{\"outlinewidth\":0,\"ticks\":\"\"}}],\"scatter\":[{\"fillpattern\":{\"fillmode\":\"overlay\",\"size\":10,\"solidity\":0.2},\"type\":\"scatter\"}],\"parcoords\":[{\"type\":\"parcoords\",\"line\":{\"colorbar\":{\"outlinewidth\":0,\"ticks\":\"\"}}}],\"scatterpolargl\":[{\"type\":\"scatterpolargl\",\"marker\":{\"colorbar\":{\"outlinewidth\":0,\"ticks\":\"\"}}}],\"bar\":[{\"error_x\":{\"color\":\"#2a3f5f\"},\"error_y\":{\"color\":\"#2a3f5f\"},\"marker\":{\"line\":{\"color\":\"#E5ECF6\",\"width\":0.5},\"pattern\":{\"fillmode\":\"overlay\",\"size\":10,\"solidity\":0.2}},\"type\":\"bar\"}],\"scattergeo\":[{\"type\":\"scattergeo\",\"marker\":{\"colorbar\":{\"outlinewidth\":0,\"ticks\":\"\"}}}],\"scatterpolar\":[{\"type\":\"scatterpolar\",\"marker\":{\"colorbar\":{\"outlinewidth\":0,\"ticks\":\"\"}}}],\"histogram\":[{\"marker\":{\"pattern\":{\"fillmode\":\"overlay\",\"size\":10,\"solidity\":0.2}},\"type\":\"histogram\"}],\"scattergl\":[{\"type\":\"scattergl\",\"marker\":{\"colorbar\":{\"outlinewidth\":0,\"ticks\":\"\"}}}],\"scatter3d\":[{\"type\":\"scatter3d\",\"line\":{\"colorbar\":{\"outlinewidth\":0,\"ticks\":\"\"}},\"marker\":{\"colorbar\":{\"outlinewidth\":0,\"ticks\":\"\"}}}],\"scattermapbox\":[{\"type\":\"scattermapbox\",\"marker\":{\"colorbar\":{\"outlinewidth\":0,\"ticks\":\"\"}}}],\"scatterternary\":[{\"type\":\"scatterternary\",\"marker\":{\"colorbar\":{\"outlinewidth\":0,\"ticks\":\"\"}}}],\"scattercarpet\":[{\"type\":\"scattercarpet\",\"marker\":{\"colorbar\":{\"outlinewidth\":0,\"ticks\":\"\"}}}],\"carpet\":[{\"aaxis\":{\"endlinecolor\":\"#2a3f5f\",\"gridcolor\":\"white\",\"linecolor\":\"white\",\"minorgridcolor\":\"white\",\"startlinecolor\":\"#2a3f5f\"},\"baxis\":{\"endlinecolor\":\"#2a3f5f\",\"gridcolor\":\"white\",\"linecolor\":\"white\",\"minorgridcolor\":\"white\",\"startlinecolor\":\"#2a3f5f\"},\"type\":\"carpet\"}],\"table\":[{\"cells\":{\"fill\":{\"color\":\"#EBF0F8\"},\"line\":{\"color\":\"white\"}},\"header\":{\"fill\":{\"color\":\"#C8D4E3\"},\"line\":{\"color\":\"white\"}},\"type\":\"table\"}],\"barpolar\":[{\"marker\":{\"line\":{\"color\":\"#E5ECF6\",\"width\":0.5},\"pattern\":{\"fillmode\":\"overlay\",\"size\":10,\"solidity\":0.2}},\"type\":\"barpolar\"}],\"pie\":[{\"automargin\":true,\"type\":\"pie\"}]},\"layout\":{\"autotypenumbers\":\"strict\",\"colorway\":[\"#636efa\",\"#EF553B\",\"#00cc96\",\"#ab63fa\",\"#FFA15A\",\"#19d3f3\",\"#FF6692\",\"#B6E880\",\"#FF97FF\",\"#FECB52\"],\"font\":{\"color\":\"#2a3f5f\"},\"hovermode\":\"closest\",\"hoverlabel\":{\"align\":\"left\"},\"paper_bgcolor\":\"white\",\"plot_bgcolor\":\"#E5ECF6\",\"polar\":{\"bgcolor\":\"#E5ECF6\",\"angularaxis\":{\"gridcolor\":\"white\",\"linecolor\":\"white\",\"ticks\":\"\"},\"radialaxis\":{\"gridcolor\":\"white\",\"linecolor\":\"white\",\"ticks\":\"\"}},\"ternary\":{\"bgcolor\":\"#E5ECF6\",\"aaxis\":{\"gridcolor\":\"white\",\"linecolor\":\"white\",\"ticks\":\"\"},\"baxis\":{\"gridcolor\":\"white\",\"linecolor\":\"white\",\"ticks\":\"\"},\"caxis\":{\"gridcolor\":\"white\",\"linecolor\":\"white\",\"ticks\":\"\"}},\"coloraxis\":{\"colorbar\":{\"outlinewidth\":0,\"ticks\":\"\"}},\"colorscale\":{\"sequential\":[[0.0,\"#0d0887\"],[0.1111111111111111,\"#46039f\"],[0.2222222222222222,\"#7201a8\"],[0.3333333333333333,\"#9c179e\"],[0.4444444444444444,\"#bd3786\"],[0.5555555555555556,\"#d8576b\"],[0.6666666666666666,\"#ed7953\"],[0.7777777777777778,\"#fb9f3a\"],[0.8888888888888888,\"#fdca26\"],[1.0,\"#f0f921\"]],\"sequentialminus\":[[0.0,\"#0d0887\"],[0.1111111111111111,\"#46039f\"],[0.2222222222222222,\"#7201a8\"],[0.3333333333333333,\"#9c179e\"],[0.4444444444444444,\"#bd3786\"],[0.5555555555555556,\"#d8576b\"],[0.6666666666666666,\"#ed7953\"],[0.7777777777777778,\"#fb9f3a\"],[0.8888888888888888,\"#fdca26\"],[1.0,\"#f0f921\"]],\"diverging\":[[0,\"#8e0152\"],[0.1,\"#c51b7d\"],[0.2,\"#de77ae\"],[0.3,\"#f1b6da\"],[0.4,\"#fde0ef\"],[0.5,\"#f7f7f7\"],[0.6,\"#e6f5d0\"],[0.7,\"#b8e186\"],[0.8,\"#7fbc41\"],[0.9,\"#4d9221\"],[1,\"#276419\"]]},\"xaxis\":{\"gridcolor\":\"white\",\"linecolor\":\"white\",\"ticks\":\"\",\"title\":{\"standoff\":15},\"zerolinecolor\":\"white\",\"automargin\":true,\"zerolinewidth\":2},\"yaxis\":{\"gridcolor\":\"white\",\"linecolor\":\"white\",\"ticks\":\"\",\"title\":{\"standoff\":15},\"zerolinecolor\":\"white\",\"automargin\":true,\"zerolinewidth\":2},\"scene\":{\"xaxis\":{\"backgroundcolor\":\"#E5ECF6\",\"gridcolor\":\"white\",\"linecolor\":\"white\",\"showbackground\":true,\"ticks\":\"\",\"zerolinecolor\":\"white\",\"gridwidth\":2},\"yaxis\":{\"backgroundcolor\":\"#E5ECF6\",\"gridcolor\":\"white\",\"linecolor\":\"white\",\"showbackground\":true,\"ticks\":\"\",\"zerolinecolor\":\"white\",\"gridwidth\":2},\"zaxis\":{\"backgroundcolor\":\"#E5ECF6\",\"gridcolor\":\"white\",\"linecolor\":\"white\",\"showbackground\":true,\"ticks\":\"\",\"zerolinecolor\":\"white\",\"gridwidth\":2}},\"shapedefaults\":{\"line\":{\"color\":\"#2a3f5f\"}},\"annotationdefaults\":{\"arrowcolor\":\"#2a3f5f\",\"arrowhead\":0,\"arrowwidth\":1},\"geo\":{\"bgcolor\":\"white\",\"landcolor\":\"#E5ECF6\",\"subunitcolor\":\"white\",\"showland\":true,\"showlakes\":true,\"lakecolor\":\"white\"},\"title\":{\"x\":0.05},\"mapbox\":{\"style\":\"light\"}}},\"xaxis\":{\"anchor\":\"y\",\"domain\":[0.0,1.0],\"title\":{\"text\":\"\"},\"tickangle\":-45},\"yaxis\":{\"anchor\":\"x\",\"domain\":[0.0,1.0],\"title\":{\"text\":\"Remplissage (en %)\"}},\"coloraxis\":{\"colorbar\":{\"title\":{\"text\":\"Remplissage (en %)\"}},\"colorscale\":[[0.0,\"#0d0887\"],[0.1111111111111111,\"#46039f\"],[0.2222222222222222,\"#7201a8\"],[0.3333333333333333,\"#9c179e\"],[0.4444444444444444,\"#bd3786\"],[0.5555555555555556,\"#d8576b\"],[0.6666666666666666,\"#ed7953\"],[0.7777777777777778,\"#fb9f3a\"],[0.8888888888888888,\"#fdca26\"],[1.0,\"#f0f921\"]],\"showscale\":false},\"legend\":{\"tracegroupgap\":0},\"title\":{\"text\":\"Taux de valeurs pr\\u00e9sentes par colonnes\"},\"barmode\":\"relative\",\"height\":600},                        {\"responsive\": true}                    ).then(function(){\n",
       "                            \n",
       "var gd = document.getElementById('0057beb1-0e59-48af-a213-30a1102e6d22');\n",
       "var x = new MutationObserver(function (mutations, observer) {{\n",
       "        var display = window.getComputedStyle(gd).display;\n",
       "        if (!display || display === 'none') {{\n",
       "            console.log([gd, 'removed!']);\n",
       "            Plotly.purge(gd);\n",
       "            observer.disconnect();\n",
       "        }}\n",
       "}});\n",
       "\n",
       "// Listen for the removal of the full notebook cells\n",
       "var notebookContainer = gd.closest('#notebook-container');\n",
       "if (notebookContainer) {{\n",
       "    x.observe(notebookContainer, {childList: true});\n",
       "}}\n",
       "\n",
       "// Listen for the clearing of the current output cell\n",
       "var outputEl = gd.closest('.output');\n",
       "if (outputEl) {{\n",
       "    x.observe(outputEl, {childList: true});\n",
       "}}\n",
       "\n",
       "                        })                };                });            </script>        </div>"
      ]
     },
     "metadata": {},
     "output_type": "display_data"
    }
   ],
   "source": [
    "fill_ratio_df = pd.DataFrame(fill_ratio, columns=[\"fill_rate\"])\n",
    "\n",
    "fig = px.bar(fill_ratio_df, y=\"fill_rate\", \n",
    "             #width=900,\n",
    "             height=600,\n",
    "             color='fill_rate', \n",
    "             title=\"Taux de valeurs présentes par colonnes\",\n",
    "             labels={\n",
    "                \"fill_rate\": \"Remplissage (en %)\",\n",
    "                \"index\": \"\",\n",
    "                },\n",
    "            )\n",
    "fig.update_coloraxes(showscale=False)\n",
    "fig.update_xaxes(tickangle = -45)\n",
    "fig.show()"
   ]
  },
  {
   "cell_type": "markdown",
   "metadata": {},
   "source": [
    "> Visiblement, même allégé des colonnes les plus vides, ce jeu de données présente encore beaucoup de trous."
   ]
  },
  {
   "cell_type": "markdown",
   "metadata": {},
   "source": [
    "## Supprimons les doublons"
   ]
  },
  {
   "cell_type": "code",
   "execution_count": 52,
   "metadata": {},
   "outputs": [],
   "source": [
    "data_duplicate = data.copy()"
   ]
  },
  {
   "cell_type": "markdown",
   "metadata": {},
   "source": [
    "#### Commençons par supprimer les produits en double sur la base du code-barre"
   ]
  },
  {
   "cell_type": "code",
   "execution_count": 53,
   "metadata": {},
   "outputs": [
    {
     "data": {
      "text/plain": [
       "21"
      ]
     },
     "execution_count": 53,
     "metadata": {},
     "output_type": "execute_result"
    }
   ],
   "source": [
    "duplicated = data_duplicate.code.duplicated(keep='first')\n",
    "duplicated.sum()"
   ]
  },
  {
   "cell_type": "code",
   "execution_count": 54,
   "metadata": {},
   "outputs": [],
   "source": [
    "data_duplicate.drop_duplicates(subset=['code'], inplace=True) "
   ]
  },
  {
   "cell_type": "markdown",
   "metadata": {},
   "source": [
    "> Nous avons donc supprimé 21 produits en double.\n",
    "\n",
    "#### Ensuite vérifions si il y a des lignes similaires en excluant le code-barre"
   ]
  },
  {
   "cell_type": "code",
   "execution_count": 55,
   "metadata": {},
   "outputs": [],
   "source": [
    "cols_without_code = list(data_duplicate.columns)\n",
    "cols_without_code.remove(\"code\")"
   ]
  },
  {
   "cell_type": "code",
   "execution_count": 56,
   "metadata": {},
   "outputs": [
    {
     "data": {
      "text/plain": [
       "0"
      ]
     },
     "execution_count": 56,
     "metadata": {},
     "output_type": "execute_result"
    }
   ],
   "source": [
    "duplicated = data_duplicate[cols_without_code].duplicated(keep='first')\n",
    "duplicated.sum()"
   ]
  },
  {
   "cell_type": "markdown",
   "metadata": {},
   "source": [
    "> Il n'y a visiblement pasd'autres doublons.\n",
    "\n",
    "#### Reportons les modifications sur le data_clean"
   ]
  },
  {
   "cell_type": "code",
   "execution_count": 57,
   "metadata": {},
   "outputs": [
    {
     "data": {
      "text/plain": [
       "(2251873, 48)"
      ]
     },
     "execution_count": 57,
     "metadata": {},
     "output_type": "execute_result"
    }
   ],
   "source": [
    "data_clean = data_duplicate.copy()\n",
    "data_clean.shape"
   ]
  },
  {
   "cell_type": "markdown",
   "metadata": {},
   "source": [
    "## Supprimons les valeurs aberrantes"
   ]
  },
  {
   "cell_type": "code",
   "execution_count": 58,
   "metadata": {},
   "outputs": [
    {
     "data": {
      "text/html": [
       "<div>\n",
       "<style scoped>\n",
       "    .dataframe tbody tr th:only-of-type {\n",
       "        vertical-align: middle;\n",
       "    }\n",
       "\n",
       "    .dataframe tbody tr th {\n",
       "        vertical-align: top;\n",
       "    }\n",
       "\n",
       "    .dataframe thead th {\n",
       "        text-align: right;\n",
       "    }\n",
       "</style>\n",
       "<table border=\"1\" class=\"dataframe\">\n",
       "  <thead>\n",
       "    <tr style=\"text-align: right;\">\n",
       "      <th></th>\n",
       "      <th>count</th>\n",
       "      <th>mean</th>\n",
       "      <th>std</th>\n",
       "      <th>min</th>\n",
       "      <th>25%</th>\n",
       "      <th>50%</th>\n",
       "      <th>75%</th>\n",
       "      <th>max</th>\n",
       "    </tr>\n",
       "  </thead>\n",
       "  <tbody>\n",
       "    <tr>\n",
       "      <th>serving_quantity</th>\n",
       "      <td>526772.000</td>\n",
       "      <td>21092905601827232.000</td>\n",
       "      <td>15308976251396298752.000</td>\n",
       "      <td>0.000</td>\n",
       "      <td>28.000</td>\n",
       "      <td>55.000</td>\n",
       "      <td>114.000</td>\n",
       "      <td>11111111111111100858368.000</td>\n",
       "    </tr>\n",
       "    <tr>\n",
       "      <th>additives_n</th>\n",
       "      <td>755157.000</td>\n",
       "      <td>2.013</td>\n",
       "      <td>2.880</td>\n",
       "      <td>0.000</td>\n",
       "      <td>0.000</td>\n",
       "      <td>1.000</td>\n",
       "      <td>3.000</td>\n",
       "      <td>49.000</td>\n",
       "    </tr>\n",
       "    <tr>\n",
       "      <th>nutriscore_score</th>\n",
       "      <td>776372.000</td>\n",
       "      <td>9.091</td>\n",
       "      <td>8.848</td>\n",
       "      <td>-15.000</td>\n",
       "      <td>1.000</td>\n",
       "      <td>10.000</td>\n",
       "      <td>16.000</td>\n",
       "      <td>40.000</td>\n",
       "    </tr>\n",
       "    <tr>\n",
       "      <th>nova_group</th>\n",
       "      <td>679549.000</td>\n",
       "      <td>3.382</td>\n",
       "      <td>0.992</td>\n",
       "      <td>1.000</td>\n",
       "      <td>3.000</td>\n",
       "      <td>4.000</td>\n",
       "      <td>4.000</td>\n",
       "      <td>4.000</td>\n",
       "    </tr>\n",
       "    <tr>\n",
       "      <th>ecoscore_score</th>\n",
       "      <td>516799.000</td>\n",
       "      <td>43.545</td>\n",
       "      <td>25.704</td>\n",
       "      <td>-30.000</td>\n",
       "      <td>27.000</td>\n",
       "      <td>39.000</td>\n",
       "      <td>65.000</td>\n",
       "      <td>125.000</td>\n",
       "    </tr>\n",
       "    <tr>\n",
       "      <th>energy-kj_100g</th>\n",
       "      <td>162948.000</td>\n",
       "      <td>40906049100871989863344482413210238976.000</td>\n",
       "      <td>16512470414618234403468769868866868215808.000</td>\n",
       "      <td>0.000</td>\n",
       "      <td>394.000</td>\n",
       "      <td>980.000</td>\n",
       "      <td>1619.000</td>\n",
       "      <td>6665558888888888950360610417759390841962496.000</td>\n",
       "    </tr>\n",
       "    <tr>\n",
       "      <th>energy-kcal_100g</th>\n",
       "      <td>1737326.000</td>\n",
       "      <td>62672736.834</td>\n",
       "      <td>76154364708.028</td>\n",
       "      <td>0.000</td>\n",
       "      <td>100.000</td>\n",
       "      <td>259.000</td>\n",
       "      <td>400.000</td>\n",
       "      <td>100000000376832.000</td>\n",
       "    </tr>\n",
       "    <tr>\n",
       "      <th>energy_100g</th>\n",
       "      <td>1786708.000</td>\n",
       "      <td>3730636952926213338818390095279685632.000</td>\n",
       "      <td>4986660235347371010035389652996064280576.000</td>\n",
       "      <td>0.000</td>\n",
       "      <td>418.000</td>\n",
       "      <td>1079.000</td>\n",
       "      <td>1674.000</td>\n",
       "      <td>6665558888888888950360610417759390841962496.000</td>\n",
       "    </tr>\n",
       "    <tr>\n",
       "      <th>fat_100g</th>\n",
       "      <td>1777171.000</td>\n",
       "      <td>562758957893.806</td>\n",
       "      <td>750128029477957.875</td>\n",
       "      <td>0.000</td>\n",
       "      <td>0.800</td>\n",
       "      <td>7.000</td>\n",
       "      <td>21.200</td>\n",
       "      <td>1000000000000000000.000</td>\n",
       "    </tr>\n",
       "    <tr>\n",
       "      <th>saturated-fat_100g</th>\n",
       "      <td>1731424.000</td>\n",
       "      <td>57722.781</td>\n",
       "      <td>75946196.215</td>\n",
       "      <td>0.000</td>\n",
       "      <td>0.100</td>\n",
       "      <td>1.800</td>\n",
       "      <td>7.000</td>\n",
       "      <td>99932728111.000</td>\n",
       "    </tr>\n",
       "    <tr>\n",
       "      <th>monounsaturated-fat_100g</th>\n",
       "      <td>48442.000</td>\n",
       "      <td>10.084</td>\n",
       "      <td>17.058</td>\n",
       "      <td>0.000</td>\n",
       "      <td>0.100</td>\n",
       "      <td>3.570</td>\n",
       "      <td>10.000</td>\n",
       "      <td>489.000</td>\n",
       "    </tr>\n",
       "    <tr>\n",
       "      <th>polyunsaturated-fat_100g</th>\n",
       "      <td>48413.000</td>\n",
       "      <td>5.944</td>\n",
       "      <td>12.024</td>\n",
       "      <td>0.000</td>\n",
       "      <td>0.000</td>\n",
       "      <td>2.140</td>\n",
       "      <td>7.000</td>\n",
       "      <td>1230.000</td>\n",
       "    </tr>\n",
       "    <tr>\n",
       "      <th>trans-fat_100g</th>\n",
       "      <td>265364.000</td>\n",
       "      <td>0.162</td>\n",
       "      <td>29.665</td>\n",
       "      <td>0.000</td>\n",
       "      <td>0.000</td>\n",
       "      <td>0.000</td>\n",
       "      <td>0.000</td>\n",
       "      <td>14800.000</td>\n",
       "    </tr>\n",
       "    <tr>\n",
       "      <th>cholesterol_100g</th>\n",
       "      <td>269384.000</td>\n",
       "      <td>0.060</td>\n",
       "      <td>1.951</td>\n",
       "      <td>0.000</td>\n",
       "      <td>0.000</td>\n",
       "      <td>0.000</td>\n",
       "      <td>0.022</td>\n",
       "      <td>381.000</td>\n",
       "    </tr>\n",
       "    <tr>\n",
       "      <th>carbohydrates_100g</th>\n",
       "      <td>1776731.000</td>\n",
       "      <td>56274.513</td>\n",
       "      <td>74971621.430</td>\n",
       "      <td>-1.000</td>\n",
       "      <td>3.529</td>\n",
       "      <td>15.380</td>\n",
       "      <td>53.000</td>\n",
       "      <td>99932728111.000</td>\n",
       "    </tr>\n",
       "    <tr>\n",
       "      <th>sugars_100g</th>\n",
       "      <td>1758299.000</td>\n",
       "      <td>56929998.668</td>\n",
       "      <td>75414325949.507</td>\n",
       "      <td>-1.000</td>\n",
       "      <td>0.600</td>\n",
       "      <td>3.570</td>\n",
       "      <td>17.100</td>\n",
       "      <td>100000000376832.000</td>\n",
       "    </tr>\n",
       "    <tr>\n",
       "      <th>fiber_100g</th>\n",
       "      <td>639986.000</td>\n",
       "      <td>153335776744520099937227044466793782444032.000</td>\n",
       "      <td>122667279700232120513699708630092248634097664.000</td>\n",
       "      <td>-6.700</td>\n",
       "      <td>0.000</td>\n",
       "      <td>1.600</td>\n",
       "      <td>3.700</td>\n",
       "      <td>98132750415618438665845168411918503733975056384...</td>\n",
       "    </tr>\n",
       "    <tr>\n",
       "      <th>proteins_100g</th>\n",
       "      <td>1778595.000</td>\n",
       "      <td>56199.316</td>\n",
       "      <td>74932325.524</td>\n",
       "      <td>-500.000</td>\n",
       "      <td>1.300</td>\n",
       "      <td>6.000</td>\n",
       "      <td>12.500</td>\n",
       "      <td>99932728111.000</td>\n",
       "    </tr>\n",
       "    <tr>\n",
       "      <th>salt_100g</th>\n",
       "      <td>1640239.000</td>\n",
       "      <td>60928.562</td>\n",
       "      <td>78028665.006</td>\n",
       "      <td>0.000</td>\n",
       "      <td>0.083</td>\n",
       "      <td>0.590</td>\n",
       "      <td>1.400</td>\n",
       "      <td>99932728111.000</td>\n",
       "    </tr>\n",
       "    <tr>\n",
       "      <th>sodium_100g</th>\n",
       "      <td>1640236.000</td>\n",
       "      <td>24371.469</td>\n",
       "      <td>31211494.545</td>\n",
       "      <td>0.000</td>\n",
       "      <td>0.033</td>\n",
       "      <td>0.236</td>\n",
       "      <td>0.560</td>\n",
       "      <td>39973091244.400</td>\n",
       "    </tr>\n",
       "    <tr>\n",
       "      <th>alcohol_100g</th>\n",
       "      <td>25142.000</td>\n",
       "      <td>19887041603699011584.000</td>\n",
       "      <td>3153334869918752964608.000</td>\n",
       "      <td>0.000</td>\n",
       "      <td>0.000</td>\n",
       "      <td>0.000</td>\n",
       "      <td>4.800</td>\n",
       "      <td>499999999999999991611392.000</td>\n",
       "    </tr>\n",
       "    <tr>\n",
       "      <th>vitamin-a_100g</th>\n",
       "      <td>212954.000</td>\n",
       "      <td>1.671</td>\n",
       "      <td>371.122</td>\n",
       "      <td>-0.000</td>\n",
       "      <td>0.000</td>\n",
       "      <td>0.000</td>\n",
       "      <td>0.000</td>\n",
       "      <td>150000.000</td>\n",
       "    </tr>\n",
       "    <tr>\n",
       "      <th>vitamin-c_100g</th>\n",
       "      <td>220781.000</td>\n",
       "      <td>0.114</td>\n",
       "      <td>21.591</td>\n",
       "      <td>0.000</td>\n",
       "      <td>0.000</td>\n",
       "      <td>0.000</td>\n",
       "      <td>0.004</td>\n",
       "      <td>8000.000</td>\n",
       "    </tr>\n",
       "    <tr>\n",
       "      <th>vitamin-b1_100g</th>\n",
       "      <td>23979.000</td>\n",
       "      <td>8.824</td>\n",
       "      <td>1164.291</td>\n",
       "      <td>0.000</td>\n",
       "      <td>0.000</td>\n",
       "      <td>0.001</td>\n",
       "      <td>0.001</td>\n",
       "      <td>180000.000</td>\n",
       "    </tr>\n",
       "    <tr>\n",
       "      <th>vitamin-b2_100g</th>\n",
       "      <td>23066.000</td>\n",
       "      <td>0.193</td>\n",
       "      <td>11.086</td>\n",
       "      <td>0.000</td>\n",
       "      <td>0.000</td>\n",
       "      <td>0.000</td>\n",
       "      <td>0.001</td>\n",
       "      <td>1300.000</td>\n",
       "    </tr>\n",
       "    <tr>\n",
       "      <th>vitamin-pp_100g</th>\n",
       "      <td>24100.000</td>\n",
       "      <td>0.260</td>\n",
       "      <td>17.043</td>\n",
       "      <td>0.000</td>\n",
       "      <td>0.003</td>\n",
       "      <td>0.005</td>\n",
       "      <td>0.009</td>\n",
       "      <td>2000.000</td>\n",
       "    </tr>\n",
       "    <tr>\n",
       "      <th>potassium_100g</th>\n",
       "      <td>92699.000</td>\n",
       "      <td>0.835</td>\n",
       "      <td>17.379</td>\n",
       "      <td>0.000</td>\n",
       "      <td>0.080</td>\n",
       "      <td>0.167</td>\n",
       "      <td>0.300</td>\n",
       "      <td>1917.000</td>\n",
       "    </tr>\n",
       "    <tr>\n",
       "      <th>calcium_100g</th>\n",
       "      <td>271880.000</td>\n",
       "      <td>736.131</td>\n",
       "      <td>383567.119</td>\n",
       "      <td>0.000</td>\n",
       "      <td>0.000</td>\n",
       "      <td>0.036</td>\n",
       "      <td>0.111</td>\n",
       "      <td>200000000.000</td>\n",
       "    </tr>\n",
       "    <tr>\n",
       "      <th>iron_100g</th>\n",
       "      <td>265735.000</td>\n",
       "      <td>0.038</td>\n",
       "      <td>6.442</td>\n",
       "      <td>-0.000</td>\n",
       "      <td>0.000</td>\n",
       "      <td>0.001</td>\n",
       "      <td>0.002</td>\n",
       "      <td>1800.000</td>\n",
       "    </tr>\n",
       "    <tr>\n",
       "      <th>fruits-vegetables-nuts-estimate-from-ingredients_100g</th>\n",
       "      <td>753804.000</td>\n",
       "      <td>8.602</td>\n",
       "      <td>36.118</td>\n",
       "      <td>0.000</td>\n",
       "      <td>0.000</td>\n",
       "      <td>0.000</td>\n",
       "      <td>0.500</td>\n",
       "      <td>13461.000</td>\n",
       "    </tr>\n",
       "    <tr>\n",
       "      <th>nutrition-score-fr_100g</th>\n",
       "      <td>776378.000</td>\n",
       "      <td>9.091</td>\n",
       "      <td>8.848</td>\n",
       "      <td>-15.000</td>\n",
       "      <td>1.000</td>\n",
       "      <td>10.000</td>\n",
       "      <td>16.000</td>\n",
       "      <td>40.000</td>\n",
       "    </tr>\n",
       "  </tbody>\n",
       "</table>\n",
       "</div>"
      ],
      "text/plain": [
       "                                                         count  \\\n",
       "serving_quantity                                    526772.000   \n",
       "additives_n                                         755157.000   \n",
       "nutriscore_score                                    776372.000   \n",
       "nova_group                                          679549.000   \n",
       "ecoscore_score                                      516799.000   \n",
       "energy-kj_100g                                      162948.000   \n",
       "energy-kcal_100g                                   1737326.000   \n",
       "energy_100g                                        1786708.000   \n",
       "fat_100g                                           1777171.000   \n",
       "saturated-fat_100g                                 1731424.000   \n",
       "monounsaturated-fat_100g                             48442.000   \n",
       "polyunsaturated-fat_100g                             48413.000   \n",
       "trans-fat_100g                                      265364.000   \n",
       "cholesterol_100g                                    269384.000   \n",
       "carbohydrates_100g                                 1776731.000   \n",
       "sugars_100g                                        1758299.000   \n",
       "fiber_100g                                          639986.000   \n",
       "proteins_100g                                      1778595.000   \n",
       "salt_100g                                          1640239.000   \n",
       "sodium_100g                                        1640236.000   \n",
       "alcohol_100g                                         25142.000   \n",
       "vitamin-a_100g                                      212954.000   \n",
       "vitamin-c_100g                                      220781.000   \n",
       "vitamin-b1_100g                                      23979.000   \n",
       "vitamin-b2_100g                                      23066.000   \n",
       "vitamin-pp_100g                                      24100.000   \n",
       "potassium_100g                                       92699.000   \n",
       "calcium_100g                                        271880.000   \n",
       "iron_100g                                           265735.000   \n",
       "fruits-vegetables-nuts-estimate-from-ingredient...  753804.000   \n",
       "nutrition-score-fr_100g                             776378.000   \n",
       "\n",
       "                                                                                             mean  \\\n",
       "serving_quantity                                                            21092905601827232.000   \n",
       "additives_n                                                                                 2.013   \n",
       "nutriscore_score                                                                            9.091   \n",
       "nova_group                                                                                  3.382   \n",
       "ecoscore_score                                                                             43.545   \n",
       "energy-kj_100g                                         40906049100871989863344482413210238976.000   \n",
       "energy-kcal_100g                                                                     62672736.834   \n",
       "energy_100g                                             3730636952926213338818390095279685632.000   \n",
       "fat_100g                                                                         562758957893.806   \n",
       "saturated-fat_100g                                                                      57722.781   \n",
       "monounsaturated-fat_100g                                                                   10.084   \n",
       "polyunsaturated-fat_100g                                                                    5.944   \n",
       "trans-fat_100g                                                                              0.162   \n",
       "cholesterol_100g                                                                            0.060   \n",
       "carbohydrates_100g                                                                      56274.513   \n",
       "sugars_100g                                                                          56929998.668   \n",
       "fiber_100g                                         153335776744520099937227044466793782444032.000   \n",
       "proteins_100g                                                                           56199.316   \n",
       "salt_100g                                                                               60928.562   \n",
       "sodium_100g                                                                             24371.469   \n",
       "alcohol_100g                                                             19887041603699011584.000   \n",
       "vitamin-a_100g                                                                              1.671   \n",
       "vitamin-c_100g                                                                              0.114   \n",
       "vitamin-b1_100g                                                                             8.824   \n",
       "vitamin-b2_100g                                                                             0.193   \n",
       "vitamin-pp_100g                                                                             0.260   \n",
       "potassium_100g                                                                              0.835   \n",
       "calcium_100g                                                                              736.131   \n",
       "iron_100g                                                                                   0.038   \n",
       "fruits-vegetables-nuts-estimate-from-ingredient...                                          8.602   \n",
       "nutrition-score-fr_100g                                                                     9.091   \n",
       "\n",
       "                                                                                                 std  \\\n",
       "serving_quantity                                                            15308976251396298752.000   \n",
       "additives_n                                                                                    2.880   \n",
       "nutriscore_score                                                                               8.848   \n",
       "nova_group                                                                                     0.992   \n",
       "ecoscore_score                                                                                25.704   \n",
       "energy-kj_100g                                         16512470414618234403468769868866868215808.000   \n",
       "energy-kcal_100g                                                                     76154364708.028   \n",
       "energy_100g                                             4986660235347371010035389652996064280576.000   \n",
       "fat_100g                                                                         750128029477957.875   \n",
       "saturated-fat_100g                                                                      75946196.215   \n",
       "monounsaturated-fat_100g                                                                      17.058   \n",
       "polyunsaturated-fat_100g                                                                      12.024   \n",
       "trans-fat_100g                                                                                29.665   \n",
       "cholesterol_100g                                                                               1.951   \n",
       "carbohydrates_100g                                                                      74971621.430   \n",
       "sugars_100g                                                                          75414325949.507   \n",
       "fiber_100g                                         122667279700232120513699708630092248634097664.000   \n",
       "proteins_100g                                                                           74932325.524   \n",
       "salt_100g                                                                               78028665.006   \n",
       "sodium_100g                                                                             31211494.545   \n",
       "alcohol_100g                                                              3153334869918752964608.000   \n",
       "vitamin-a_100g                                                                               371.122   \n",
       "vitamin-c_100g                                                                                21.591   \n",
       "vitamin-b1_100g                                                                             1164.291   \n",
       "vitamin-b2_100g                                                                               11.086   \n",
       "vitamin-pp_100g                                                                               17.043   \n",
       "potassium_100g                                                                                17.379   \n",
       "calcium_100g                                                                              383567.119   \n",
       "iron_100g                                                                                      6.442   \n",
       "fruits-vegetables-nuts-estimate-from-ingredient...                                            36.118   \n",
       "nutrition-score-fr_100g                                                                        8.848   \n",
       "\n",
       "                                                        min     25%      50%  \\\n",
       "serving_quantity                                      0.000  28.000   55.000   \n",
       "additives_n                                           0.000   0.000    1.000   \n",
       "nutriscore_score                                    -15.000   1.000   10.000   \n",
       "nova_group                                            1.000   3.000    4.000   \n",
       "ecoscore_score                                      -30.000  27.000   39.000   \n",
       "energy-kj_100g                                        0.000 394.000  980.000   \n",
       "energy-kcal_100g                                      0.000 100.000  259.000   \n",
       "energy_100g                                           0.000 418.000 1079.000   \n",
       "fat_100g                                              0.000   0.800    7.000   \n",
       "saturated-fat_100g                                    0.000   0.100    1.800   \n",
       "monounsaturated-fat_100g                              0.000   0.100    3.570   \n",
       "polyunsaturated-fat_100g                              0.000   0.000    2.140   \n",
       "trans-fat_100g                                        0.000   0.000    0.000   \n",
       "cholesterol_100g                                      0.000   0.000    0.000   \n",
       "carbohydrates_100g                                   -1.000   3.529   15.380   \n",
       "sugars_100g                                          -1.000   0.600    3.570   \n",
       "fiber_100g                                           -6.700   0.000    1.600   \n",
       "proteins_100g                                      -500.000   1.300    6.000   \n",
       "salt_100g                                             0.000   0.083    0.590   \n",
       "sodium_100g                                           0.000   0.033    0.236   \n",
       "alcohol_100g                                          0.000   0.000    0.000   \n",
       "vitamin-a_100g                                       -0.000   0.000    0.000   \n",
       "vitamin-c_100g                                        0.000   0.000    0.000   \n",
       "vitamin-b1_100g                                       0.000   0.000    0.001   \n",
       "vitamin-b2_100g                                       0.000   0.000    0.000   \n",
       "vitamin-pp_100g                                       0.000   0.003    0.005   \n",
       "potassium_100g                                        0.000   0.080    0.167   \n",
       "calcium_100g                                          0.000   0.000    0.036   \n",
       "iron_100g                                            -0.000   0.000    0.001   \n",
       "fruits-vegetables-nuts-estimate-from-ingredient...    0.000   0.000    0.000   \n",
       "nutrition-score-fr_100g                             -15.000   1.000   10.000   \n",
       "\n",
       "                                                        75%  \\\n",
       "serving_quantity                                    114.000   \n",
       "additives_n                                           3.000   \n",
       "nutriscore_score                                     16.000   \n",
       "nova_group                                            4.000   \n",
       "ecoscore_score                                       65.000   \n",
       "energy-kj_100g                                     1619.000   \n",
       "energy-kcal_100g                                    400.000   \n",
       "energy_100g                                        1674.000   \n",
       "fat_100g                                             21.200   \n",
       "saturated-fat_100g                                    7.000   \n",
       "monounsaturated-fat_100g                             10.000   \n",
       "polyunsaturated-fat_100g                              7.000   \n",
       "trans-fat_100g                                        0.000   \n",
       "cholesterol_100g                                      0.022   \n",
       "carbohydrates_100g                                   53.000   \n",
       "sugars_100g                                          17.100   \n",
       "fiber_100g                                            3.700   \n",
       "proteins_100g                                        12.500   \n",
       "salt_100g                                             1.400   \n",
       "sodium_100g                                           0.560   \n",
       "alcohol_100g                                          4.800   \n",
       "vitamin-a_100g                                        0.000   \n",
       "vitamin-c_100g                                        0.004   \n",
       "vitamin-b1_100g                                       0.001   \n",
       "vitamin-b2_100g                                       0.001   \n",
       "vitamin-pp_100g                                       0.009   \n",
       "potassium_100g                                        0.300   \n",
       "calcium_100g                                          0.111   \n",
       "iron_100g                                             0.002   \n",
       "fruits-vegetables-nuts-estimate-from-ingredient...    0.500   \n",
       "nutrition-score-fr_100g                              16.000   \n",
       "\n",
       "                                                                                                  max  \n",
       "serving_quantity                                                          11111111111111100858368.000  \n",
       "additives_n                                                                                    49.000  \n",
       "nutriscore_score                                                                               40.000  \n",
       "nova_group                                                                                      4.000  \n",
       "ecoscore_score                                                                                125.000  \n",
       "energy-kj_100g                                        6665558888888888950360610417759390841962496.000  \n",
       "energy-kcal_100g                                                                  100000000376832.000  \n",
       "energy_100g                                           6665558888888888950360610417759390841962496.000  \n",
       "fat_100g                                                                      1000000000000000000.000  \n",
       "saturated-fat_100g                                                                    99932728111.000  \n",
       "monounsaturated-fat_100g                                                                      489.000  \n",
       "polyunsaturated-fat_100g                                                                     1230.000  \n",
       "trans-fat_100g                                                                              14800.000  \n",
       "cholesterol_100g                                                                              381.000  \n",
       "carbohydrates_100g                                                                    99932728111.000  \n",
       "sugars_100g                                                                       100000000376832.000  \n",
       "fiber_100g                                         98132750415618438665845168411918503733975056384...  \n",
       "proteins_100g                                                                         99932728111.000  \n",
       "salt_100g                                                                             99932728111.000  \n",
       "sodium_100g                                                                           39973091244.400  \n",
       "alcohol_100g                                                             499999999999999991611392.000  \n",
       "vitamin-a_100g                                                                             150000.000  \n",
       "vitamin-c_100g                                                                               8000.000  \n",
       "vitamin-b1_100g                                                                            180000.000  \n",
       "vitamin-b2_100g                                                                              1300.000  \n",
       "vitamin-pp_100g                                                                              2000.000  \n",
       "potassium_100g                                                                               1917.000  \n",
       "calcium_100g                                                                            200000000.000  \n",
       "iron_100g                                                                                    1800.000  \n",
       "fruits-vegetables-nuts-estimate-from-ingredient...                                          13461.000  \n",
       "nutrition-score-fr_100g                                                                        40.000  "
      ]
     },
     "execution_count": 58,
     "metadata": {},
     "output_type": "execute_result"
    }
   ],
   "source": [
    "data_clean.describe().T"
   ]
  },
  {
   "cell_type": "markdown",
   "metadata": {},
   "source": [
    "Comme on peut le constater, un certain nombre de colonnes ont des valeurs étonnantes...\n",
    "\n",
    "> `serving_quantity`\n",
    "> \n",
    "> le maximum est bien au delà du troisième quartile, et l'écart type est énorme...\n",
    "\n",
    "> Les colonnes `*_100g`\n",
    ">\n",
    "> le maximum dépasse les 100g et ce n'est pas possible *(car d'après la notice **\"fields that end with _100g correspond to the amount of a nutriment (in g, or kJ for energy) for 100 g or 100 ml of product\"** et donc il ne peut y avoir de valeurs > 100)*\n",
    ">\n",
    ">> Pour `cholesterol_100g` le maximum semble être à **3.1g** (3100mg) pour 100g /// Cervelle de veau cuite\n",
    ">\n",
    ">> Pour `fat_100g` le maximum semble être à **100g** pour 100g /// Huile d'avocat\n",
    ">\n",
    ">> Pour `saturated-fat_100g` le maximum semble être à **92.6** pour 100g /// Pain de friture (pas l'huile ?)\n",
    ">\n",
    ">> Pour `proteins_100g` le maximum semble être à **87.6g** pour 100g /// Gélatine alimentaire\n",
    ">\n",
    ">> Pour `sugars_100g` le maximum semble être à **99.8g** pour 100g /// Fructose\n",
    ">\n",
    ">> Pour `carbohydrates_100g` le maximum semble être à **99.8g** pour 100g /// Fructose\n",
    ">\n",
    ">> Pour `sodium_100g` le maximum semble être à **39.1g** (39100 mg)pour 100g /// sel blanc non iodé non fluoré \n",
    ">\n",
    ">> Pour `salt_100g` le maximum semble être à **39.1g** (39100 mg)pour 100g /// sel blanc non iodé non fluoré \n",
    ">\n",
    ">> Pour `iron_100g` le maximum semble être à **0,0064g** (6.4 mg) pour 100g /// Boudin noir\n",
    ">\n",
    ">> Pour `calcium_100g` le maximum semble être à **2g** (2000 mg) pour 100g /// Meloukhia en poudre \n",
    ">\n",
    ">> Pour `fiber_100g` le maximum semble être à **43.5g** pour 100g /// Cannelle\n",
    ">\n",
    ">> Pour `energy-kcal_100g` le maximum semble être à **900 kcal** pour 100g /// Huile d'avocat\n",
    ">\n",
    ">> Pour `energy-kj_100g` le maximum semble être à **3765.6 kcal** pour 100g /// Huile d'avocat\n",
    "\n",
    "> `carbohydrates_100g`, `sugars_100g`, `fiber_100g`, `proteins_100g`, `nutriscore_score`, `nutrition-score-fr_100g`, `ecoscore_score`\n",
    ">\n",
    "> le minimum est sous 0, ce qui ne semble pas cohérent avec l'intitulé de ces colonnes."
   ]
  },
  {
   "cell_type": "markdown",
   "metadata": {},
   "source": [
    "## TODO\n",
    "\n",
    "> mixer la suppressions sur les valeurs réelles quand elles sont connues et les valeurs IQR dans le cas contraire  ?"
   ]
  },
  {
   "cell_type": "code",
   "execution_count": null,
   "metadata": {},
   "outputs": [],
   "source": []
  },
  {
   "cell_type": "code",
   "execution_count": null,
   "metadata": {},
   "outputs": [],
   "source": []
  },
  {
   "cell_type": "code",
   "execution_count": null,
   "metadata": {},
   "outputs": [],
   "source": []
  },
  {
   "cell_type": "code",
   "execution_count": null,
   "metadata": {},
   "outputs": [],
   "source": []
  },
  {
   "cell_type": "markdown",
   "metadata": {},
   "source": [
    "le taux de sel ~= 2.54 * taux de sodium\n",
    "\n",
    "donc normalement salt_100g = 2.54 * sodium_100g"
   ]
  },
  {
   "cell_type": "code",
   "execution_count": null,
   "metadata": {},
   "outputs": [],
   "source": []
  },
  {
   "cell_type": "markdown",
   "metadata": {},
   "source": [
    "\n",
    "#### Éléments défavorables au score\n",
    "\n",
    "- Apport calorique pour cent grammes. **->** `energy-kcal_100g` ou `energy-kj_100g` ou `energy_100g`\n",
    "- Teneur en sucre. **->** `sugars_100g` ou `carbohydrates_100g`\n",
    "- Teneur en graisses saturées. **->** `saturated-fat_100g`\n",
    "- Teneur en sel. **->** `salt_100g` *(ou `sodium_100g` car 40% de sodium dans le sel + 60% de chlorure)*\n",
    "\n",
    "> `energy_100g`, `sugars_100g`, `saturated-fat_100g`, `salt_100g`\n",
    "\n",
    "#### Éléments favorables au score\n",
    "\n",
    "- Teneur en fruits, légumes, légumineuses (dont les légumes secs), oléagineux, huiles de colza, de noix et d'olive. **->** `fruits-vegetables-nuts-estimate-from-ingredients_100g` **?** ou `fruits-vegetables-nuts_100g`\n",
    "- Teneur en fibres. **->** `fiber_100g`\n",
    "- Teneur en protéines. **->** `proteins_100g`\n",
    "\n",
    "> `fruits-vegetables-nuts-estimate-from-ingredients_100g`, `fiber_100g`, `proteins_100g`"
   ]
  },
  {
   "cell_type": "code",
   "execution_count": null,
   "metadata": {},
   "outputs": [],
   "source": []
  },
  {
   "cell_type": "code",
   "execution_count": null,
   "metadata": {},
   "outputs": [],
   "source": []
  },
  {
   "cell_type": "code",
   "execution_count": null,
   "metadata": {},
   "outputs": [],
   "source": []
  },
  {
   "cell_type": "markdown",
   "metadata": {},
   "source": [
    "# Notes & Essais"
   ]
  },
  {
   "cell_type": "code",
   "execution_count": null,
   "metadata": {},
   "outputs": [],
   "source": [
    "data.states"
   ]
  },
  {
   "cell_type": "code",
   "execution_count": null,
   "metadata": {},
   "outputs": [],
   "source": [
    "data.states.iat[0]"
   ]
  },
  {
   "cell_type": "code",
   "execution_count": null,
   "metadata": {},
   "outputs": [],
   "source": [
    "data.states_fr"
   ]
  }
 ],
 "metadata": {
  "kernelspec": {
   "display_name": "venvP3",
   "language": "python",
   "name": "venvp3"
  },
  "language_info": {
   "codemirror_mode": {
    "name": "ipython",
    "version": 3
   },
   "file_extension": ".py",
   "mimetype": "text/x-python",
   "name": "python",
   "nbconvert_exporter": "python",
   "pygments_lexer": "ipython3",
   "version": "3.8.10"
  }
 },
 "nbformat": 4,
 "nbformat_minor": 4
}
