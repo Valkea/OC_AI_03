{
 "cells": [
  {
   "cell_type": "code",
   "execution_count": 1,
   "metadata": {},
   "outputs": [],
   "source": [
    "import pandas as pd\n",
    "import numpy as np\n",
    "import matplotlib.pyplot as plt\n",
    "#import seaborn as sns\n",
    "import plotly_express as px"
   ]
  },
  {
   "cell_type": "markdown",
   "metadata": {},
   "source": [
    "# 1. Objectif\n",
    "\n",
    "Le jeu de données sur lequel nous sommes amenés à travailler est assez conséquent (5.9 GB) et donc pour **faciliter l'analyse exploratoire des données** notre premier objectif dés de retirer toutes les colonnes qui ne sont d'aucune utilité car:\n",
    "- vides\n",
    "- disposant de trop peu de données\n",
    "- redondantes avec d'autres colonnes\n",
    "- ne présentant pas d'intérêt"
   ]
  },
  {
   "cell_type": "markdown",
   "metadata": {},
   "source": [
    "# 2. Présentation générale du jeu de données <a class=\"anchor\" id=\"P02\"></a>\n",
    "\n",
    "Le [jeu de données](https://static.openfoodfacts.org/data/en.openfoodfacts.org.products.csv) utilisé dans le cadre de l'appel à projets de l'agence *Santé publique France* qui consiste à rendre les données de santé plus accessibles, est une liste de 2.251.894 produits alimentaires répertoriés par les volontaires de l'association [Open Food Facts](https://world.openfoodfacts.org).\n",
    "\n",
    "Chacun des produits référencé est décrit par un certain nombre de caractèristiques nutritionels *(taux de graisse, de sucre, de sel, de fibres, de protéines, de vitamines, etc.)* et par des méta-données *(code-barre, nom du produit, catégorie, lieu de production, data d'ajout dans la DB, auteur de l'ajout, etc.)*.\n",
    "\n",
    "---\n",
    "#### Commençons par importer et explorer simplement ce jeu de données pour nous faire une idée de ce qu'il contient."
   ]
  },
  {
   "cell_type": "code",
   "execution_count": 2,
   "metadata": {},
   "outputs": [],
   "source": [
    "filename = 'data/en.openfoodfacts.org.products.csv'"
   ]
  },
  {
   "cell_type": "markdown",
   "metadata": {},
   "source": [
    "#### Affichons uniquement la première ligne"
   ]
  },
  {
   "cell_type": "code",
   "execution_count": 3,
   "metadata": {},
   "outputs": [
    {
     "data": {
      "text/html": [
       "<div>\n",
       "<style scoped>\n",
       "    .dataframe tbody tr th:only-of-type {\n",
       "        vertical-align: middle;\n",
       "    }\n",
       "\n",
       "    .dataframe tbody tr th {\n",
       "        vertical-align: top;\n",
       "    }\n",
       "\n",
       "    .dataframe thead th {\n",
       "        text-align: right;\n",
       "    }\n",
       "</style>\n",
       "<table border=\"1\" class=\"dataframe\">\n",
       "  <thead>\n",
       "    <tr style=\"text-align: right;\">\n",
       "      <th></th>\n",
       "      <th>code</th>\n",
       "      <th>url</th>\n",
       "      <th>creator</th>\n",
       "      <th>created_t</th>\n",
       "      <th>created_datetime</th>\n",
       "      <th>last_modified_t</th>\n",
       "      <th>last_modified_datetime</th>\n",
       "      <th>product_name</th>\n",
       "      <th>abbreviated_product_name</th>\n",
       "      <th>generic_name</th>\n",
       "      <th>...</th>\n",
       "      <th>carbon-footprint-from-meat-or-fish_100g</th>\n",
       "      <th>nutrition-score-fr_100g</th>\n",
       "      <th>nutrition-score-uk_100g</th>\n",
       "      <th>glycemic-index_100g</th>\n",
       "      <th>water-hardness_100g</th>\n",
       "      <th>choline_100g</th>\n",
       "      <th>phylloquinone_100g</th>\n",
       "      <th>beta-glucan_100g</th>\n",
       "      <th>inositol_100g</th>\n",
       "      <th>carnitine_100g</th>\n",
       "    </tr>\n",
       "  </thead>\n",
       "  <tbody>\n",
       "    <tr>\n",
       "      <th>0</th>\n",
       "      <td>225</td>\n",
       "      <td>http://world-en.openfoodfacts.org/product/0000...</td>\n",
       "      <td>nutrinet-sante</td>\n",
       "      <td>1623855208</td>\n",
       "      <td>2021-06-16T14:53:28Z</td>\n",
       "      <td>1623855209</td>\n",
       "      <td>2021-06-16T14:53:29Z</td>\n",
       "      <td>jeunes pousses</td>\n",
       "      <td>NaN</td>\n",
       "      <td>NaN</td>\n",
       "      <td>...</td>\n",
       "      <td>NaN</td>\n",
       "      <td>NaN</td>\n",
       "      <td>NaN</td>\n",
       "      <td>NaN</td>\n",
       "      <td>NaN</td>\n",
       "      <td>NaN</td>\n",
       "      <td>NaN</td>\n",
       "      <td>NaN</td>\n",
       "      <td>NaN</td>\n",
       "      <td>NaN</td>\n",
       "    </tr>\n",
       "  </tbody>\n",
       "</table>\n",
       "<p>1 rows × 186 columns</p>\n",
       "</div>"
      ],
      "text/plain": [
       "   code                                                url         creator  \\\n",
       "0   225  http://world-en.openfoodfacts.org/product/0000...  nutrinet-sante   \n",
       "\n",
       "    created_t      created_datetime  last_modified_t last_modified_datetime  \\\n",
       "0  1623855208  2021-06-16T14:53:28Z       1623855209   2021-06-16T14:53:29Z   \n",
       "\n",
       "     product_name  abbreviated_product_name  generic_name  ...  \\\n",
       "0  jeunes pousses                       NaN           NaN  ...   \n",
       "\n",
       "   carbon-footprint-from-meat-or-fish_100g  nutrition-score-fr_100g  \\\n",
       "0                                      NaN                      NaN   \n",
       "\n",
       "   nutrition-score-uk_100g  glycemic-index_100g  water-hardness_100g  \\\n",
       "0                      NaN                  NaN                  NaN   \n",
       "\n",
       "  choline_100g phylloquinone_100g  beta-glucan_100g  inositol_100g  \\\n",
       "0          NaN                NaN               NaN            NaN   \n",
       "\n",
       "   carnitine_100g  \n",
       "0             NaN  \n",
       "\n",
       "[1 rows x 186 columns]"
      ]
     },
     "execution_count": 3,
     "metadata": {},
     "output_type": "execute_result"
    }
   ],
   "source": [
    "prob = pd.read_csv(filename, sep='\\t', low_memory=True, nrows=1)\n",
    "prob"
   ]
  },
  {
   "cell_type": "markdown",
   "metadata": {},
   "source": [
    "Regardons l'ensemble des colonnes présentes *(et leur index pour pouvoir ajuster leur type en cas de mixed-type)*"
   ]
  },
  {
   "cell_type": "code",
   "execution_count": 4,
   "metadata": {
    "scrolled": true
   },
   "outputs": [
    {
     "name": "stdout",
     "output_type": "stream",
     "text": [
      "0 code                                               \t1 url                                                \n",
      "2 creator                                            \t3 created_t                                          \n",
      "4 created_datetime                                   \t5 last_modified_t                                    \n",
      "6 last_modified_datetime                             \t7 product_name                                       \n",
      "8 abbreviated_product_name                           \t9 generic_name                                       \n",
      "10 quantity                                           \t11 packaging                                          \n",
      "12 packaging_tags                                     \t13 packaging_en                                       \n",
      "14 packaging_text                                     \t15 brands                                             \n",
      "16 brands_tags                                        \t17 categories                                         \n",
      "18 categories_tags                                    \t19 categories_en                                      \n",
      "20 origins                                            \t21 origins_tags                                       \n",
      "22 origins_en                                         \t23 manufacturing_places                               \n",
      "24 manufacturing_places_tags                          \t25 labels                                             \n",
      "26 labels_tags                                        \t27 labels_en                                          \n",
      "28 emb_codes                                          \t29 emb_codes_tags                                     \n",
      "30 first_packaging_code_geo                           \t31 cities                                             \n",
      "32 cities_tags                                        \t33 purchase_places                                    \n",
      "34 stores                                             \t35 countries                                          \n",
      "36 countries_tags                                     \t37 countries_en                                       \n",
      "38 ingredients_text                                   \t39 ingredients_tags                                   \n",
      "40 allergens                                          \t41 allergens_en                                       \n",
      "42 traces                                             \t43 traces_tags                                        \n",
      "44 traces_en                                          \t45 serving_size                                       \n",
      "46 serving_quantity                                   \t47 no_nutriments                                      \n",
      "48 additives_n                                        \t49 additives                                          \n",
      "50 additives_tags                                     \t51 additives_en                                       \n",
      "52 nutriscore_score                                   \t53 nutriscore_grade                                   \n",
      "54 nova_group                                         \t55 pnns_groups_1                                      \n",
      "56 pnns_groups_2                                      \t57 food_groups                                        \n",
      "58 food_groups_tags                                   \t59 food_groups_en                                     \n",
      "60 states                                             \t61 states_tags                                        \n",
      "62 states_en                                          \t63 brand_owner                                        \n",
      "64 ecoscore_score                                     \t65 ecoscore_grade                                     \n",
      "66 main_category                                      \t67 main_category_en                                   \n",
      "68 image_url                                          \t69 image_small_url                                    \n",
      "70 image_ingredients_url                              \t71 image_ingredients_small_url                        \n",
      "72 image_nutrition_url                                \t73 image_nutrition_small_url                          \n",
      "74 energy-kj_100g                                     \t75 energy-kcal_100g                                   \n",
      "76 energy_100g                                        \t77 energy-from-fat_100g                               \n",
      "78 fat_100g                                           \t79 saturated-fat_100g                                 \n",
      "80 -butyric-acid_100g                                 \t81 -caproic-acid_100g                                 \n",
      "82 -caprylic-acid_100g                                \t83 -capric-acid_100g                                  \n",
      "84 -lauric-acid_100g                                  \t85 -myristic-acid_100g                                \n",
      "86 -palmitic-acid_100g                                \t87 -stearic-acid_100g                                 \n",
      "88 -arachidic-acid_100g                               \t89 -behenic-acid_100g                                 \n",
      "90 -lignoceric-acid_100g                              \t91 -cerotic-acid_100g                                 \n",
      "92 -montanic-acid_100g                                \t93 -melissic-acid_100g                                \n",
      "94 monounsaturated-fat_100g                           \t95 polyunsaturated-fat_100g                           \n",
      "96 omega-3-fat_100g                                   \t97 -alpha-linolenic-acid_100g                         \n",
      "98 -eicosapentaenoic-acid_100g                        \t99 -docosahexaenoic-acid_100g                         \n",
      "100 omega-6-fat_100g                                   \t101 -linoleic-acid_100g                                \n",
      "102 -arachidonic-acid_100g                             \t103 -gamma-linolenic-acid_100g                         \n",
      "104 -dihomo-gamma-linolenic-acid_100g                  \t105 omega-9-fat_100g                                   \n",
      "106 -oleic-acid_100g                                   \t107 -elaidic-acid_100g                                 \n",
      "108 -gondoic-acid_100g                                 \t109 -mead-acid_100g                                    \n",
      "110 -erucic-acid_100g                                  \t111 -nervonic-acid_100g                                \n",
      "112 trans-fat_100g                                     \t113 cholesterol_100g                                   \n",
      "114 carbohydrates_100g                                 \t115 sugars_100g                                        \n",
      "116 -sucrose_100g                                      \t117 -glucose_100g                                      \n",
      "118 -fructose_100g                                     \t119 -lactose_100g                                      \n",
      "120 -maltose_100g                                      \t121 -maltodextrins_100g                                \n",
      "122 starch_100g                                        \t123 polyols_100g                                       \n",
      "124 fiber_100g                                         \t125 soluble-fiber_100g                                 \n",
      "126 insoluble-fiber_100g                               \t127 proteins_100g                                      \n",
      "128 casein_100g                                        \t129 serum-proteins_100g                                \n",
      "130 nucleotides_100g                                   \t131 salt_100g                                          \n",
      "132 sodium_100g                                        \t133 alcohol_100g                                       \n",
      "134 vitamin-a_100g                                     \t135 beta-carotene_100g                                 \n",
      "136 vitamin-d_100g                                     \t137 vitamin-e_100g                                     \n",
      "138 vitamin-k_100g                                     \t139 vitamin-c_100g                                     \n",
      "140 vitamin-b1_100g                                    \t141 vitamin-b2_100g                                    \n",
      "142 vitamin-pp_100g                                    \t143 vitamin-b6_100g                                    \n",
      "144 vitamin-b9_100g                                    \t145 folates_100g                                       \n",
      "146 vitamin-b12_100g                                   \t147 biotin_100g                                        \n",
      "148 pantothenic-acid_100g                              \t149 silica_100g                                        \n",
      "150 bicarbonate_100g                                   \t151 potassium_100g                                     \n",
      "152 chloride_100g                                      \t153 calcium_100g                                       \n",
      "154 phosphorus_100g                                    \t155 iron_100g                                          \n",
      "156 magnesium_100g                                     \t157 zinc_100g                                          \n",
      "158 copper_100g                                        \t159 manganese_100g                                     \n",
      "160 fluoride_100g                                      \t161 selenium_100g                                      \n",
      "162 chromium_100g                                      \t163 molybdenum_100g                                    \n",
      "164 iodine_100g                                        \t165 caffeine_100g                                      \n",
      "166 taurine_100g                                       \t167 ph_100g                                            \n",
      "168 fruits-vegetables-nuts_100g                        \t169 fruits-vegetables-nuts-dried_100g                  \n",
      "170 fruits-vegetables-nuts-estimate_100g               \t171 fruits-vegetables-nuts-estimate-from-ingredients_10\n",
      "172 collagen-meat-protein-ratio_100g                   \t173 cocoa_100g                                         \n",
      "174 chlorophyl_100g                                    \t175 carbon-footprint_100g                              \n",
      "176 carbon-footprint-from-meat-or-fish_100g            \t177 nutrition-score-fr_100g                            \n",
      "178 nutrition-score-uk_100g                            \t179 glycemic-index_100g                                \n",
      "180 water-hardness_100g                                \t181 choline_100g                                       \n",
      "182 phylloquinone_100g                                 \t183 beta-glucan_100g                                   \n",
      "184 inositol_100g                                      \t185 carnitine_100g                                     \n"
     ]
    }
   ],
   "source": [
    "size = max([len(x) for x in prob.columns])-2\n",
    "\n",
    "for i, col in enumerate(prob.columns):\n",
    "    end_sep=\"\\t\" if i%2 == 0 else \"\\n\"\n",
    "    print(f\"{i} {col[:size].ljust(size)}\", end=end_sep)"
   ]
  },
  {
   "cell_type": "markdown",
   "metadata": {},
   "source": [
    "# 3. Identification des colonnes que l'on ne souhaite pas garder"
   ]
  },
  {
   "cell_type": "markdown",
   "metadata": {},
   "source": [
    "#### Chargeons le CSV par petit bouts pour en calculer le `taux de remplissage` puis identifier les colonnes vides ou presque vides.\n",
    "\n",
    "Nous allons également fournir les types pour les colonnes dont pandas n'est pas certain."
   ]
  },
  {
   "cell_type": "code",
   "execution_count": 5,
   "metadata": {},
   "outputs": [],
   "source": [
    "dtypes = {}\n",
    "for col_name in prob.columns:\n",
    "    if col_name.endswith(('_100g', '_quantity')):\n",
    "        dtype = 'float'\n",
    "    elif col_name.endswith(('_t')): # , '_n' <- probleme avec les NA\n",
    "        dtype = 'int' \n",
    "    else:\n",
    "        dtype = 'str'\n",
    "        \n",
    "    dtypes[col_name] = dtype"
   ]
  },
  {
   "cell_type": "code",
   "execution_count": 11,
   "metadata": {
    "scrolled": true
   },
   "outputs": [],
   "source": [
    "chunksize = 10000\n",
    "nan_rates = []\n",
    "for chunk in pd.read_csv(filename, chunksize=chunksize, sep='\\t', low_memory=True, dtype=dtypes):\n",
    "    nan_rates.append(chunk.notnull().mean(axis=0))"
   ]
  },
  {
   "cell_type": "markdown",
   "metadata": {},
   "source": [
    "On fait la moyenne des taux calculés sur tous les morceaux"
   ]
  },
  {
   "cell_type": "code",
   "execution_count": 12,
   "metadata": {},
   "outputs": [],
   "source": [
    "fill_ratio = pd.concat(nan_rates, axis=1).mean(axis=1)"
   ]
  },
  {
   "cell_type": "code",
   "execution_count": 40,
   "metadata": {
    "scrolled": true
   },
   "outputs": [
    {
     "name": "stdout",
     "output_type": "stream",
     "text": [
      "  0 code                                      100.00%\t  1 url                                       100.00%\n",
      "  2 creator                                   100.00%\t  3 created_t                                 100.00%\n",
      "  4 created_datetime                          100.00%\t  5 last_modified_t                           100.00%\n",
      "  6 last_modified_datetime                    100.00%\t  7 product_name                               96.21%\n",
      "  8 abbreviated_product_name                    0.35%\t  9 generic_name                                5.62%\n",
      " 10 quantity                                   25.84%\t 11 packaging                                  14.77%\n",
      " 12 packaging_tags                             14.77%\t 13 packaging_en                               14.77%\n",
      " 14 packaging_text                              0.49%\t 15 brands                                     48.94%\n",
      " 16 brands_tags                                48.94%\t 17 categories                                 44.74%\n",
      " 18 categories_tags                            44.74%\t 19 categories_en                              44.74%\n",
      " 20 origins                                     4.20%\t 21 origins_tags                                4.20%\n",
      " 22 origins_en                                  4.20%\t 23 manufacturing_places                        6.01%\n",
      " 24 manufacturing_places_tags                   6.01%\t 25 labels                                     20.45%\n",
      " 26 labels_tags                                20.45%\t 27 labels_en                                  20.45%\n",
      " 28 emb_codes                                   5.71%\t 29 emb_codes_tags                              5.71%\n",
      " 30 first_packaging_code_geo                    3.35%\t 31 cities                                      0.00%\n",
      " 32 cities_tags                                 3.61%\t 33 purchase_places                             7.44%\n",
      " 34 stores                                     13.24%\t 35 countries                                  99.72%\n",
      " 36 countries_tags                             99.72%\t 37 countries_en                               99.72%\n",
      " 38 ingredients_text                           33.42%\t 39 ingredients_tags                           33.34%\n",
      " 40 allergens                                   8.81%\t 41 allergens_en                                0.00%\n",
      " 42 traces                                      4.89%\t 43 traces_tags                                 6.04%\n",
      " 44 traces_en                                   6.04%\t 45 serving_size                               23.48%\n",
      " 46 serving_quantity                           23.31%\t 47 no_nutriments                               0.00%\n",
      " 48 additives_n                                33.42%\t 49 additives                                   0.00%\n",
      " 50 additives_tags                             19.21%\t 51 additives_en                               19.21%\n",
      " 52 nutriscore_score                           34.36%\t 53 nutriscore_grade                           34.36%\n",
      " 54 nova_group                                 30.07%\t 55 pnns_groups_1                              99.96%\n",
      " 56 pnns_groups_2                              99.96%\t 57 food_groups                                36.44%\n",
      " 58 food_groups_tags                           36.44%\t 59 food_groups_en                             36.44%\n",
      " 60 states                                    100.00%\t 61 states_tags                               100.00%\n",
      " 62 states_en                                 100.00%\t 63 brand_owner                                12.86%\n",
      " 64 ecoscore_score                             22.87%\t 65 ecoscore_grade                             99.94%\n",
      " 66 main_category                              44.74%\t 67 main_category_en                           44.74%\n",
      " 68 image_url                                  77.98%\t 69 image_small_url                            77.98%\n",
      " 70 image_ingredients_url                      32.66%\t 71 image_ingredients_small_url                32.66%\n",
      " 72 image_nutrition_url                        54.40%\t 73 image_nutrition_small_url                  54.40%\n",
      " 74 energy-kj_100g                              7.21%\t 75 energy-kcal_100g                           77.22%\n",
      " 76 energy_100g                                79.41%\t 77 energy-from-fat_100g                        0.04%\n",
      " 78 fat_100g                                   78.99%\t 79 saturated-fat_100g                         76.62%\n",
      " 80 -butyric-acid_100g                          0.00%\t 81 -caproic-acid_100g                          0.00%\n",
      " 82 -caprylic-acid_100g                         0.00%\t 83 -capric-acid_100g                           0.00%\n",
      " 84 -lauric-acid_100g                           0.00%\t 85 -myristic-acid_100g                         0.00%\n",
      " 86 -palmitic-acid_100g                         0.00%\t 87 -stearic-acid_100g                          0.00%\n",
      " 88 -arachidic-acid_100g                        0.00%\t 89 -behenic-acid_100g                          0.00%\n",
      " 90 -lignoceric-acid_100g                       0.00%\t 91 -cerotic-acid_100g                          0.00%\n",
      " 92 -montanic-acid_100g                         0.00%\t 93 -melissic-acid_100g                         0.00%\n",
      " 94 monounsaturated-fat_100g                    2.14%\t 95 polyunsaturated-fat_100g                    2.14%\n",
      " 96 omega-3-fat_100g                            0.10%\t 97 -alpha-linolenic-acid_100g                  0.00%\n",
      " 98 -eicosapentaenoic-acid_100g                 0.00%\t 99 -docosahexaenoic-acid_100g                  0.00%\n",
      "100 omega-6-fat_100g                            0.03%\t101 -linoleic-acid_100g                         0.00%\n",
      "102 -arachidonic-acid_100g                      0.00%\t103 -gamma-linolenic-acid_100g                  0.00%\n",
      "104 -dihomo-gamma-linolenic-acid_100g           0.00%\t105 omega-9-fat_100g                            0.01%\n",
      "106 -oleic-acid_100g                            0.00%\t107 -elaidic-acid_100g                          0.00%\n",
      "108 -gondoic-acid_100g                          0.00%\t109 -mead-acid_100g                             0.00%\n",
      "110 -erucic-acid_100g                           0.00%\t111 -nervonic-acid_100g                         0.00%\n",
      "112 trans-fat_100g                             11.74%\t113 cholesterol_100g                           11.92%\n",
      "114 carbohydrates_100g                         78.96%\t115 sugars_100g                                77.81%\n",
      "116 -sucrose_100g                               0.00%\t117 -glucose_100g                               0.00%\n",
      "118 -fructose_100g                              0.00%\t119 -lactose_100g                               0.00%\n",
      "120 -maltose_100g                               0.00%\t121 -maltodextrins_100g                         0.00%\n",
      "122 starch_100g                                 0.02%\t123 polyols_100g                                0.17%\n",
      "124 fiber_100g                                 28.32%\t125 soluble-fiber_100g                          0.16%\n",
      "126 insoluble-fiber_100g                        0.15%\t127 proteins_100g                              79.05%\n",
      "128 casein_100g                                 0.00%\t129 serum-proteins_100g                         0.00%\n",
      "130 nucleotides_100g                            0.00%\t131 salt_100g                                  72.58%\n",
      "132 sodium_100g                                72.58%\t133 alcohol_100g                                1.11%\n",
      "134 vitamin-a_100g                              9.42%\t135 beta-carotene_100g                          0.00%\n",
      "136 vitamin-d_100g                              0.46%\t137 vitamin-e_100g                              0.17%\n",
      "138 vitamin-k_100g                              0.06%\t139 vitamin-c_100g                              9.77%\n",
      "140 vitamin-b1_100g                             1.06%\t141 vitamin-b2_100g                             1.02%\n",
      "142 vitamin-pp_100g                             1.07%\t143 vitamin-b6_100g                             0.72%\n",
      "144 vitamin-b9_100g                             0.47%\t145 folates_100g                                0.38%\n",
      "146 vitamin-b12_100g                            0.59%\t147 biotin_100g                                 0.06%\n",
      "148 pantothenic-acid_100g                       0.28%\t149 silica_100g                                 0.01%\n",
      "150 bicarbonate_100g                            0.02%\t151 potassium_100g                              4.10%\n",
      "152 chloride_100g                               0.04%\t153 calcium_100g                               12.03%\n",
      "154 phosphorus_100g                             0.63%\t155 iron_100g                                  11.76%\n",
      "156 magnesium_100g                              0.67%\t157 zinc_100g                                   0.46%\n",
      "158 copper_100g                                 0.19%\t159 manganese_100g                              0.18%\n",
      "160 fluoride_100g                               0.02%\t161 selenium_100g                               0.12%\n",
      "162 chromium_100g                               0.01%\t163 molybdenum_100g                             0.02%\n",
      "164 iodine_100g                                 0.11%\t165 caffeine_100g                               0.03%\n",
      "166 taurine_100g                                0.01%\t167 ph_100g                                     0.01%\n",
      "168 fruits-vegetables-nuts_100g                 0.44%\t169 fruits-vegetables-nuts-dried_100g           0.04%\n",
      "170 fruits-vegetables-nuts-estimate_100g        0.53%\t171 fruits-vegetables-nuts-estimate-from-ing   33.36%\n",
      "172 collagen-meat-protein-ratio_100g            0.01%\t173 cocoa_100g                                  0.30%\n",
      "174 chlorophyl_100g                             0.00%\t175 carbon-footprint_100g                       0.02%\n",
      "176 carbon-footprint-from-meat-or-fish_100g     0.54%\t177 nutrition-score-fr_100g                    34.36%\n",
      "178 nutrition-score-uk_100g                     0.00%\t179 glycemic-index_100g                         0.00%\n",
      "180 water-hardness_100g                         0.00%\t181 choline_100g                                0.00%\n",
      "182 phylloquinone_100g                          0.08%\t183 beta-glucan_100g                            0.00%\n",
      "184 inositol_100g                               0.00%\t185 carnitine_100g                              0.00%\n"
     ]
    }
   ],
   "source": [
    "size = max([len(x) for x in prob.columns])-13\n",
    "\n",
    "for i, ratio in enumerate(fill_ratio.iteritems()):\n",
    "    end_sep=\"\\t\" if i%2 == 0 else \"\\n\"\n",
    "    print(f\"{i:3} {ratio[0][:size].ljust(size)} {ratio[1]*100:7.2f}%\", end=end_sep)"
   ]
  },
  {
   "cell_type": "markdown",
   "metadata": {},
   "source": [
    "Et on l'affiche sous forme de graphique"
   ]
  },
  {
   "cell_type": "code",
   "execution_count": 41,
   "metadata": {},
   "outputs": [
    {
     "data": {
      "application/vnd.plotly.v1+json": {
       "config": {
        "plotlyServerURL": "https://plot.ly"
       },
       "data": [
        {
         "alignmentgroup": "True",
         "hovertemplate": "=%{x}<br>Remplissage (en %)=%{marker.color}<extra></extra>",
         "legendgroup": "",
         "marker": {
          "color": [
           100,
           100,
           99.99982300884955,
           100,
           100,
           100,
           100,
           96.20734513274331,
           0.3467699115044246,
           5.622060162039415,
           25.84239522105203,
           14.769088458195888,
           14.768690228107396,
           14.768690228107396,
           0.49013274336283136,
           48.943162712244515,
           48.939755632598526,
           44.74384937062548,
           44.7431414060237,
           44.7431414060237,
           4.202168141592917,
           4.195840707964601,
           4.195840707964601,
           6.009260169515281,
           6.006472558895813,
           20.45082996140585,
           20.44967951892797,
           20.44967951892797,
           5.709936268234108,
           5.708033613366851,
           3.354702647391391,
           0,
           3.614759277083662,
           7.444292035398227,
           13.239139808057113,
           99.71902654867263,
           99.71880530973458,
           99.71880530973458,
           33.416129136257034,
           33.338784003513666,
           8.813552204913519,
           0,
           4.892831858407075,
           6.035353982300881,
           6.035353982300881,
           23.48254688770311,
           23.309051312481895,
           0,
           33.41626187961986,
           0,
           19.214575183859605,
           19.214575183859605,
           34.35550256515682,
           34.35550256515682,
           30.07115390006635,
           99.96137168141581,
           99.96146017699103,
           36.43836446720429,
           36.43836446720429,
           36.43836446720429,
           100,
           100,
           100,
           12.859999999999994,
           22.87071670202129,
           99.94255398977663,
           44.7431414060237,
           44.7431414060237,
           77.97795693900628,
           77.97795693900628,
           32.65927236452326,
           32.65927236452326,
           54.39893076412705,
           54.39893076412705,
           7.211054844829034,
           77.22336848548277,
           79.40864635411306,
           0.04358407079646022,
           78.98632070534813,
           76.61973068189253,
           0,
           0,
           0,
           0,
           0,
           0,
           0,
           0,
           0,
           0,
           0,
           0,
           0,
           0,
           2.1436849482763467,
           2.1424017624356373,
           0.09774336283185837,
           0,
           0,
           0,
           0.026548672566371695,
           0,
           0,
           0,
           0,
           0.005973451327433628,
           0,
           0,
           0,
           0,
           0,
           0,
           11.741769911504427,
           11.91964601769911,
           78.95529992243783,
           77.80922447225055,
           0,
           0,
           0,
           0,
           0,
           0,
           0.024867256637168163,
           0.1681415929203539,
           28.31964419545653,
           0.15986725663716816,
           0.14774336283185843,
           79.04932955490558,
           0.0030530973451327434,
           0.0044247787610619425,
           0.002654867256637168,
           72.584617422508,
           72.58448467914518,
           1.1125221238938052,
           9.422787610619473,
           0.003716814159292035,
           0.46336283185840627,
           0.1705752212389381,
           0.05712389380530973,
           9.769115044247782,
           1.0610176991150457,
           1.0206194690265502,
           1.0663716814159316,
           0.7247787610619459,
           0.46703539823008805,
           0.37606194690265454,
           0.5890707964601761,
           0.05690265486725667,
           0.2816371681415928,
           0.008539823008849552,
           0.021106194690265506,
           4.101725663716811,
           0.039026548672566386,
           12.030088495575221,
           0.6274336283185826,
           11.758185840707965,
           0.6657522123893796,
           0.462123893805309,
           0.19415929203539808,
           0.184513274336283,
           0.01862831858407081,
           0.11646017699115027,
           0.010309734513274327,
           0.017035398230088494,
           0.11061946902654868,
           0.025398230088495587,
           0.011769911504424772,
           0.011592920353982291,
           0.4370796460176987,
           0.04030973451327438,
           0.5283185840707961,
           33.3564388707703,
           0.01411504424778761,
           0.2957522123893805,
           0.00022123893805309734,
           0.021681415929203553,
           0.536150442477875,
           34.35576805188248,
           0.0003539823008849558,
           0.00022123893805309734,
           4.424778761061947e-05,
           0.003274336283185841,
           0.07575221238938047,
           0.001814159292035398,
           0.003407079646017699,
           0.001991150442477875
          ],
          "coloraxis": "coloraxis",
          "pattern": {
           "shape": ""
          }
         },
         "name": "",
         "offsetgroup": "",
         "orientation": "v",
         "showlegend": false,
         "textposition": "auto",
         "type": "bar",
         "x": [
          "code",
          "url",
          "creator",
          "created_t",
          "created_datetime",
          "last_modified_t",
          "last_modified_datetime",
          "product_name",
          "abbreviated_product_name",
          "generic_name",
          "quantity",
          "packaging",
          "packaging_tags",
          "packaging_en",
          "packaging_text",
          "brands",
          "brands_tags",
          "categories",
          "categories_tags",
          "categories_en",
          "origins",
          "origins_tags",
          "origins_en",
          "manufacturing_places",
          "manufacturing_places_tags",
          "labels",
          "labels_tags",
          "labels_en",
          "emb_codes",
          "emb_codes_tags",
          "first_packaging_code_geo",
          "cities",
          "cities_tags",
          "purchase_places",
          "stores",
          "countries",
          "countries_tags",
          "countries_en",
          "ingredients_text",
          "ingredients_tags",
          "allergens",
          "allergens_en",
          "traces",
          "traces_tags",
          "traces_en",
          "serving_size",
          "serving_quantity",
          "no_nutriments",
          "additives_n",
          "additives",
          "additives_tags",
          "additives_en",
          "nutriscore_score",
          "nutriscore_grade",
          "nova_group",
          "pnns_groups_1",
          "pnns_groups_2",
          "food_groups",
          "food_groups_tags",
          "food_groups_en",
          "states",
          "states_tags",
          "states_en",
          "brand_owner",
          "ecoscore_score",
          "ecoscore_grade",
          "main_category",
          "main_category_en",
          "image_url",
          "image_small_url",
          "image_ingredients_url",
          "image_ingredients_small_url",
          "image_nutrition_url",
          "image_nutrition_small_url",
          "energy-kj_100g",
          "energy-kcal_100g",
          "energy_100g",
          "energy-from-fat_100g",
          "fat_100g",
          "saturated-fat_100g",
          "-butyric-acid_100g",
          "-caproic-acid_100g",
          "-caprylic-acid_100g",
          "-capric-acid_100g",
          "-lauric-acid_100g",
          "-myristic-acid_100g",
          "-palmitic-acid_100g",
          "-stearic-acid_100g",
          "-arachidic-acid_100g",
          "-behenic-acid_100g",
          "-lignoceric-acid_100g",
          "-cerotic-acid_100g",
          "-montanic-acid_100g",
          "-melissic-acid_100g",
          "monounsaturated-fat_100g",
          "polyunsaturated-fat_100g",
          "omega-3-fat_100g",
          "-alpha-linolenic-acid_100g",
          "-eicosapentaenoic-acid_100g",
          "-docosahexaenoic-acid_100g",
          "omega-6-fat_100g",
          "-linoleic-acid_100g",
          "-arachidonic-acid_100g",
          "-gamma-linolenic-acid_100g",
          "-dihomo-gamma-linolenic-acid_100g",
          "omega-9-fat_100g",
          "-oleic-acid_100g",
          "-elaidic-acid_100g",
          "-gondoic-acid_100g",
          "-mead-acid_100g",
          "-erucic-acid_100g",
          "-nervonic-acid_100g",
          "trans-fat_100g",
          "cholesterol_100g",
          "carbohydrates_100g",
          "sugars_100g",
          "-sucrose_100g",
          "-glucose_100g",
          "-fructose_100g",
          "-lactose_100g",
          "-maltose_100g",
          "-maltodextrins_100g",
          "starch_100g",
          "polyols_100g",
          "fiber_100g",
          "soluble-fiber_100g",
          "insoluble-fiber_100g",
          "proteins_100g",
          "casein_100g",
          "serum-proteins_100g",
          "nucleotides_100g",
          "salt_100g",
          "sodium_100g",
          "alcohol_100g",
          "vitamin-a_100g",
          "beta-carotene_100g",
          "vitamin-d_100g",
          "vitamin-e_100g",
          "vitamin-k_100g",
          "vitamin-c_100g",
          "vitamin-b1_100g",
          "vitamin-b2_100g",
          "vitamin-pp_100g",
          "vitamin-b6_100g",
          "vitamin-b9_100g",
          "folates_100g",
          "vitamin-b12_100g",
          "biotin_100g",
          "pantothenic-acid_100g",
          "silica_100g",
          "bicarbonate_100g",
          "potassium_100g",
          "chloride_100g",
          "calcium_100g",
          "phosphorus_100g",
          "iron_100g",
          "magnesium_100g",
          "zinc_100g",
          "copper_100g",
          "manganese_100g",
          "fluoride_100g",
          "selenium_100g",
          "chromium_100g",
          "molybdenum_100g",
          "iodine_100g",
          "caffeine_100g",
          "taurine_100g",
          "ph_100g",
          "fruits-vegetables-nuts_100g",
          "fruits-vegetables-nuts-dried_100g",
          "fruits-vegetables-nuts-estimate_100g",
          "fruits-vegetables-nuts-estimate-from-ingredients_100g",
          "collagen-meat-protein-ratio_100g",
          "cocoa_100g",
          "chlorophyl_100g",
          "carbon-footprint_100g",
          "carbon-footprint-from-meat-or-fish_100g",
          "nutrition-score-fr_100g",
          "nutrition-score-uk_100g",
          "glycemic-index_100g",
          "water-hardness_100g",
          "choline_100g",
          "phylloquinone_100g",
          "beta-glucan_100g",
          "inositol_100g",
          "carnitine_100g"
         ],
         "xaxis": "x",
         "y": [
          100,
          100,
          99.99982300884955,
          100,
          100,
          100,
          100,
          96.20734513274331,
          0.3467699115044246,
          5.622060162039415,
          25.84239522105203,
          14.769088458195888,
          14.768690228107396,
          14.768690228107396,
          0.49013274336283136,
          48.943162712244515,
          48.939755632598526,
          44.74384937062548,
          44.7431414060237,
          44.7431414060237,
          4.202168141592917,
          4.195840707964601,
          4.195840707964601,
          6.009260169515281,
          6.006472558895813,
          20.45082996140585,
          20.44967951892797,
          20.44967951892797,
          5.709936268234108,
          5.708033613366851,
          3.354702647391391,
          0,
          3.614759277083662,
          7.444292035398227,
          13.239139808057113,
          99.71902654867263,
          99.71880530973458,
          99.71880530973458,
          33.416129136257034,
          33.338784003513666,
          8.813552204913519,
          0,
          4.892831858407075,
          6.035353982300881,
          6.035353982300881,
          23.48254688770311,
          23.309051312481895,
          0,
          33.41626187961986,
          0,
          19.214575183859605,
          19.214575183859605,
          34.35550256515682,
          34.35550256515682,
          30.07115390006635,
          99.96137168141581,
          99.96146017699103,
          36.43836446720429,
          36.43836446720429,
          36.43836446720429,
          100,
          100,
          100,
          12.859999999999994,
          22.87071670202129,
          99.94255398977663,
          44.7431414060237,
          44.7431414060237,
          77.97795693900628,
          77.97795693900628,
          32.65927236452326,
          32.65927236452326,
          54.39893076412705,
          54.39893076412705,
          7.211054844829034,
          77.22336848548277,
          79.40864635411306,
          0.04358407079646022,
          78.98632070534813,
          76.61973068189253,
          0,
          0,
          0,
          0,
          0,
          0,
          0,
          0,
          0,
          0,
          0,
          0,
          0,
          0,
          2.1436849482763467,
          2.1424017624356373,
          0.09774336283185837,
          0,
          0,
          0,
          0.026548672566371695,
          0,
          0,
          0,
          0,
          0.005973451327433628,
          0,
          0,
          0,
          0,
          0,
          0,
          11.741769911504427,
          11.91964601769911,
          78.95529992243783,
          77.80922447225055,
          0,
          0,
          0,
          0,
          0,
          0,
          0.024867256637168163,
          0.1681415929203539,
          28.31964419545653,
          0.15986725663716816,
          0.14774336283185843,
          79.04932955490558,
          0.0030530973451327434,
          0.0044247787610619425,
          0.002654867256637168,
          72.584617422508,
          72.58448467914518,
          1.1125221238938052,
          9.422787610619473,
          0.003716814159292035,
          0.46336283185840627,
          0.1705752212389381,
          0.05712389380530973,
          9.769115044247782,
          1.0610176991150457,
          1.0206194690265502,
          1.0663716814159316,
          0.7247787610619459,
          0.46703539823008805,
          0.37606194690265454,
          0.5890707964601761,
          0.05690265486725667,
          0.2816371681415928,
          0.008539823008849552,
          0.021106194690265506,
          4.101725663716811,
          0.039026548672566386,
          12.030088495575221,
          0.6274336283185826,
          11.758185840707965,
          0.6657522123893796,
          0.462123893805309,
          0.19415929203539808,
          0.184513274336283,
          0.01862831858407081,
          0.11646017699115027,
          0.010309734513274327,
          0.017035398230088494,
          0.11061946902654868,
          0.025398230088495587,
          0.011769911504424772,
          0.011592920353982291,
          0.4370796460176987,
          0.04030973451327438,
          0.5283185840707961,
          33.3564388707703,
          0.01411504424778761,
          0.2957522123893805,
          0.00022123893805309734,
          0.021681415929203553,
          0.536150442477875,
          34.35576805188248,
          0.0003539823008849558,
          0.00022123893805309734,
          4.424778761061947e-05,
          0.003274336283185841,
          0.07575221238938047,
          0.001814159292035398,
          0.003407079646017699,
          0.001991150442477875
         ],
         "yaxis": "y"
        }
       ],
       "layout": {
        "barmode": "relative",
        "coloraxis": {
         "colorbar": {
          "title": {
           "text": "Remplissage (en %)"
          }
         },
         "colorscale": [
          [
           0,
           "#0d0887"
          ],
          [
           0.1111111111111111,
           "#46039f"
          ],
          [
           0.2222222222222222,
           "#7201a8"
          ],
          [
           0.3333333333333333,
           "#9c179e"
          ],
          [
           0.4444444444444444,
           "#bd3786"
          ],
          [
           0.5555555555555556,
           "#d8576b"
          ],
          [
           0.6666666666666666,
           "#ed7953"
          ],
          [
           0.7777777777777778,
           "#fb9f3a"
          ],
          [
           0.8888888888888888,
           "#fdca26"
          ],
          [
           1,
           "#f0f921"
          ]
         ],
         "showscale": false
        },
        "height": 600,
        "legend": {
         "tracegroupgap": 0
        },
        "template": {
         "data": {
          "bar": [
           {
            "error_x": {
             "color": "#2a3f5f"
            },
            "error_y": {
             "color": "#2a3f5f"
            },
            "marker": {
             "line": {
              "color": "#E5ECF6",
              "width": 0.5
             },
             "pattern": {
              "fillmode": "overlay",
              "size": 10,
              "solidity": 0.2
             }
            },
            "type": "bar"
           }
          ],
          "barpolar": [
           {
            "marker": {
             "line": {
              "color": "#E5ECF6",
              "width": 0.5
             },
             "pattern": {
              "fillmode": "overlay",
              "size": 10,
              "solidity": 0.2
             }
            },
            "type": "barpolar"
           }
          ],
          "carpet": [
           {
            "aaxis": {
             "endlinecolor": "#2a3f5f",
             "gridcolor": "white",
             "linecolor": "white",
             "minorgridcolor": "white",
             "startlinecolor": "#2a3f5f"
            },
            "baxis": {
             "endlinecolor": "#2a3f5f",
             "gridcolor": "white",
             "linecolor": "white",
             "minorgridcolor": "white",
             "startlinecolor": "#2a3f5f"
            },
            "type": "carpet"
           }
          ],
          "choropleth": [
           {
            "colorbar": {
             "outlinewidth": 0,
             "ticks": ""
            },
            "type": "choropleth"
           }
          ],
          "contour": [
           {
            "colorbar": {
             "outlinewidth": 0,
             "ticks": ""
            },
            "colorscale": [
             [
              0,
              "#0d0887"
             ],
             [
              0.1111111111111111,
              "#46039f"
             ],
             [
              0.2222222222222222,
              "#7201a8"
             ],
             [
              0.3333333333333333,
              "#9c179e"
             ],
             [
              0.4444444444444444,
              "#bd3786"
             ],
             [
              0.5555555555555556,
              "#d8576b"
             ],
             [
              0.6666666666666666,
              "#ed7953"
             ],
             [
              0.7777777777777778,
              "#fb9f3a"
             ],
             [
              0.8888888888888888,
              "#fdca26"
             ],
             [
              1,
              "#f0f921"
             ]
            ],
            "type": "contour"
           }
          ],
          "contourcarpet": [
           {
            "colorbar": {
             "outlinewidth": 0,
             "ticks": ""
            },
            "type": "contourcarpet"
           }
          ],
          "heatmap": [
           {
            "colorbar": {
             "outlinewidth": 0,
             "ticks": ""
            },
            "colorscale": [
             [
              0,
              "#0d0887"
             ],
             [
              0.1111111111111111,
              "#46039f"
             ],
             [
              0.2222222222222222,
              "#7201a8"
             ],
             [
              0.3333333333333333,
              "#9c179e"
             ],
             [
              0.4444444444444444,
              "#bd3786"
             ],
             [
              0.5555555555555556,
              "#d8576b"
             ],
             [
              0.6666666666666666,
              "#ed7953"
             ],
             [
              0.7777777777777778,
              "#fb9f3a"
             ],
             [
              0.8888888888888888,
              "#fdca26"
             ],
             [
              1,
              "#f0f921"
             ]
            ],
            "type": "heatmap"
           }
          ],
          "heatmapgl": [
           {
            "colorbar": {
             "outlinewidth": 0,
             "ticks": ""
            },
            "colorscale": [
             [
              0,
              "#0d0887"
             ],
             [
              0.1111111111111111,
              "#46039f"
             ],
             [
              0.2222222222222222,
              "#7201a8"
             ],
             [
              0.3333333333333333,
              "#9c179e"
             ],
             [
              0.4444444444444444,
              "#bd3786"
             ],
             [
              0.5555555555555556,
              "#d8576b"
             ],
             [
              0.6666666666666666,
              "#ed7953"
             ],
             [
              0.7777777777777778,
              "#fb9f3a"
             ],
             [
              0.8888888888888888,
              "#fdca26"
             ],
             [
              1,
              "#f0f921"
             ]
            ],
            "type": "heatmapgl"
           }
          ],
          "histogram": [
           {
            "marker": {
             "pattern": {
              "fillmode": "overlay",
              "size": 10,
              "solidity": 0.2
             }
            },
            "type": "histogram"
           }
          ],
          "histogram2d": [
           {
            "colorbar": {
             "outlinewidth": 0,
             "ticks": ""
            },
            "colorscale": [
             [
              0,
              "#0d0887"
             ],
             [
              0.1111111111111111,
              "#46039f"
             ],
             [
              0.2222222222222222,
              "#7201a8"
             ],
             [
              0.3333333333333333,
              "#9c179e"
             ],
             [
              0.4444444444444444,
              "#bd3786"
             ],
             [
              0.5555555555555556,
              "#d8576b"
             ],
             [
              0.6666666666666666,
              "#ed7953"
             ],
             [
              0.7777777777777778,
              "#fb9f3a"
             ],
             [
              0.8888888888888888,
              "#fdca26"
             ],
             [
              1,
              "#f0f921"
             ]
            ],
            "type": "histogram2d"
           }
          ],
          "histogram2dcontour": [
           {
            "colorbar": {
             "outlinewidth": 0,
             "ticks": ""
            },
            "colorscale": [
             [
              0,
              "#0d0887"
             ],
             [
              0.1111111111111111,
              "#46039f"
             ],
             [
              0.2222222222222222,
              "#7201a8"
             ],
             [
              0.3333333333333333,
              "#9c179e"
             ],
             [
              0.4444444444444444,
              "#bd3786"
             ],
             [
              0.5555555555555556,
              "#d8576b"
             ],
             [
              0.6666666666666666,
              "#ed7953"
             ],
             [
              0.7777777777777778,
              "#fb9f3a"
             ],
             [
              0.8888888888888888,
              "#fdca26"
             ],
             [
              1,
              "#f0f921"
             ]
            ],
            "type": "histogram2dcontour"
           }
          ],
          "mesh3d": [
           {
            "colorbar": {
             "outlinewidth": 0,
             "ticks": ""
            },
            "type": "mesh3d"
           }
          ],
          "parcoords": [
           {
            "line": {
             "colorbar": {
              "outlinewidth": 0,
              "ticks": ""
             }
            },
            "type": "parcoords"
           }
          ],
          "pie": [
           {
            "automargin": true,
            "type": "pie"
           }
          ],
          "scatter": [
           {
            "fillpattern": {
             "fillmode": "overlay",
             "size": 10,
             "solidity": 0.2
            },
            "type": "scatter"
           }
          ],
          "scatter3d": [
           {
            "line": {
             "colorbar": {
              "outlinewidth": 0,
              "ticks": ""
             }
            },
            "marker": {
             "colorbar": {
              "outlinewidth": 0,
              "ticks": ""
             }
            },
            "type": "scatter3d"
           }
          ],
          "scattercarpet": [
           {
            "marker": {
             "colorbar": {
              "outlinewidth": 0,
              "ticks": ""
             }
            },
            "type": "scattercarpet"
           }
          ],
          "scattergeo": [
           {
            "marker": {
             "colorbar": {
              "outlinewidth": 0,
              "ticks": ""
             }
            },
            "type": "scattergeo"
           }
          ],
          "scattergl": [
           {
            "marker": {
             "colorbar": {
              "outlinewidth": 0,
              "ticks": ""
             }
            },
            "type": "scattergl"
           }
          ],
          "scattermapbox": [
           {
            "marker": {
             "colorbar": {
              "outlinewidth": 0,
              "ticks": ""
             }
            },
            "type": "scattermapbox"
           }
          ],
          "scatterpolar": [
           {
            "marker": {
             "colorbar": {
              "outlinewidth": 0,
              "ticks": ""
             }
            },
            "type": "scatterpolar"
           }
          ],
          "scatterpolargl": [
           {
            "marker": {
             "colorbar": {
              "outlinewidth": 0,
              "ticks": ""
             }
            },
            "type": "scatterpolargl"
           }
          ],
          "scatterternary": [
           {
            "marker": {
             "colorbar": {
              "outlinewidth": 0,
              "ticks": ""
             }
            },
            "type": "scatterternary"
           }
          ],
          "surface": [
           {
            "colorbar": {
             "outlinewidth": 0,
             "ticks": ""
            },
            "colorscale": [
             [
              0,
              "#0d0887"
             ],
             [
              0.1111111111111111,
              "#46039f"
             ],
             [
              0.2222222222222222,
              "#7201a8"
             ],
             [
              0.3333333333333333,
              "#9c179e"
             ],
             [
              0.4444444444444444,
              "#bd3786"
             ],
             [
              0.5555555555555556,
              "#d8576b"
             ],
             [
              0.6666666666666666,
              "#ed7953"
             ],
             [
              0.7777777777777778,
              "#fb9f3a"
             ],
             [
              0.8888888888888888,
              "#fdca26"
             ],
             [
              1,
              "#f0f921"
             ]
            ],
            "type": "surface"
           }
          ],
          "table": [
           {
            "cells": {
             "fill": {
              "color": "#EBF0F8"
             },
             "line": {
              "color": "white"
             }
            },
            "header": {
             "fill": {
              "color": "#C8D4E3"
             },
             "line": {
              "color": "white"
             }
            },
            "type": "table"
           }
          ]
         },
         "layout": {
          "annotationdefaults": {
           "arrowcolor": "#2a3f5f",
           "arrowhead": 0,
           "arrowwidth": 1
          },
          "autotypenumbers": "strict",
          "coloraxis": {
           "colorbar": {
            "outlinewidth": 0,
            "ticks": ""
           }
          },
          "colorscale": {
           "diverging": [
            [
             0,
             "#8e0152"
            ],
            [
             0.1,
             "#c51b7d"
            ],
            [
             0.2,
             "#de77ae"
            ],
            [
             0.3,
             "#f1b6da"
            ],
            [
             0.4,
             "#fde0ef"
            ],
            [
             0.5,
             "#f7f7f7"
            ],
            [
             0.6,
             "#e6f5d0"
            ],
            [
             0.7,
             "#b8e186"
            ],
            [
             0.8,
             "#7fbc41"
            ],
            [
             0.9,
             "#4d9221"
            ],
            [
             1,
             "#276419"
            ]
           ],
           "sequential": [
            [
             0,
             "#0d0887"
            ],
            [
             0.1111111111111111,
             "#46039f"
            ],
            [
             0.2222222222222222,
             "#7201a8"
            ],
            [
             0.3333333333333333,
             "#9c179e"
            ],
            [
             0.4444444444444444,
             "#bd3786"
            ],
            [
             0.5555555555555556,
             "#d8576b"
            ],
            [
             0.6666666666666666,
             "#ed7953"
            ],
            [
             0.7777777777777778,
             "#fb9f3a"
            ],
            [
             0.8888888888888888,
             "#fdca26"
            ],
            [
             1,
             "#f0f921"
            ]
           ],
           "sequentialminus": [
            [
             0,
             "#0d0887"
            ],
            [
             0.1111111111111111,
             "#46039f"
            ],
            [
             0.2222222222222222,
             "#7201a8"
            ],
            [
             0.3333333333333333,
             "#9c179e"
            ],
            [
             0.4444444444444444,
             "#bd3786"
            ],
            [
             0.5555555555555556,
             "#d8576b"
            ],
            [
             0.6666666666666666,
             "#ed7953"
            ],
            [
             0.7777777777777778,
             "#fb9f3a"
            ],
            [
             0.8888888888888888,
             "#fdca26"
            ],
            [
             1,
             "#f0f921"
            ]
           ]
          },
          "colorway": [
           "#636efa",
           "#EF553B",
           "#00cc96",
           "#ab63fa",
           "#FFA15A",
           "#19d3f3",
           "#FF6692",
           "#B6E880",
           "#FF97FF",
           "#FECB52"
          ],
          "font": {
           "color": "#2a3f5f"
          },
          "geo": {
           "bgcolor": "white",
           "lakecolor": "white",
           "landcolor": "#E5ECF6",
           "showlakes": true,
           "showland": true,
           "subunitcolor": "white"
          },
          "hoverlabel": {
           "align": "left"
          },
          "hovermode": "closest",
          "mapbox": {
           "style": "light"
          },
          "paper_bgcolor": "white",
          "plot_bgcolor": "#E5ECF6",
          "polar": {
           "angularaxis": {
            "gridcolor": "white",
            "linecolor": "white",
            "ticks": ""
           },
           "bgcolor": "#E5ECF6",
           "radialaxis": {
            "gridcolor": "white",
            "linecolor": "white",
            "ticks": ""
           }
          },
          "scene": {
           "xaxis": {
            "backgroundcolor": "#E5ECF6",
            "gridcolor": "white",
            "gridwidth": 2,
            "linecolor": "white",
            "showbackground": true,
            "ticks": "",
            "zerolinecolor": "white"
           },
           "yaxis": {
            "backgroundcolor": "#E5ECF6",
            "gridcolor": "white",
            "gridwidth": 2,
            "linecolor": "white",
            "showbackground": true,
            "ticks": "",
            "zerolinecolor": "white"
           },
           "zaxis": {
            "backgroundcolor": "#E5ECF6",
            "gridcolor": "white",
            "gridwidth": 2,
            "linecolor": "white",
            "showbackground": true,
            "ticks": "",
            "zerolinecolor": "white"
           }
          },
          "shapedefaults": {
           "line": {
            "color": "#2a3f5f"
           }
          },
          "ternary": {
           "aaxis": {
            "gridcolor": "white",
            "linecolor": "white",
            "ticks": ""
           },
           "baxis": {
            "gridcolor": "white",
            "linecolor": "white",
            "ticks": ""
           },
           "bgcolor": "#E5ECF6",
           "caxis": {
            "gridcolor": "white",
            "linecolor": "white",
            "ticks": ""
           }
          },
          "title": {
           "x": 0.05
          },
          "xaxis": {
           "automargin": true,
           "gridcolor": "white",
           "linecolor": "white",
           "ticks": "",
           "title": {
            "standoff": 15
           },
           "zerolinecolor": "white",
           "zerolinewidth": 2
          },
          "yaxis": {
           "automargin": true,
           "gridcolor": "white",
           "linecolor": "white",
           "ticks": "",
           "title": {
            "standoff": 15
           },
           "zerolinecolor": "white",
           "zerolinewidth": 2
          }
         }
        },
        "title": {
         "text": "Taux moyen de remplissage des colonnes"
        },
        "xaxis": {
         "anchor": "y",
         "domain": [
          0,
          1
         ],
         "tickangle": -45,
         "title": {
          "text": ""
         }
        },
        "yaxis": {
         "anchor": "x",
         "domain": [
          0,
          1
         ],
         "title": {
          "text": "Remplissage (en %)"
         }
        }
       }
      },
      "text/html": [
       "<div>                            <div id=\"45487529-b2ac-44b4-8766-e01bb4c2aa66\" class=\"plotly-graph-div\" style=\"height:600px; width:100%;\"></div>            <script type=\"text/javascript\">                require([\"plotly\"], function(Plotly) {                    window.PLOTLYENV=window.PLOTLYENV || {};                                    if (document.getElementById(\"45487529-b2ac-44b4-8766-e01bb4c2aa66\")) {                    Plotly.newPlot(                        \"45487529-b2ac-44b4-8766-e01bb4c2aa66\",                        [{\"alignmentgroup\":\"True\",\"hovertemplate\":\"=%{x}<br>Remplissage (en %)=%{marker.color}<extra></extra>\",\"legendgroup\":\"\",\"marker\":{\"color\":[100.0,100.0,99.99982300884955,100.0,100.0,100.0,100.0,96.20734513274331,0.3467699115044246,5.622060162039415,25.84239522105203,14.769088458195888,14.768690228107396,14.768690228107396,0.49013274336283136,48.943162712244515,48.939755632598526,44.74384937062548,44.7431414060237,44.7431414060237,4.202168141592917,4.195840707964601,4.195840707964601,6.009260169515281,6.006472558895813,20.45082996140585,20.44967951892797,20.44967951892797,5.709936268234108,5.708033613366851,3.354702647391391,0.0,3.614759277083662,7.444292035398227,13.239139808057113,99.71902654867263,99.71880530973458,99.71880530973458,33.416129136257034,33.338784003513666,8.813552204913519,0.0,4.892831858407075,6.035353982300881,6.035353982300881,23.48254688770311,23.309051312481895,0.0,33.41626187961986,0.0,19.214575183859605,19.214575183859605,34.35550256515682,34.35550256515682,30.07115390006635,99.96137168141581,99.96146017699103,36.43836446720429,36.43836446720429,36.43836446720429,100.0,100.0,100.0,12.859999999999994,22.87071670202129,99.94255398977663,44.7431414060237,44.7431414060237,77.97795693900628,77.97795693900628,32.65927236452326,32.65927236452326,54.39893076412705,54.39893076412705,7.211054844829034,77.22336848548277,79.40864635411306,0.04358407079646022,78.98632070534813,76.61973068189253,0.0,0.0,0.0,0.0,0.0,0.0,0.0,0.0,0.0,0.0,0.0,0.0,0.0,0.0,2.1436849482763467,2.1424017624356373,0.09774336283185837,0.0,0.0,0.0,0.026548672566371695,0.0,0.0,0.0,0.0,0.005973451327433628,0.0,0.0,0.0,0.0,0.0,0.0,11.741769911504427,11.91964601769911,78.95529992243783,77.80922447225055,0.0,0.0,0.0,0.0,0.0,0.0,0.024867256637168163,0.1681415929203539,28.31964419545653,0.15986725663716816,0.14774336283185843,79.04932955490558,0.0030530973451327434,0.0044247787610619425,0.002654867256637168,72.584617422508,72.58448467914518,1.1125221238938052,9.422787610619473,0.003716814159292035,0.46336283185840627,0.1705752212389381,0.05712389380530973,9.769115044247782,1.0610176991150457,1.0206194690265502,1.0663716814159316,0.7247787610619459,0.46703539823008805,0.37606194690265454,0.5890707964601761,0.05690265486725667,0.2816371681415928,0.008539823008849552,0.021106194690265506,4.101725663716811,0.039026548672566386,12.030088495575221,0.6274336283185826,11.758185840707965,0.6657522123893796,0.462123893805309,0.19415929203539808,0.184513274336283,0.01862831858407081,0.11646017699115027,0.010309734513274327,0.017035398230088494,0.11061946902654868,0.025398230088495587,0.011769911504424772,0.011592920353982291,0.4370796460176987,0.04030973451327438,0.5283185840707961,33.3564388707703,0.01411504424778761,0.2957522123893805,0.00022123893805309734,0.021681415929203553,0.536150442477875,34.35576805188248,0.0003539823008849558,0.00022123893805309734,4.424778761061947e-05,0.003274336283185841,0.07575221238938047,0.001814159292035398,0.003407079646017699,0.001991150442477875],\"coloraxis\":\"coloraxis\",\"pattern\":{\"shape\":\"\"}},\"name\":\"\",\"offsetgroup\":\"\",\"orientation\":\"v\",\"showlegend\":false,\"textposition\":\"auto\",\"x\":[\"code\",\"url\",\"creator\",\"created_t\",\"created_datetime\",\"last_modified_t\",\"last_modified_datetime\",\"product_name\",\"abbreviated_product_name\",\"generic_name\",\"quantity\",\"packaging\",\"packaging_tags\",\"packaging_en\",\"packaging_text\",\"brands\",\"brands_tags\",\"categories\",\"categories_tags\",\"categories_en\",\"origins\",\"origins_tags\",\"origins_en\",\"manufacturing_places\",\"manufacturing_places_tags\",\"labels\",\"labels_tags\",\"labels_en\",\"emb_codes\",\"emb_codes_tags\",\"first_packaging_code_geo\",\"cities\",\"cities_tags\",\"purchase_places\",\"stores\",\"countries\",\"countries_tags\",\"countries_en\",\"ingredients_text\",\"ingredients_tags\",\"allergens\",\"allergens_en\",\"traces\",\"traces_tags\",\"traces_en\",\"serving_size\",\"serving_quantity\",\"no_nutriments\",\"additives_n\",\"additives\",\"additives_tags\",\"additives_en\",\"nutriscore_score\",\"nutriscore_grade\",\"nova_group\",\"pnns_groups_1\",\"pnns_groups_2\",\"food_groups\",\"food_groups_tags\",\"food_groups_en\",\"states\",\"states_tags\",\"states_en\",\"brand_owner\",\"ecoscore_score\",\"ecoscore_grade\",\"main_category\",\"main_category_en\",\"image_url\",\"image_small_url\",\"image_ingredients_url\",\"image_ingredients_small_url\",\"image_nutrition_url\",\"image_nutrition_small_url\",\"energy-kj_100g\",\"energy-kcal_100g\",\"energy_100g\",\"energy-from-fat_100g\",\"fat_100g\",\"saturated-fat_100g\",\"-butyric-acid_100g\",\"-caproic-acid_100g\",\"-caprylic-acid_100g\",\"-capric-acid_100g\",\"-lauric-acid_100g\",\"-myristic-acid_100g\",\"-palmitic-acid_100g\",\"-stearic-acid_100g\",\"-arachidic-acid_100g\",\"-behenic-acid_100g\",\"-lignoceric-acid_100g\",\"-cerotic-acid_100g\",\"-montanic-acid_100g\",\"-melissic-acid_100g\",\"monounsaturated-fat_100g\",\"polyunsaturated-fat_100g\",\"omega-3-fat_100g\",\"-alpha-linolenic-acid_100g\",\"-eicosapentaenoic-acid_100g\",\"-docosahexaenoic-acid_100g\",\"omega-6-fat_100g\",\"-linoleic-acid_100g\",\"-arachidonic-acid_100g\",\"-gamma-linolenic-acid_100g\",\"-dihomo-gamma-linolenic-acid_100g\",\"omega-9-fat_100g\",\"-oleic-acid_100g\",\"-elaidic-acid_100g\",\"-gondoic-acid_100g\",\"-mead-acid_100g\",\"-erucic-acid_100g\",\"-nervonic-acid_100g\",\"trans-fat_100g\",\"cholesterol_100g\",\"carbohydrates_100g\",\"sugars_100g\",\"-sucrose_100g\",\"-glucose_100g\",\"-fructose_100g\",\"-lactose_100g\",\"-maltose_100g\",\"-maltodextrins_100g\",\"starch_100g\",\"polyols_100g\",\"fiber_100g\",\"soluble-fiber_100g\",\"insoluble-fiber_100g\",\"proteins_100g\",\"casein_100g\",\"serum-proteins_100g\",\"nucleotides_100g\",\"salt_100g\",\"sodium_100g\",\"alcohol_100g\",\"vitamin-a_100g\",\"beta-carotene_100g\",\"vitamin-d_100g\",\"vitamin-e_100g\",\"vitamin-k_100g\",\"vitamin-c_100g\",\"vitamin-b1_100g\",\"vitamin-b2_100g\",\"vitamin-pp_100g\",\"vitamin-b6_100g\",\"vitamin-b9_100g\",\"folates_100g\",\"vitamin-b12_100g\",\"biotin_100g\",\"pantothenic-acid_100g\",\"silica_100g\",\"bicarbonate_100g\",\"potassium_100g\",\"chloride_100g\",\"calcium_100g\",\"phosphorus_100g\",\"iron_100g\",\"magnesium_100g\",\"zinc_100g\",\"copper_100g\",\"manganese_100g\",\"fluoride_100g\",\"selenium_100g\",\"chromium_100g\",\"molybdenum_100g\",\"iodine_100g\",\"caffeine_100g\",\"taurine_100g\",\"ph_100g\",\"fruits-vegetables-nuts_100g\",\"fruits-vegetables-nuts-dried_100g\",\"fruits-vegetables-nuts-estimate_100g\",\"fruits-vegetables-nuts-estimate-from-ingredients_100g\",\"collagen-meat-protein-ratio_100g\",\"cocoa_100g\",\"chlorophyl_100g\",\"carbon-footprint_100g\",\"carbon-footprint-from-meat-or-fish_100g\",\"nutrition-score-fr_100g\",\"nutrition-score-uk_100g\",\"glycemic-index_100g\",\"water-hardness_100g\",\"choline_100g\",\"phylloquinone_100g\",\"beta-glucan_100g\",\"inositol_100g\",\"carnitine_100g\"],\"xaxis\":\"x\",\"y\":[100.0,100.0,99.99982300884955,100.0,100.0,100.0,100.0,96.20734513274331,0.3467699115044246,5.622060162039415,25.84239522105203,14.769088458195888,14.768690228107396,14.768690228107396,0.49013274336283136,48.943162712244515,48.939755632598526,44.74384937062548,44.7431414060237,44.7431414060237,4.202168141592917,4.195840707964601,4.195840707964601,6.009260169515281,6.006472558895813,20.45082996140585,20.44967951892797,20.44967951892797,5.709936268234108,5.708033613366851,3.354702647391391,0.0,3.614759277083662,7.444292035398227,13.239139808057113,99.71902654867263,99.71880530973458,99.71880530973458,33.416129136257034,33.338784003513666,8.813552204913519,0.0,4.892831858407075,6.035353982300881,6.035353982300881,23.48254688770311,23.309051312481895,0.0,33.41626187961986,0.0,19.214575183859605,19.214575183859605,34.35550256515682,34.35550256515682,30.07115390006635,99.96137168141581,99.96146017699103,36.43836446720429,36.43836446720429,36.43836446720429,100.0,100.0,100.0,12.859999999999994,22.87071670202129,99.94255398977663,44.7431414060237,44.7431414060237,77.97795693900628,77.97795693900628,32.65927236452326,32.65927236452326,54.39893076412705,54.39893076412705,7.211054844829034,77.22336848548277,79.40864635411306,0.04358407079646022,78.98632070534813,76.61973068189253,0.0,0.0,0.0,0.0,0.0,0.0,0.0,0.0,0.0,0.0,0.0,0.0,0.0,0.0,2.1436849482763467,2.1424017624356373,0.09774336283185837,0.0,0.0,0.0,0.026548672566371695,0.0,0.0,0.0,0.0,0.005973451327433628,0.0,0.0,0.0,0.0,0.0,0.0,11.741769911504427,11.91964601769911,78.95529992243783,77.80922447225055,0.0,0.0,0.0,0.0,0.0,0.0,0.024867256637168163,0.1681415929203539,28.31964419545653,0.15986725663716816,0.14774336283185843,79.04932955490558,0.0030530973451327434,0.0044247787610619425,0.002654867256637168,72.584617422508,72.58448467914518,1.1125221238938052,9.422787610619473,0.003716814159292035,0.46336283185840627,0.1705752212389381,0.05712389380530973,9.769115044247782,1.0610176991150457,1.0206194690265502,1.0663716814159316,0.7247787610619459,0.46703539823008805,0.37606194690265454,0.5890707964601761,0.05690265486725667,0.2816371681415928,0.008539823008849552,0.021106194690265506,4.101725663716811,0.039026548672566386,12.030088495575221,0.6274336283185826,11.758185840707965,0.6657522123893796,0.462123893805309,0.19415929203539808,0.184513274336283,0.01862831858407081,0.11646017699115027,0.010309734513274327,0.017035398230088494,0.11061946902654868,0.025398230088495587,0.011769911504424772,0.011592920353982291,0.4370796460176987,0.04030973451327438,0.5283185840707961,33.3564388707703,0.01411504424778761,0.2957522123893805,0.00022123893805309734,0.021681415929203553,0.536150442477875,34.35576805188248,0.0003539823008849558,0.00022123893805309734,4.424778761061947e-05,0.003274336283185841,0.07575221238938047,0.001814159292035398,0.003407079646017699,0.001991150442477875],\"yaxis\":\"y\",\"type\":\"bar\"}],                        {\"template\":{\"data\":{\"histogram2dcontour\":[{\"type\":\"histogram2dcontour\",\"colorbar\":{\"outlinewidth\":0,\"ticks\":\"\"},\"colorscale\":[[0.0,\"#0d0887\"],[0.1111111111111111,\"#46039f\"],[0.2222222222222222,\"#7201a8\"],[0.3333333333333333,\"#9c179e\"],[0.4444444444444444,\"#bd3786\"],[0.5555555555555556,\"#d8576b\"],[0.6666666666666666,\"#ed7953\"],[0.7777777777777778,\"#fb9f3a\"],[0.8888888888888888,\"#fdca26\"],[1.0,\"#f0f921\"]]}],\"choropleth\":[{\"type\":\"choropleth\",\"colorbar\":{\"outlinewidth\":0,\"ticks\":\"\"}}],\"histogram2d\":[{\"type\":\"histogram2d\",\"colorbar\":{\"outlinewidth\":0,\"ticks\":\"\"},\"colorscale\":[[0.0,\"#0d0887\"],[0.1111111111111111,\"#46039f\"],[0.2222222222222222,\"#7201a8\"],[0.3333333333333333,\"#9c179e\"],[0.4444444444444444,\"#bd3786\"],[0.5555555555555556,\"#d8576b\"],[0.6666666666666666,\"#ed7953\"],[0.7777777777777778,\"#fb9f3a\"],[0.8888888888888888,\"#fdca26\"],[1.0,\"#f0f921\"]]}],\"heatmap\":[{\"type\":\"heatmap\",\"colorbar\":{\"outlinewidth\":0,\"ticks\":\"\"},\"colorscale\":[[0.0,\"#0d0887\"],[0.1111111111111111,\"#46039f\"],[0.2222222222222222,\"#7201a8\"],[0.3333333333333333,\"#9c179e\"],[0.4444444444444444,\"#bd3786\"],[0.5555555555555556,\"#d8576b\"],[0.6666666666666666,\"#ed7953\"],[0.7777777777777778,\"#fb9f3a\"],[0.8888888888888888,\"#fdca26\"],[1.0,\"#f0f921\"]]}],\"heatmapgl\":[{\"type\":\"heatmapgl\",\"colorbar\":{\"outlinewidth\":0,\"ticks\":\"\"},\"colorscale\":[[0.0,\"#0d0887\"],[0.1111111111111111,\"#46039f\"],[0.2222222222222222,\"#7201a8\"],[0.3333333333333333,\"#9c179e\"],[0.4444444444444444,\"#bd3786\"],[0.5555555555555556,\"#d8576b\"],[0.6666666666666666,\"#ed7953\"],[0.7777777777777778,\"#fb9f3a\"],[0.8888888888888888,\"#fdca26\"],[1.0,\"#f0f921\"]]}],\"contourcarpet\":[{\"type\":\"contourcarpet\",\"colorbar\":{\"outlinewidth\":0,\"ticks\":\"\"}}],\"contour\":[{\"type\":\"contour\",\"colorbar\":{\"outlinewidth\":0,\"ticks\":\"\"},\"colorscale\":[[0.0,\"#0d0887\"],[0.1111111111111111,\"#46039f\"],[0.2222222222222222,\"#7201a8\"],[0.3333333333333333,\"#9c179e\"],[0.4444444444444444,\"#bd3786\"],[0.5555555555555556,\"#d8576b\"],[0.6666666666666666,\"#ed7953\"],[0.7777777777777778,\"#fb9f3a\"],[0.8888888888888888,\"#fdca26\"],[1.0,\"#f0f921\"]]}],\"surface\":[{\"type\":\"surface\",\"colorbar\":{\"outlinewidth\":0,\"ticks\":\"\"},\"colorscale\":[[0.0,\"#0d0887\"],[0.1111111111111111,\"#46039f\"],[0.2222222222222222,\"#7201a8\"],[0.3333333333333333,\"#9c179e\"],[0.4444444444444444,\"#bd3786\"],[0.5555555555555556,\"#d8576b\"],[0.6666666666666666,\"#ed7953\"],[0.7777777777777778,\"#fb9f3a\"],[0.8888888888888888,\"#fdca26\"],[1.0,\"#f0f921\"]]}],\"mesh3d\":[{\"type\":\"mesh3d\",\"colorbar\":{\"outlinewidth\":0,\"ticks\":\"\"}}],\"scatter\":[{\"fillpattern\":{\"fillmode\":\"overlay\",\"size\":10,\"solidity\":0.2},\"type\":\"scatter\"}],\"parcoords\":[{\"type\":\"parcoords\",\"line\":{\"colorbar\":{\"outlinewidth\":0,\"ticks\":\"\"}}}],\"scatterpolargl\":[{\"type\":\"scatterpolargl\",\"marker\":{\"colorbar\":{\"outlinewidth\":0,\"ticks\":\"\"}}}],\"bar\":[{\"error_x\":{\"color\":\"#2a3f5f\"},\"error_y\":{\"color\":\"#2a3f5f\"},\"marker\":{\"line\":{\"color\":\"#E5ECF6\",\"width\":0.5},\"pattern\":{\"fillmode\":\"overlay\",\"size\":10,\"solidity\":0.2}},\"type\":\"bar\"}],\"scattergeo\":[{\"type\":\"scattergeo\",\"marker\":{\"colorbar\":{\"outlinewidth\":0,\"ticks\":\"\"}}}],\"scatterpolar\":[{\"type\":\"scatterpolar\",\"marker\":{\"colorbar\":{\"outlinewidth\":0,\"ticks\":\"\"}}}],\"histogram\":[{\"marker\":{\"pattern\":{\"fillmode\":\"overlay\",\"size\":10,\"solidity\":0.2}},\"type\":\"histogram\"}],\"scattergl\":[{\"type\":\"scattergl\",\"marker\":{\"colorbar\":{\"outlinewidth\":0,\"ticks\":\"\"}}}],\"scatter3d\":[{\"type\":\"scatter3d\",\"line\":{\"colorbar\":{\"outlinewidth\":0,\"ticks\":\"\"}},\"marker\":{\"colorbar\":{\"outlinewidth\":0,\"ticks\":\"\"}}}],\"scattermapbox\":[{\"type\":\"scattermapbox\",\"marker\":{\"colorbar\":{\"outlinewidth\":0,\"ticks\":\"\"}}}],\"scatterternary\":[{\"type\":\"scatterternary\",\"marker\":{\"colorbar\":{\"outlinewidth\":0,\"ticks\":\"\"}}}],\"scattercarpet\":[{\"type\":\"scattercarpet\",\"marker\":{\"colorbar\":{\"outlinewidth\":0,\"ticks\":\"\"}}}],\"carpet\":[{\"aaxis\":{\"endlinecolor\":\"#2a3f5f\",\"gridcolor\":\"white\",\"linecolor\":\"white\",\"minorgridcolor\":\"white\",\"startlinecolor\":\"#2a3f5f\"},\"baxis\":{\"endlinecolor\":\"#2a3f5f\",\"gridcolor\":\"white\",\"linecolor\":\"white\",\"minorgridcolor\":\"white\",\"startlinecolor\":\"#2a3f5f\"},\"type\":\"carpet\"}],\"table\":[{\"cells\":{\"fill\":{\"color\":\"#EBF0F8\"},\"line\":{\"color\":\"white\"}},\"header\":{\"fill\":{\"color\":\"#C8D4E3\"},\"line\":{\"color\":\"white\"}},\"type\":\"table\"}],\"barpolar\":[{\"marker\":{\"line\":{\"color\":\"#E5ECF6\",\"width\":0.5},\"pattern\":{\"fillmode\":\"overlay\",\"size\":10,\"solidity\":0.2}},\"type\":\"barpolar\"}],\"pie\":[{\"automargin\":true,\"type\":\"pie\"}]},\"layout\":{\"autotypenumbers\":\"strict\",\"colorway\":[\"#636efa\",\"#EF553B\",\"#00cc96\",\"#ab63fa\",\"#FFA15A\",\"#19d3f3\",\"#FF6692\",\"#B6E880\",\"#FF97FF\",\"#FECB52\"],\"font\":{\"color\":\"#2a3f5f\"},\"hovermode\":\"closest\",\"hoverlabel\":{\"align\":\"left\"},\"paper_bgcolor\":\"white\",\"plot_bgcolor\":\"#E5ECF6\",\"polar\":{\"bgcolor\":\"#E5ECF6\",\"angularaxis\":{\"gridcolor\":\"white\",\"linecolor\":\"white\",\"ticks\":\"\"},\"radialaxis\":{\"gridcolor\":\"white\",\"linecolor\":\"white\",\"ticks\":\"\"}},\"ternary\":{\"bgcolor\":\"#E5ECF6\",\"aaxis\":{\"gridcolor\":\"white\",\"linecolor\":\"white\",\"ticks\":\"\"},\"baxis\":{\"gridcolor\":\"white\",\"linecolor\":\"white\",\"ticks\":\"\"},\"caxis\":{\"gridcolor\":\"white\",\"linecolor\":\"white\",\"ticks\":\"\"}},\"coloraxis\":{\"colorbar\":{\"outlinewidth\":0,\"ticks\":\"\"}},\"colorscale\":{\"sequential\":[[0.0,\"#0d0887\"],[0.1111111111111111,\"#46039f\"],[0.2222222222222222,\"#7201a8\"],[0.3333333333333333,\"#9c179e\"],[0.4444444444444444,\"#bd3786\"],[0.5555555555555556,\"#d8576b\"],[0.6666666666666666,\"#ed7953\"],[0.7777777777777778,\"#fb9f3a\"],[0.8888888888888888,\"#fdca26\"],[1.0,\"#f0f921\"]],\"sequentialminus\":[[0.0,\"#0d0887\"],[0.1111111111111111,\"#46039f\"],[0.2222222222222222,\"#7201a8\"],[0.3333333333333333,\"#9c179e\"],[0.4444444444444444,\"#bd3786\"],[0.5555555555555556,\"#d8576b\"],[0.6666666666666666,\"#ed7953\"],[0.7777777777777778,\"#fb9f3a\"],[0.8888888888888888,\"#fdca26\"],[1.0,\"#f0f921\"]],\"diverging\":[[0,\"#8e0152\"],[0.1,\"#c51b7d\"],[0.2,\"#de77ae\"],[0.3,\"#f1b6da\"],[0.4,\"#fde0ef\"],[0.5,\"#f7f7f7\"],[0.6,\"#e6f5d0\"],[0.7,\"#b8e186\"],[0.8,\"#7fbc41\"],[0.9,\"#4d9221\"],[1,\"#276419\"]]},\"xaxis\":{\"gridcolor\":\"white\",\"linecolor\":\"white\",\"ticks\":\"\",\"title\":{\"standoff\":15},\"zerolinecolor\":\"white\",\"automargin\":true,\"zerolinewidth\":2},\"yaxis\":{\"gridcolor\":\"white\",\"linecolor\":\"white\",\"ticks\":\"\",\"title\":{\"standoff\":15},\"zerolinecolor\":\"white\",\"automargin\":true,\"zerolinewidth\":2},\"scene\":{\"xaxis\":{\"backgroundcolor\":\"#E5ECF6\",\"gridcolor\":\"white\",\"linecolor\":\"white\",\"showbackground\":true,\"ticks\":\"\",\"zerolinecolor\":\"white\",\"gridwidth\":2},\"yaxis\":{\"backgroundcolor\":\"#E5ECF6\",\"gridcolor\":\"white\",\"linecolor\":\"white\",\"showbackground\":true,\"ticks\":\"\",\"zerolinecolor\":\"white\",\"gridwidth\":2},\"zaxis\":{\"backgroundcolor\":\"#E5ECF6\",\"gridcolor\":\"white\",\"linecolor\":\"white\",\"showbackground\":true,\"ticks\":\"\",\"zerolinecolor\":\"white\",\"gridwidth\":2}},\"shapedefaults\":{\"line\":{\"color\":\"#2a3f5f\"}},\"annotationdefaults\":{\"arrowcolor\":\"#2a3f5f\",\"arrowhead\":0,\"arrowwidth\":1},\"geo\":{\"bgcolor\":\"white\",\"landcolor\":\"#E5ECF6\",\"subunitcolor\":\"white\",\"showland\":true,\"showlakes\":true,\"lakecolor\":\"white\"},\"title\":{\"x\":0.05},\"mapbox\":{\"style\":\"light\"}}},\"xaxis\":{\"anchor\":\"y\",\"domain\":[0.0,1.0],\"title\":{\"text\":\"\"},\"tickangle\":-45},\"yaxis\":{\"anchor\":\"x\",\"domain\":[0.0,1.0],\"title\":{\"text\":\"Remplissage (en %)\"}},\"coloraxis\":{\"colorbar\":{\"title\":{\"text\":\"Remplissage (en %)\"}},\"colorscale\":[[0.0,\"#0d0887\"],[0.1111111111111111,\"#46039f\"],[0.2222222222222222,\"#7201a8\"],[0.3333333333333333,\"#9c179e\"],[0.4444444444444444,\"#bd3786\"],[0.5555555555555556,\"#d8576b\"],[0.6666666666666666,\"#ed7953\"],[0.7777777777777778,\"#fb9f3a\"],[0.8888888888888888,\"#fdca26\"],[1.0,\"#f0f921\"]],\"showscale\":false},\"legend\":{\"tracegroupgap\":0},\"title\":{\"text\":\"Taux moyen de remplissage des colonnes\"},\"barmode\":\"relative\",\"height\":600},                        {\"responsive\": true}                    ).then(function(){\n",
       "                            \n",
       "var gd = document.getElementById('45487529-b2ac-44b4-8766-e01bb4c2aa66');\n",
       "var x = new MutationObserver(function (mutations, observer) {{\n",
       "        var display = window.getComputedStyle(gd).display;\n",
       "        if (!display || display === 'none') {{\n",
       "            console.log([gd, 'removed!']);\n",
       "            Plotly.purge(gd);\n",
       "            observer.disconnect();\n",
       "        }}\n",
       "}});\n",
       "\n",
       "// Listen for the removal of the full notebook cells\n",
       "var notebookContainer = gd.closest('#notebook-container');\n",
       "if (notebookContainer) {{\n",
       "    x.observe(notebookContainer, {childList: true});\n",
       "}}\n",
       "\n",
       "// Listen for the clearing of the current output cell\n",
       "var outputEl = gd.closest('.output');\n",
       "if (outputEl) {{\n",
       "    x.observe(outputEl, {childList: true});\n",
       "}}\n",
       "\n",
       "                        })                };                });            </script>        </div>"
      ]
     },
     "metadata": {},
     "output_type": "display_data"
    }
   ],
   "source": [
    "fill_ratio_df = pd.DataFrame(fill_ratio*100, columns=['fill_rate'])\n",
    "#fill_ratio_df = fill_ratio_df.sort_values(by='fill_rate', ascending=False)\n",
    "\n",
    "fig = px.bar(fill_ratio_df, y=\"fill_rate\", \n",
    "             #width=900,\n",
    "             height=600,\n",
    "             color='fill_rate', \n",
    "             title=\"Taux moyen de remplissage des colonnes\",\n",
    "             labels={\n",
    "                \"fill_rate\": \"Remplissage (en %)\",\n",
    "                \"index\": \"\",\n",
    "                },\n",
    "            )\n",
    "fig.update_coloraxes(showscale=False)\n",
    "fig.update_xaxes(tickangle = -45)\n",
    "fig.show()"
   ]
  },
  {
   "cell_type": "markdown",
   "metadata": {},
   "source": [
    "> On constate qu'il y a de nombreuses colonnes totalement vides, et d'autres qui n'ont que très peu de données.\n",
    "\n",
    "#### Supprimons les colonnes vides"
   ]
  },
  {
   "cell_type": "code",
   "execution_count": 97,
   "metadata": {},
   "outputs": [
    {
     "name": "stdout",
     "output_type": "stream",
     "text": [
      "-alpha-linolenic-acid_100g | -arachidic-acid_100g | -arachidonic-acid_100g | -behenic-acid_100g | -butyric-acid_100g | -capric-acid_100g | -caproic-acid_100g | -caprylic-acid_100g | -cerotic-acid_100g | -dihomo-gamma-linolenic-acid_100g | -docosahexaenoic-acid_100g | -eicosapentaenoic-acid_100g | -elaidic-acid_100g | -erucic-acid_100g | -fructose_100g | -gamma-linolenic-acid_100g | -glucose_100g | -gondoic-acid_100g | -lactose_100g | -lauric-acid_100g | -lignoceric-acid_100g | -linoleic-acid_100g | -maltodextrins_100g | -maltose_100g | -mead-acid_100g | -melissic-acid_100g | -montanic-acid_100g | -myristic-acid_100g | -nervonic-acid_100g | -oleic-acid_100g | -palmitic-acid_100g | -stearic-acid_100g | -sucrose_100g | additives | allergens_en | cities | no_nutriments | "
     ]
    },
    {
     "data": {
      "text/plain": [
       "37"
      ]
     },
     "execution_count": 97,
     "metadata": {},
     "output_type": "execute_result"
    }
   ],
   "source": [
    "cols_fillrate_00 = fill_ratio[fill_ratio == 0.00].index\n",
    "\n",
    "for col_name in sorted(cols_fillrate_00):\n",
    "    print(col_name, end=\" | \")\n",
    "    \n",
    "len(cols_fillrate_00)"
   ]
  },
  {
   "cell_type": "markdown",
   "metadata": {},
   "source": [
    "> A ce stade, si l'on supprime les colonnes totalement vides, on a donc un jeu de données qui passe de 186 à **149** colonnes."
   ]
  },
  {
   "cell_type": "code",
   "execution_count": 98,
   "metadata": {
    "scrolled": true
   },
   "outputs": [
    {
     "name": "stdout",
     "output_type": "stream",
     "text": [
      "abbreviated_product_name                             \tadditives_en                                         \n",
      "additives_n                                          \tadditives_tags                                       \n",
      "alcohol_100g                                         \tallergens                                            \n",
      "beta-carotene_100g                                   \tbeta-glucan_100g                                     \n",
      "bicarbonate_100g                                     \tbiotin_100g                                          \n",
      "brand_owner                                          \tbrands                                               \n",
      "brands_tags                                          \tcaffeine_100g                                        \n",
      "calcium_100g                                         \tcarbohydrates_100g                                   \n",
      "carbon-footprint-from-meat-or-fish_100g              \tcarbon-footprint_100g                                \n",
      "carnitine_100g                                       \tcasein_100g                                          \n",
      "categories                                           \tcategories_en                                        \n",
      "categories_tags                                      \tchloride_100g                                        \n",
      "chlorophyl_100g                                      \tcholesterol_100g                                     \n",
      "choline_100g                                         \tchromium_100g                                        \n",
      "cities_tags                                          \tcocoa_100g                                           \n",
      "code                                                 \tcollagen-meat-protein-ratio_100g                     \n",
      "copper_100g                                          \tcountries                                            \n",
      "countries_en                                         \tcountries_tags                                       \n",
      "created_datetime                                     \tcreated_t                                            \n",
      "creator                                              \tecoscore_grade                                       \n",
      "ecoscore_score                                       \temb_codes                                            \n",
      "emb_codes_tags                                       \tenergy-from-fat_100g                                 \n",
      "energy-kcal_100g                                     \tenergy-kj_100g                                       \n",
      "energy_100g                                          \tfat_100g                                             \n",
      "fiber_100g                                           \tfirst_packaging_code_geo                             \n",
      "fluoride_100g                                        \tfolates_100g                                         \n",
      "food_groups                                          \tfood_groups_en                                       \n",
      "food_groups_tags                                     \tfruits-vegetables-nuts-dried_100g                    \n",
      "fruits-vegetables-nuts-estimate-from-ingredients_100g\tfruits-vegetables-nuts-estimate_100g                 \n",
      "fruits-vegetables-nuts_100g                          \tgeneric_name                                         \n",
      "glycemic-index_100g                                  \timage_ingredients_small_url                          \n",
      "image_ingredients_url                                \timage_nutrition_small_url                            \n",
      "image_nutrition_url                                  \timage_small_url                                      \n",
      "image_url                                            \tingredients_tags                                     \n",
      "ingredients_text                                     \tinositol_100g                                        \n",
      "insoluble-fiber_100g                                 \tiodine_100g                                          \n",
      "iron_100g                                            \tlabels                                               \n",
      "labels_en                                            \tlabels_tags                                          \n",
      "last_modified_datetime                               \tlast_modified_t                                      \n",
      "magnesium_100g                                       \tmain_category                                        \n",
      "main_category_en                                     \tmanganese_100g                                       \n",
      "manufacturing_places                                 \tmanufacturing_places_tags                            \n",
      "molybdenum_100g                                      \tmonounsaturated-fat_100g                             \n",
      "nova_group                                           \tnucleotides_100g                                     \n",
      "nutriscore_grade                                     \tnutriscore_score                                     \n",
      "nutrition-score-fr_100g                              \tnutrition-score-uk_100g                              \n",
      "omega-3-fat_100g                                     \tomega-6-fat_100g                                     \n",
      "omega-9-fat_100g                                     \torigins                                              \n",
      "origins_en                                           \torigins_tags                                         \n",
      "packaging                                            \tpackaging_en                                         \n",
      "packaging_tags                                       \tpackaging_text                                       \n",
      "pantothenic-acid_100g                                \tph_100g                                              \n",
      "phosphorus_100g                                      \tphylloquinone_100g                                   \n",
      "pnns_groups_1                                        \tpnns_groups_2                                        \n",
      "polyols_100g                                         \tpolyunsaturated-fat_100g                             \n",
      "potassium_100g                                       \tproduct_name                                         \n",
      "proteins_100g                                        \tpurchase_places                                      \n",
      "quantity                                             \tsalt_100g                                            \n",
      "saturated-fat_100g                                   \tselenium_100g                                        \n",
      "serum-proteins_100g                                  \tserving_quantity                                     \n",
      "serving_size                                         \tsilica_100g                                          \n",
      "sodium_100g                                          \tsoluble-fiber_100g                                   \n",
      "starch_100g                                          \tstates                                               \n",
      "states_en                                            \tstates_tags                                          \n",
      "stores                                               \tsugars_100g                                          \n",
      "taurine_100g                                         \ttraces                                               \n",
      "traces_en                                            \ttraces_tags                                          \n",
      "trans-fat_100g                                       \turl                                                  \n",
      "vitamin-a_100g                                       \tvitamin-b12_100g                                     \n",
      "vitamin-b1_100g                                      \tvitamin-b2_100g                                      \n",
      "vitamin-b6_100g                                      \tvitamin-b9_100g                                      \n",
      "vitamin-c_100g                                       \tvitamin-d_100g                                       \n",
      "vitamin-e_100g                                       \tvitamin-k_100g                                       \n",
      "vitamin-pp_100g                                      \twater-hardness_100g                                  \n",
      "zinc_100g                                            \t"
     ]
    }
   ],
   "source": [
    "cols_to_keep = set(prob.columns) - set(cols_fillrate_00)\n",
    "\n",
    "size = max([len(x) for x in cols_to_keep])\n",
    "for i, col in enumerate(sorted(cols_to_keep)):\n",
    "    end_sep=\"\\t\" if i%2 == 0 else \"\\n\"\n",
    "    print(f\"{col[:size].ljust(size)}\", end=end_sep)"
   ]
  },
  {
   "cell_type": "markdown",
   "metadata": {},
   "source": [
    "#### Supprimons les colonnes redondantes\n",
    "\n",
    "Notons que les colonnes redondantes pourraient servir pour les imputations des colonnes gardées, mais on reviendra dessus si nécessaire."
   ]
  },
  {
   "cell_type": "code",
   "execution_count": 99,
   "metadata": {},
   "outputs": [],
   "source": [
    "cols_redondant = set([\n",
    "    'additives_en', # 'additives_tags'\n",
    "    'created_datetime', # --> 'created_t'\n",
    "    'last_modified_datetime', # --> 'last_modified_t'\n",
    "    'generic_name', # --> 'product_name'\n",
    "    'abbreviated_product_name', # --> 'product_name'\n",
    "    'packaging_tags', # --> 'packaging'\n",
    "    'packaging_en', # --> 'packaging'\n",
    "    'brands', # --> 'brands_tags'\n",
    "    'categories', #--> 'categories_tags'\n",
    "    'categories_en',  #--> 'categories_tags'\n",
    "    'manufacturing_places', # --> 'manufacturing_places_tags'\n",
    "    'labels', # --> 'labels_tags'\n",
    "    'labels_en', # --> 'labels_tags'\n",
    "    'emb_codes', # --> 'emb_codes_tags'\n",
    "    'countries', # --> 'countries_tags'\n",
    "    'countries_en', # --> 'countries_tags'\n",
    "    'ingredients_text', # --> 'ingredients_tags'\n",
    "    'traces_en', # --> 'traces_tags'\n",
    "    'additives_en', # --> 'additives_tags' \n",
    "    'food_groups_tags', # --> 'food_groups'\n",
    "    'food_groups_en', # --> 'food_groups'\n",
    "    'states', # --> 'states_tags'\n",
    "    'states_en', # --> 'states_tags'\n",
    "    'main_category_en', # --> 'main_category'\n",
    "    #'energy-kj_100g', # --> 'energy_100g' # je la garde pour imputation\n",
    "    #'energy-kcal_100g', # --> 'energy_100g' # je la garde pour imputation\n",
    "    'fruits-vegetables-nuts-dried_100g', # --> 'fruits-vegetables-nuts-estimate-from-ingredients_100g'\n",
    "    'fruits-vegetables-nuts-estimate_100g', # --> 'fruits-vegetables-nuts-estimate-from-ingredients_100g'\n",
    "    'fruits-vegetables-nuts_100g', # --> 'fruits-vegetables-nuts-estimate-from-ingredients_100g'\n",
    "    #'nutriscore_score', # --> 'nutriscore_grade'\n",
    "    #'nutrition-score-fr_100g', # --> 'nutriscore_score'\n",
    "    #'nutrition-score-uk_100g', # --> 'nutriscore_score'\n",
    "    'origins', # --> 'origins_tags'\n",
    "    'origins_en', # --> 'origins_tags'\n",
    "    'packaging', # --> 'packaging_text'\n",
    "    'traces', # --> 'traces_tags'\n",
    "])"
   ]
  },
  {
   "cell_type": "code",
   "execution_count": 100,
   "metadata": {
    "scrolled": true
   },
   "outputs": [
    {
     "name": "stdout",
     "output_type": "stream",
     "text": [
      "additives_n                                          \tadditives_tags                                       \n",
      "alcohol_100g                                         \tallergens                                            \n",
      "beta-carotene_100g                                   \tbeta-glucan_100g                                     \n",
      "bicarbonate_100g                                     \tbiotin_100g                                          \n",
      "brand_owner                                          \tbrands_tags                                          \n",
      "caffeine_100g                                        \tcalcium_100g                                         \n",
      "carbohydrates_100g                                   \tcarbon-footprint-from-meat-or-fish_100g              \n",
      "carbon-footprint_100g                                \tcarnitine_100g                                       \n",
      "casein_100g                                          \tcategories_tags                                      \n",
      "chloride_100g                                        \tchlorophyl_100g                                      \n",
      "cholesterol_100g                                     \tcholine_100g                                         \n",
      "chromium_100g                                        \tcities_tags                                          \n",
      "cocoa_100g                                           \tcode                                                 \n",
      "collagen-meat-protein-ratio_100g                     \tcopper_100g                                          \n",
      "countries_tags                                       \tcreated_t                                            \n",
      "creator                                              \tecoscore_grade                                       \n",
      "ecoscore_score                                       \temb_codes_tags                                       \n",
      "energy-from-fat_100g                                 \tenergy-kcal_100g                                     \n",
      "energy-kj_100g                                       \tenergy_100g                                          \n",
      "fat_100g                                             \tfiber_100g                                           \n",
      "first_packaging_code_geo                             \tfluoride_100g                                        \n",
      "folates_100g                                         \tfood_groups                                          \n",
      "fruits-vegetables-nuts-estimate-from-ingredients_100g\tglycemic-index_100g                                  \n",
      "image_ingredients_small_url                          \timage_ingredients_url                                \n",
      "image_nutrition_small_url                            \timage_nutrition_url                                  \n",
      "image_small_url                                      \timage_url                                            \n",
      "ingredients_tags                                     \tinositol_100g                                        \n",
      "insoluble-fiber_100g                                 \tiodine_100g                                          \n",
      "iron_100g                                            \tlabels_tags                                          \n",
      "last_modified_t                                      \tmagnesium_100g                                       \n",
      "main_category                                        \tmanganese_100g                                       \n",
      "manufacturing_places_tags                            \tmolybdenum_100g                                      \n",
      "monounsaturated-fat_100g                             \tnova_group                                           \n",
      "nucleotides_100g                                     \tnutriscore_grade                                     \n",
      "nutriscore_score                                     \tnutrition-score-fr_100g                              \n",
      "nutrition-score-uk_100g                              \tomega-3-fat_100g                                     \n",
      "omega-6-fat_100g                                     \tomega-9-fat_100g                                     \n",
      "origins_tags                                         \tpackaging_text                                       \n",
      "pantothenic-acid_100g                                \tph_100g                                              \n",
      "phosphorus_100g                                      \tphylloquinone_100g                                   \n",
      "pnns_groups_1                                        \tpnns_groups_2                                        \n",
      "polyols_100g                                         \tpolyunsaturated-fat_100g                             \n",
      "potassium_100g                                       \tproduct_name                                         \n",
      "proteins_100g                                        \tpurchase_places                                      \n",
      "quantity                                             \tsalt_100g                                            \n",
      "saturated-fat_100g                                   \tselenium_100g                                        \n",
      "serum-proteins_100g                                  \tserving_quantity                                     \n",
      "serving_size                                         \tsilica_100g                                          \n",
      "sodium_100g                                          \tsoluble-fiber_100g                                   \n",
      "starch_100g                                          \tstates_tags                                          \n",
      "stores                                               \tsugars_100g                                          \n",
      "taurine_100g                                         \ttraces_tags                                          \n",
      "trans-fat_100g                                       \turl                                                  \n",
      "vitamin-a_100g                                       \tvitamin-b12_100g                                     \n",
      "vitamin-b1_100g                                      \tvitamin-b2_100g                                      \n",
      "vitamin-b6_100g                                      \tvitamin-b9_100g                                      \n",
      "vitamin-c_100g                                       \tvitamin-d_100g                                       \n",
      "vitamin-e_100g                                       \tvitamin-k_100g                                       \n",
      "vitamin-pp_100g                                      \twater-hardness_100g                                  \n",
      "zinc_100g                                            \t"
     ]
    },
    {
     "data": {
      "text/plain": [
       "119"
      ]
     },
     "execution_count": 100,
     "metadata": {},
     "output_type": "execute_result"
    }
   ],
   "source": [
    "cols_to_keep -= set(cols_redondant)\n",
    "\n",
    "size = max([len(x) for x in cols_to_keep])\n",
    "for i, col in enumerate(sorted(cols_to_keep)):\n",
    "    end_sep=\"\\t\" if i%2 == 0 else \"\\n\"\n",
    "    print(f\"{col[:size].ljust(size)}\", end=end_sep)\n",
    "    \n",
    "len(cols_to_keep)"
   ]
  },
  {
   "cell_type": "markdown",
   "metadata": {},
   "source": [
    "> A ce stade, si l'on supprime les colonnes redondantes en plus des colonnes totalement vides, on a donc un jeu de données qui passe de 186 à **119** colonnes."
   ]
  },
  {
   "cell_type": "markdown",
   "metadata": {},
   "source": [
    "#### Supprimons les colonnes ne présentant a-priori pas d'intérêt d'un point de vue sanitaire"
   ]
  },
  {
   "cell_type": "code",
   "execution_count": 101,
   "metadata": {},
   "outputs": [],
   "source": [
    "cols_useless = set([\n",
    "    'brand_owner',\n",
    "    'brands_tags',\n",
    "    'countries_tags',\n",
    "    'cities_tags',\n",
    "    'created_t',\n",
    "    'creator',\n",
    "    'emb_codes_tags',\n",
    "    'food_groups',\n",
    "    'first_packaging_code_geo',\n",
    "    'image_ingredients_small_url',\n",
    "    'image_ingredients_url',\n",
    "    'image_nutrition_small_url',\n",
    "    'image_nutrition_url',\n",
    "    'image_small_url',\n",
    "    'image_url',\n",
    "    'last_modified_t',\n",
    "    'manufacturing_places_tags',\n",
    "    'origins_tags',\n",
    "    'stores',\n",
    "    'packaging_text',\n",
    "    'purchase_places',\n",
    "    #'code', # on garde\n",
    "    #'url', # on garde\n",
    "    #'product_name', #on garde\n",
    "])"
   ]
  },
  {
   "cell_type": "code",
   "execution_count": 102,
   "metadata": {
    "scrolled": true
   },
   "outputs": [
    {
     "name": "stdout",
     "output_type": "stream",
     "text": [
      "additives_n                                          \tadditives_tags                                       \n",
      "alcohol_100g                                         \tallergens                                            \n",
      "beta-carotene_100g                                   \tbeta-glucan_100g                                     \n",
      "bicarbonate_100g                                     \tbiotin_100g                                          \n",
      "caffeine_100g                                        \tcalcium_100g                                         \n",
      "carbohydrates_100g                                   \tcarbon-footprint-from-meat-or-fish_100g              \n",
      "carbon-footprint_100g                                \tcarnitine_100g                                       \n",
      "casein_100g                                          \tcategories_tags                                      \n",
      "chloride_100g                                        \tchlorophyl_100g                                      \n",
      "cholesterol_100g                                     \tcholine_100g                                         \n",
      "chromium_100g                                        \tcocoa_100g                                           \n",
      "code                                                 \tcollagen-meat-protein-ratio_100g                     \n",
      "copper_100g                                          \tecoscore_grade                                       \n",
      "ecoscore_score                                       \tenergy-from-fat_100g                                 \n",
      "energy-kcal_100g                                     \tenergy-kj_100g                                       \n",
      "energy_100g                                          \tfat_100g                                             \n",
      "fiber_100g                                           \tfluoride_100g                                        \n",
      "folates_100g                                         \tfruits-vegetables-nuts-estimate-from-ingredients_100g\n",
      "glycemic-index_100g                                  \tingredients_tags                                     \n",
      "inositol_100g                                        \tinsoluble-fiber_100g                                 \n",
      "iodine_100g                                          \tiron_100g                                            \n",
      "labels_tags                                          \tmagnesium_100g                                       \n",
      "main_category                                        \tmanganese_100g                                       \n",
      "molybdenum_100g                                      \tmonounsaturated-fat_100g                             \n",
      "nova_group                                           \tnucleotides_100g                                     \n",
      "nutriscore_grade                                     \tnutriscore_score                                     \n",
      "nutrition-score-fr_100g                              \tnutrition-score-uk_100g                              \n",
      "omega-3-fat_100g                                     \tomega-6-fat_100g                                     \n",
      "omega-9-fat_100g                                     \tpantothenic-acid_100g                                \n",
      "ph_100g                                              \tphosphorus_100g                                      \n",
      "phylloquinone_100g                                   \tpnns_groups_1                                        \n",
      "pnns_groups_2                                        \tpolyols_100g                                         \n",
      "polyunsaturated-fat_100g                             \tpotassium_100g                                       \n",
      "product_name                                         \tproteins_100g                                        \n",
      "quantity                                             \tsalt_100g                                            \n",
      "saturated-fat_100g                                   \tselenium_100g                                        \n",
      "serum-proteins_100g                                  \tserving_quantity                                     \n",
      "serving_size                                         \tsilica_100g                                          \n",
      "sodium_100g                                          \tsoluble-fiber_100g                                   \n",
      "starch_100g                                          \tstates_tags                                          \n",
      "sugars_100g                                          \ttaurine_100g                                         \n",
      "traces_tags                                          \ttrans-fat_100g                                       \n",
      "url                                                  \tvitamin-a_100g                                       \n",
      "vitamin-b12_100g                                     \tvitamin-b1_100g                                      \n",
      "vitamin-b2_100g                                      \tvitamin-b6_100g                                      \n",
      "vitamin-b9_100g                                      \tvitamin-c_100g                                       \n",
      "vitamin-d_100g                                       \tvitamin-e_100g                                       \n",
      "vitamin-k_100g                                       \tvitamin-pp_100g                                      \n",
      "water-hardness_100g                                  \tzinc_100g                                            \n"
     ]
    },
    {
     "data": {
      "text/plain": [
       "98"
      ]
     },
     "execution_count": 102,
     "metadata": {},
     "output_type": "execute_result"
    }
   ],
   "source": [
    "cols_to_keep -= set(cols_useless)\n",
    "\n",
    "size = max([len(x) for x in cols_to_keep])\n",
    "for i, col in enumerate(sorted(cols_to_keep)):\n",
    "    end_sep=\"\\t\" if i%2 == 0 else \"\\n\"\n",
    "    print(f\"{col[:size].ljust(size)}\", end=end_sep)\n",
    "    \n",
    "len(cols_to_keep)"
   ]
  },
  {
   "cell_type": "markdown",
   "metadata": {},
   "source": [
    "> A ce stade, si l'on supprime les colonnes \"inutiles\", plus les colonnes redondantes et les colonnes totalement vides, on a donc un jeu de données qui passe de 186 à **98** colonnes.\n",
    ">\n",
    "> Sur ces 98 colonnes:\n",
    "> - 76 sont des données nutritionnelles *(pour 100g)*\n",
    "> - 5 sont des scores *(ecoscore_score, ecoscore_grade, nutriscore_score, nutriscore_grade, nova_group)*\n",
    "> - 4 sont des listes d'ingrédients *(ingredients_tags, allergens, trace_tags, additive_tags)*\n",
    "> - 5 sont des données de catégorisation *(pnns_group1, pnns_group2, main_category, categories_tags, labels_tags)*\n",
    "> - 4 sont des données de quantification *(serving_size, serving_quantity, quantity, additives_n)*\n",
    "> - 4 sont des méta-données *(code, product_name, url, states_tags)*"
   ]
  },
  {
   "cell_type": "markdown",
   "metadata": {},
   "source": [
    "#### A présent regardons les colonnes avec un très faible taux de remplissage\n",
    "\n",
    "Partons du principe que l'on retire toutes les colonnes dont le taux de remplissage est inférieur à 1%."
   ]
  },
  {
   "cell_type": "code",
   "execution_count": 214,
   "metadata": {},
   "outputs": [],
   "source": [
    "min_rate = 0.01 # entre 0 et 1\n",
    "\n",
    "fill_ratio_low = {}\n",
    "for col in cols_to_keep:\n",
    "    ratio = fill_ratio[col]\n",
    "    if ratio < min_rate:\n",
    "        fill_ratio_low[col] = fill_ratio[col]\n",
    "fill_ratio_low = pd.Series(fill_ratio_low)"
   ]
  },
  {
   "cell_type": "code",
   "execution_count": 215,
   "metadata": {},
   "outputs": [
    {
     "name": "stdout",
     "output_type": "stream",
     "text": [
      "  0 cocoa_100g                                  0.30%\t  1 iodine_100g                                 0.11%\n",
      "  2 water-hardness_100g                         0.00%\t  3 energy-from-fat_100g                        0.04%\n",
      "  4 vitamin-d_100g                              0.46%\t  5 biotin_100g                                 0.06%\n",
      "  6 chromium_100g                               0.01%\t  7 nucleotides_100g                            0.00%\n",
      "  8 carbon-footprint_100g                       0.02%\t  9 beta-glucan_100g                            0.00%\n",
      " 10 omega-9-fat_100g                            0.01%\t 11 zinc_100g                                   0.46%\n",
      " 12 choline_100g                                0.00%\t 13 insoluble-fiber_100g                        0.15%\n",
      " 14 polyols_100g                                0.17%\t 15 copper_100g                                 0.19%\n",
      " 16 beta-carotene_100g                          0.00%\t 17 bicarbonate_100g                            0.02%\n",
      " 18 vitamin-b6_100g                             0.72%\t 19 selenium_100g                               0.12%\n",
      " 20 chlorophyl_100g                             0.00%\t 21 omega-6-fat_100g                            0.03%\n",
      " 22 molybdenum_100g                             0.02%\t 23 pantothenic-acid_100g                       0.28%\n",
      " 24 vitamin-b9_100g                             0.47%\t 25 taurine_100g                                0.01%\n",
      " 26 vitamin-e_100g                              0.17%\t 27 folates_100g                                0.38%\n",
      " 28 vitamin-b12_100g                            0.59%\t 29 manganese_100g                              0.18%\n",
      " 30 ph_100g                                     0.01%\t 31 caffeine_100g                               0.03%\n",
      " 32 chloride_100g                               0.04%\t 33 omega-3-fat_100g                            0.10%\n",
      " 34 phylloquinone_100g                          0.08%\t 35 serum-proteins_100g                         0.00%\n",
      " 36 casein_100g                                 0.00%\t 37 phosphorus_100g                             0.63%\n",
      " 38 silica_100g                                 0.01%\t 39 carbon-footprint-from-meat-or-fish_100g     0.54%\n",
      " 40 glycemic-index_100g                         0.00%\t 41 collagen-meat-protein-ratio_100g            0.01%\n",
      " 42 soluble-fiber_100g                          0.16%\t 43 nutrition-score-uk_100g                     0.00%\n",
      " 44 magnesium_100g                              0.67%\t 45 inositol_100g                               0.00%\n",
      " 46 fluoride_100g                               0.02%\t 47 carnitine_100g                              0.00%\n",
      " 48 starch_100g                                 0.02%\t 49 vitamin-k_100g                              0.06%\n"
     ]
    }
   ],
   "source": [
    "size = max([len(x) for x in prob.columns])-13\n",
    "\n",
    "for i, ratio in enumerate(fill_ratio_low.iteritems()):\n",
    "    end_sep=\"\\t\" if i%2 == 0 else \"\\n\"\n",
    "    print(f\"{i:3} {ratio[0][:size].ljust(size)} {ratio[1]*100:7.2f}%\", end=end_sep)"
   ]
  },
  {
   "cell_type": "code",
   "execution_count": 220,
   "metadata": {},
   "outputs": [],
   "source": [
    "cols_low_rate = fill_ratio_low.index"
   ]
  },
  {
   "cell_type": "code",
   "execution_count": 221,
   "metadata": {},
   "outputs": [
    {
     "name": "stdout",
     "output_type": "stream",
     "text": [
      "additives_n                                          \tadditives_tags                                       \n",
      "alcohol_100g                                         \tallergens                                            \n",
      "calcium_100g                                         \tcarbohydrates_100g                                   \n",
      "categories_tags                                      \tcholesterol_100g                                     \n",
      "code                                                 \tecoscore_grade                                       \n",
      "ecoscore_score                                       \tenergy-kcal_100g                                     \n",
      "energy-kj_100g                                       \tenergy_100g                                          \n",
      "fat_100g                                             \tfiber_100g                                           \n",
      "fruits-vegetables-nuts-estimate-from-ingredients_100g\tingredients_tags                                     \n",
      "iron_100g                                            \tlabels_tags                                          \n",
      "main_category                                        \tmonounsaturated-fat_100g                             \n",
      "nova_group                                           \tnutriscore_grade                                     \n",
      "nutriscore_score                                     \tnutrition-score-fr_100g                              \n",
      "pnns_groups_1                                        \tpnns_groups_2                                        \n",
      "polyunsaturated-fat_100g                             \tpotassium_100g                                       \n",
      "product_name                                         \tproteins_100g                                        \n",
      "quantity                                             \tsalt_100g                                            \n",
      "saturated-fat_100g                                   \tserving_quantity                                     \n",
      "serving_size                                         \tsodium_100g                                          \n",
      "states_tags                                          \tsugars_100g                                          \n",
      "traces_tags                                          \ttrans-fat_100g                                       \n",
      "url                                                  \tvitamin-a_100g                                       \n",
      "vitamin-b1_100g                                      \tvitamin-b2_100g                                      \n",
      "vitamin-c_100g                                       \tvitamin-pp_100g                                      \n"
     ]
    },
    {
     "data": {
      "text/plain": [
       "48"
      ]
     },
     "execution_count": 221,
     "metadata": {},
     "output_type": "execute_result"
    }
   ],
   "source": [
    "cols_to_keep -= set(cols_low_rate)\n",
    "\n",
    "size = max([len(x) for x in cols_to_keep])\n",
    "for i, col in enumerate(sorted(cols_to_keep)):\n",
    "    end_sep=\"\\t\" if i%2 == 0 else \"\\n\"\n",
    "    print(f\"{col[:size].ljust(size)}\", end=end_sep)\n",
    "    \n",
    "len(cols_to_keep)"
   ]
  },
  {
   "cell_type": "markdown",
   "metadata": {},
   "source": [
    "> A ce stade, si l'on supprime les colonnes avec moins de 1% de remplissage plus les colonnes \"inutiles\", les colonnes redondantes et les colonnes totalement vides, on a donc un jeu de données qui passe de 186 à **48** colonnes.\n",
    ">\n",
    "> Sur ces 48 colonnes:\n",
    "> - 26 sont des données nutritionnelles *(pour 100g)*\n",
    "> - 5 sont des scores *(ecoscore_score, ecoscore_grade, nutriscore_score, nutriscore_grade, nova_group)*\n",
    "> - 4 sont des listes d'ingrédients *(ingredients_tags, allergens, trace_tags, additive_tags)*\n",
    "> - 5 sont des données de catégorisation *(pnns_group1, pnns_group2, main_category, categories_tags, labels_tags)*\n",
    "> - 4 sont des données de quantification *(serving_size, serving_quantity, quantity, additives_n)*\n",
    "> - 4 sont des méta-données *(code, product_name, url, states_tags)*"
   ]
  },
  {
   "cell_type": "markdown",
   "metadata": {},
   "source": [
    "# 4. Créations d'un jeu de données réduit"
   ]
  },
  {
   "cell_type": "code",
   "execution_count": 224,
   "metadata": {},
   "outputs": [],
   "source": [
    "data_low = pd.read_csv(filename, sep='\\t', dtype=dtypes, usecols=cols_to_keep)"
   ]
  },
  {
   "cell_type": "code",
   "execution_count": 225,
   "metadata": {},
   "outputs": [
    {
     "data": {
      "text/plain": [
       "(2251894, 48)"
      ]
     },
     "execution_count": 225,
     "metadata": {},
     "output_type": "execute_result"
    }
   ],
   "source": [
    "data_low.shape"
   ]
  },
  {
   "cell_type": "code",
   "execution_count": 232,
   "metadata": {},
   "outputs": [],
   "source": [
    "data_low.to_csv('data/data_low_cols.csv', index=False)"
   ]
  },
  {
   "cell_type": "markdown",
   "metadata": {},
   "source": [
    "### La suite du nettoyage prend place dans le second notebook en partant de ce jeu de données réduit."
   ]
  },
  {
   "cell_type": "code",
   "execution_count": null,
   "metadata": {},
   "outputs": [],
   "source": []
  }
 ],
 "metadata": {
  "kernelspec": {
   "display_name": "venvP3",
   "language": "python",
   "name": "venvp3"
  },
  "language_info": {
   "codemirror_mode": {
    "name": "ipython",
    "version": 3
   },
   "file_extension": ".py",
   "mimetype": "text/x-python",
   "name": "python",
   "nbconvert_exporter": "python",
   "pygments_lexer": "ipython3",
   "version": "3.8.10"
  }
 },
 "nbformat": 4,
 "nbformat_minor": 4
}
