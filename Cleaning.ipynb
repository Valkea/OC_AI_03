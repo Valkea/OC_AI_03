{
 "cells": [
  {
   "cell_type": "code",
   "execution_count": 1,
   "metadata": {},
   "outputs": [],
   "source": [
    "import pandas as pd\n",
    "import numpy as np\n",
    "import matplotlib.pyplot as plt\n",
    "import seaborn as sns"
   ]
  },
  {
   "cell_type": "markdown",
   "metadata": {},
   "source": [
    "# Objectif\n",
    "\n",
    "Le Nutriscore est une information qui peut être utile pour comparer divers produits d'une même catégorie les uns avec les autres. Cependant, tous les produits ne disposent pas de cette information et il pourrait être intéressant de pouvoir calculer ce score à partir des indications disponibles sur les étiquettes des produits (ou même simplement en scannant le code-barre).\n",
    "\n",
    "Nous allons donc essayer de calculer le nutriscore ou le nutrigrade en nous basant sur les données disponibles sur l'étiquette d'un produit."
   ]
  },
  {
   "cell_type": "markdown",
   "metadata": {},
   "source": [
    "# Le jeu de données\n",
    "\n",
    "> **A FAIRE**\n",
    "\n",
    "Le jeu de données complet fait plus de 5.9GB. Et il est difficile de travailler avec un tel volume de donnée, donc je vais l'explorer petit à petit (d'abord la première ligne, puis ensuite en calculant le taux de remplissage petit bout par petit bout pour pouvoir charger un dataset allégé)."
   ]
  },
  {
   "cell_type": "code",
   "execution_count": 2,
   "metadata": {},
   "outputs": [],
   "source": [
    "filename = 'data/en.openfoodfacts.org.products.csv'"
   ]
  },
  {
   "cell_type": "markdown",
   "metadata": {},
   "source": [
    "#### Affichons uniquement la première ligne"
   ]
  },
  {
   "cell_type": "code",
   "execution_count": 3,
   "metadata": {},
   "outputs": [
    {
     "data": {
      "text/html": [
       "<div>\n",
       "<style scoped>\n",
       "    .dataframe tbody tr th:only-of-type {\n",
       "        vertical-align: middle;\n",
       "    }\n",
       "\n",
       "    .dataframe tbody tr th {\n",
       "        vertical-align: top;\n",
       "    }\n",
       "\n",
       "    .dataframe thead th {\n",
       "        text-align: right;\n",
       "    }\n",
       "</style>\n",
       "<table border=\"1\" class=\"dataframe\">\n",
       "  <thead>\n",
       "    <tr style=\"text-align: right;\">\n",
       "      <th></th>\n",
       "      <th>code</th>\n",
       "      <th>url</th>\n",
       "      <th>creator</th>\n",
       "      <th>created_t</th>\n",
       "      <th>created_datetime</th>\n",
       "      <th>last_modified_t</th>\n",
       "      <th>last_modified_datetime</th>\n",
       "      <th>product_name</th>\n",
       "      <th>abbreviated_product_name</th>\n",
       "      <th>generic_name</th>\n",
       "      <th>...</th>\n",
       "      <th>carbon-footprint-from-meat-or-fish_100g</th>\n",
       "      <th>nutrition-score-fr_100g</th>\n",
       "      <th>nutrition-score-uk_100g</th>\n",
       "      <th>glycemic-index_100g</th>\n",
       "      <th>water-hardness_100g</th>\n",
       "      <th>choline_100g</th>\n",
       "      <th>phylloquinone_100g</th>\n",
       "      <th>beta-glucan_100g</th>\n",
       "      <th>inositol_100g</th>\n",
       "      <th>carnitine_100g</th>\n",
       "    </tr>\n",
       "  </thead>\n",
       "  <tbody>\n",
       "    <tr>\n",
       "      <th>0</th>\n",
       "      <td>225</td>\n",
       "      <td>http://world-en.openfoodfacts.org/product/0000...</td>\n",
       "      <td>nutrinet-sante</td>\n",
       "      <td>1623855208</td>\n",
       "      <td>2021-06-16T14:53:28Z</td>\n",
       "      <td>1623855209</td>\n",
       "      <td>2021-06-16T14:53:29Z</td>\n",
       "      <td>jeunes pousses</td>\n",
       "      <td>NaN</td>\n",
       "      <td>NaN</td>\n",
       "      <td>...</td>\n",
       "      <td>NaN</td>\n",
       "      <td>NaN</td>\n",
       "      <td>NaN</td>\n",
       "      <td>NaN</td>\n",
       "      <td>NaN</td>\n",
       "      <td>NaN</td>\n",
       "      <td>NaN</td>\n",
       "      <td>NaN</td>\n",
       "      <td>NaN</td>\n",
       "      <td>NaN</td>\n",
       "    </tr>\n",
       "  </tbody>\n",
       "</table>\n",
       "<p>1 rows × 186 columns</p>\n",
       "</div>"
      ],
      "text/plain": [
       "   code                                                url         creator  \\\n",
       "0   225  http://world-en.openfoodfacts.org/product/0000...  nutrinet-sante   \n",
       "\n",
       "    created_t      created_datetime  last_modified_t last_modified_datetime  \\\n",
       "0  1623855208  2021-06-16T14:53:28Z       1623855209   2021-06-16T14:53:29Z   \n",
       "\n",
       "     product_name  abbreviated_product_name  generic_name  ...  \\\n",
       "0  jeunes pousses                       NaN           NaN  ...   \n",
       "\n",
       "   carbon-footprint-from-meat-or-fish_100g  nutrition-score-fr_100g  \\\n",
       "0                                      NaN                      NaN   \n",
       "\n",
       "   nutrition-score-uk_100g  glycemic-index_100g  water-hardness_100g  \\\n",
       "0                      NaN                  NaN                  NaN   \n",
       "\n",
       "  choline_100g phylloquinone_100g  beta-glucan_100g  inositol_100g  \\\n",
       "0          NaN                NaN               NaN            NaN   \n",
       "\n",
       "   carnitine_100g  \n",
       "0             NaN  \n",
       "\n",
       "[1 rows x 186 columns]"
      ]
     },
     "execution_count": 3,
     "metadata": {},
     "output_type": "execute_result"
    }
   ],
   "source": [
    "prob = pd.read_csv(filename, sep='\\t', low_memory=True, nrows=1)\n",
    "prob"
   ]
  },
  {
   "cell_type": "markdown",
   "metadata": {},
   "source": [
    "Regardons l'ensemble des colonnes présentes *(et leur index pour pouvoir ajuster leur type en cas de mixed-type)*"
   ]
  },
  {
   "cell_type": "code",
   "execution_count": 4,
   "metadata": {
    "scrolled": true
   },
   "outputs": [
    {
     "name": "stdout",
     "output_type": "stream",
     "text": [
      "0 code\n",
      "1 url\n",
      "2 creator\n",
      "3 created_t\n",
      "4 created_datetime\n",
      "5 last_modified_t\n",
      "6 last_modified_datetime\n",
      "7 product_name\n",
      "8 abbreviated_product_name\n",
      "9 generic_name\n",
      "10 quantity\n",
      "11 packaging\n",
      "12 packaging_tags\n",
      "13 packaging_en\n",
      "14 packaging_text\n",
      "15 brands\n",
      "16 brands_tags\n",
      "17 categories\n",
      "18 categories_tags\n",
      "19 categories_en\n",
      "20 origins\n",
      "21 origins_tags\n",
      "22 origins_en\n",
      "23 manufacturing_places\n",
      "24 manufacturing_places_tags\n",
      "25 labels\n",
      "26 labels_tags\n",
      "27 labels_en\n",
      "28 emb_codes\n",
      "29 emb_codes_tags\n",
      "30 first_packaging_code_geo\n",
      "31 cities\n",
      "32 cities_tags\n",
      "33 purchase_places\n",
      "34 stores\n",
      "35 countries\n",
      "36 countries_tags\n",
      "37 countries_en\n",
      "38 ingredients_text\n",
      "39 ingredients_tags\n",
      "40 allergens\n",
      "41 allergens_en\n",
      "42 traces\n",
      "43 traces_tags\n",
      "44 traces_en\n",
      "45 serving_size\n",
      "46 serving_quantity\n",
      "47 no_nutriments\n",
      "48 additives_n\n",
      "49 additives\n",
      "50 additives_tags\n",
      "51 additives_en\n",
      "52 nutriscore_score\n",
      "53 nutriscore_grade\n",
      "54 nova_group\n",
      "55 pnns_groups_1\n",
      "56 pnns_groups_2\n",
      "57 food_groups\n",
      "58 food_groups_tags\n",
      "59 food_groups_en\n",
      "60 states\n",
      "61 states_tags\n",
      "62 states_en\n",
      "63 brand_owner\n",
      "64 ecoscore_score\n",
      "65 ecoscore_grade\n",
      "66 main_category\n",
      "67 main_category_en\n",
      "68 image_url\n",
      "69 image_small_url\n",
      "70 image_ingredients_url\n",
      "71 image_ingredients_small_url\n",
      "72 image_nutrition_url\n",
      "73 image_nutrition_small_url\n",
      "74 energy-kj_100g\n",
      "75 energy-kcal_100g\n",
      "76 energy_100g\n",
      "77 energy-from-fat_100g\n",
      "78 fat_100g\n",
      "79 saturated-fat_100g\n",
      "80 -butyric-acid_100g\n",
      "81 -caproic-acid_100g\n",
      "82 -caprylic-acid_100g\n",
      "83 -capric-acid_100g\n",
      "84 -lauric-acid_100g\n",
      "85 -myristic-acid_100g\n",
      "86 -palmitic-acid_100g\n",
      "87 -stearic-acid_100g\n",
      "88 -arachidic-acid_100g\n",
      "89 -behenic-acid_100g\n",
      "90 -lignoceric-acid_100g\n",
      "91 -cerotic-acid_100g\n",
      "92 -montanic-acid_100g\n",
      "93 -melissic-acid_100g\n",
      "94 monounsaturated-fat_100g\n",
      "95 polyunsaturated-fat_100g\n",
      "96 omega-3-fat_100g\n",
      "97 -alpha-linolenic-acid_100g\n",
      "98 -eicosapentaenoic-acid_100g\n",
      "99 -docosahexaenoic-acid_100g\n",
      "100 omega-6-fat_100g\n",
      "101 -linoleic-acid_100g\n",
      "102 -arachidonic-acid_100g\n",
      "103 -gamma-linolenic-acid_100g\n",
      "104 -dihomo-gamma-linolenic-acid_100g\n",
      "105 omega-9-fat_100g\n",
      "106 -oleic-acid_100g\n",
      "107 -elaidic-acid_100g\n",
      "108 -gondoic-acid_100g\n",
      "109 -mead-acid_100g\n",
      "110 -erucic-acid_100g\n",
      "111 -nervonic-acid_100g\n",
      "112 trans-fat_100g\n",
      "113 cholesterol_100g\n",
      "114 carbohydrates_100g\n",
      "115 sugars_100g\n",
      "116 -sucrose_100g\n",
      "117 -glucose_100g\n",
      "118 -fructose_100g\n",
      "119 -lactose_100g\n",
      "120 -maltose_100g\n",
      "121 -maltodextrins_100g\n",
      "122 starch_100g\n",
      "123 polyols_100g\n",
      "124 fiber_100g\n",
      "125 soluble-fiber_100g\n",
      "126 insoluble-fiber_100g\n",
      "127 proteins_100g\n",
      "128 casein_100g\n",
      "129 serum-proteins_100g\n",
      "130 nucleotides_100g\n",
      "131 salt_100g\n",
      "132 sodium_100g\n",
      "133 alcohol_100g\n",
      "134 vitamin-a_100g\n",
      "135 beta-carotene_100g\n",
      "136 vitamin-d_100g\n",
      "137 vitamin-e_100g\n",
      "138 vitamin-k_100g\n",
      "139 vitamin-c_100g\n",
      "140 vitamin-b1_100g\n",
      "141 vitamin-b2_100g\n",
      "142 vitamin-pp_100g\n",
      "143 vitamin-b6_100g\n",
      "144 vitamin-b9_100g\n",
      "145 folates_100g\n",
      "146 vitamin-b12_100g\n",
      "147 biotin_100g\n",
      "148 pantothenic-acid_100g\n",
      "149 silica_100g\n",
      "150 bicarbonate_100g\n",
      "151 potassium_100g\n",
      "152 chloride_100g\n",
      "153 calcium_100g\n",
      "154 phosphorus_100g\n",
      "155 iron_100g\n",
      "156 magnesium_100g\n",
      "157 zinc_100g\n",
      "158 copper_100g\n",
      "159 manganese_100g\n",
      "160 fluoride_100g\n",
      "161 selenium_100g\n",
      "162 chromium_100g\n",
      "163 molybdenum_100g\n",
      "164 iodine_100g\n",
      "165 caffeine_100g\n",
      "166 taurine_100g\n",
      "167 ph_100g\n",
      "168 fruits-vegetables-nuts_100g\n",
      "169 fruits-vegetables-nuts-dried_100g\n",
      "170 fruits-vegetables-nuts-estimate_100g\n",
      "171 fruits-vegetables-nuts-estimate-from-ingredients_100g\n",
      "172 collagen-meat-protein-ratio_100g\n",
      "173 cocoa_100g\n",
      "174 chlorophyl_100g\n",
      "175 carbon-footprint_100g\n",
      "176 carbon-footprint-from-meat-or-fish_100g\n",
      "177 nutrition-score-fr_100g\n",
      "178 nutrition-score-uk_100g\n",
      "179 glycemic-index_100g\n",
      "180 water-hardness_100g\n",
      "181 choline_100g\n",
      "182 phylloquinone_100g\n",
      "183 beta-glucan_100g\n",
      "184 inositol_100g\n",
      "185 carnitine_100g\n"
     ]
    }
   ],
   "source": [
    "for i, col in enumerate(prob.columns):\n",
    "    print(i, col)"
   ]
  },
  {
   "cell_type": "markdown",
   "metadata": {},
   "source": [
    "#### Chargeons le CSV par petit bouts pour en calculer le `taux de remplissage` puis identifier les colonnes vides ou presque vides.\n",
    "\n",
    "Nous allons également fournir les types pour les colonnes dont pandas n'est pas certain."
   ]
  },
  {
   "cell_type": "code",
   "execution_count": 6,
   "metadata": {
    "scrolled": true
   },
   "outputs": [],
   "source": [
    "dtypes = {\n",
    "    'code': 'str',\n",
    "    'abbreviated_product_name': 'str',\n",
    "    'packaging_text': 'str',\n",
    "    'emb_codes': 'str',\n",
    "    'emb_codes_tags': 'str',\n",
    "    'first_packaging_code_geo': 'str',\n",
    "    'cities_tags': 'str',\n",
    "    'origins': 'str',\n",
    "    'origins_tags': 'str',\n",
    "    'origins_en': 'str',\n",
    "    'manufacturing_places': 'str',\n",
    "    'manufacturing_places_tags': 'str',\n",
    "    'brand_owner': 'str',\n",
    "    'generic_name': 'str',\n",
    "    'packaging': 'str',\n",
    "    'packaging_tags': 'str',\n",
    "    'packaging_en': 'str',\n",
    "    'labels': 'str',\n",
    "    'labels_tags': 'str',\n",
    "    'labels_en': 'str',\n",
    "    'purchase_places': 'str',\n",
    "    'stores': 'str',\n",
    "    'allergens': 'str',\n",
    "    'traces': 'str',\n",
    "    'traces_tags': 'str',\n",
    "    'traces_en': 'str',\n",
    "    'serving_size': 'str',\n",
    "    'additives_tags': 'str',\n",
    "    'additives_en': 'str',\n",
    "    'nutriscore_grade': 'str', # /!\\\n",
    "    'image_url': 'str',\n",
    "    'image_small_url': 'str',\n",
    "    'image_ingredients_url': 'str',\n",
    "    'image_ingredients_small_url': 'str',\n",
    "    'image_nutrition_url': 'str',\n",
    "    'image_nutrition_small_url': 'str',\n",
    "    'alcohol_100g': 'float',\n",
    "}\n",
    "\n",
    "chunksize = 10000\n",
    "nan_rates = []\n",
    "for chunk in pd.read_csv(filename, chunksize=chunksize, sep='\\t', low_memory=True, dtype=dtypes):\n",
    "    nan_rates.append(chunk.notna().mean(axis=0))"
   ]
  },
  {
   "cell_type": "markdown",
   "metadata": {},
   "source": [
    "On fait la moyenne des taux calculés sur tous les chunks"
   ]
  },
  {
   "cell_type": "code",
   "execution_count": 7,
   "metadata": {},
   "outputs": [],
   "source": [
    "inds_nan_rate = pd.concat(nan_rates, axis=1).mean(axis=1)"
   ]
  },
  {
   "cell_type": "markdown",
   "metadata": {},
   "source": [
    "Et on l'affiche sous forme de graphique pour avoir une première idée du remplissage du dataset complet"
   ]
  },
  {
   "cell_type": "code",
   "execution_count": 8,
   "metadata": {},
   "outputs": [
    {
     "data": {
      "image/png": "[encoded data removed]",
      "text/plain": [
       "<Figure size 1440x360 with 1 Axes>"
      ]
     },
     "metadata": {
      "needs_background": "light"
     },
     "output_type": "display_data"
    }
   ],
   "source": [
    "fig = plt.figure(figsize=(20,5))\n",
    "plt.bar(range(0,len(inds_nan_rate)), inds_nan_rate*100)\n",
    "plt.title(\"Taux de replissage des colonnes\")\n",
    "plt.xlabel(\"Index des colonnes\")\n",
    "plt.ylabel(\"Taux de remplissage moyen (en %)\")\n",
    "plt.show()"
   ]
  },
  {
   "cell_type": "markdown",
   "metadata": {},
   "source": [
    "#### Supprimons les colonnes qui n'ont pas ou peu d'information sur lesquelles travailler\n",
    "\n",
    "Commençons par regarder les colonnes complètement vides"
   ]
  },
  {
   "cell_type": "code",
   "execution_count": 9,
   "metadata": {},
   "outputs": [
    {
     "data": {
      "text/plain": [
       "(Index(['cities', 'allergens_en', 'no_nutriments', 'additives',\n",
       "        '-butyric-acid_100g', '-caproic-acid_100g', '-caprylic-acid_100g',\n",
       "        '-capric-acid_100g', '-lauric-acid_100g', '-myristic-acid_100g',\n",
       "        '-palmitic-acid_100g', '-stearic-acid_100g', '-arachidic-acid_100g',\n",
       "        '-behenic-acid_100g', '-lignoceric-acid_100g', '-cerotic-acid_100g',\n",
       "        '-montanic-acid_100g', '-melissic-acid_100g',\n",
       "        '-alpha-linolenic-acid_100g', '-eicosapentaenoic-acid_100g',\n",
       "        '-docosahexaenoic-acid_100g', '-linoleic-acid_100g',\n",
       "        '-arachidonic-acid_100g', '-gamma-linolenic-acid_100g',\n",
       "        '-dihomo-gamma-linolenic-acid_100g', '-oleic-acid_100g',\n",
       "        '-elaidic-acid_100g', '-gondoic-acid_100g', '-mead-acid_100g',\n",
       "        '-erucic-acid_100g', '-nervonic-acid_100g', '-sucrose_100g',\n",
       "        '-glucose_100g', '-fructose_100g', '-lactose_100g', '-maltose_100g',\n",
       "        '-maltodextrins_100g'],\n",
       "       dtype='object'),\n",
       " 37)"
      ]
     },
     "execution_count": 9,
     "metadata": {},
     "output_type": "execute_result"
    }
   ],
   "source": [
    "cols_fillrate_00 = inds_nan_rate[inds_nan_rate == 0.00].index\n",
    "cols_fillrate_00, len(cols_fillrate_00)"
   ]
  },
  {
   "cell_type": "markdown",
   "metadata": {},
   "source": [
    "Puis regardons les colonnes qui ont moins de 1% des données *(et plus de 0%)*"
   ]
  },
  {
   "cell_type": "code",
   "execution_count": 10,
   "metadata": {},
   "outputs": [
    {
     "data": {
      "text/plain": [
       "(Index(['abbreviated_product_name', 'packaging_text', 'energy-from-fat_100g',\n",
       "        'omega-3-fat_100g', 'omega-6-fat_100g', 'omega-9-fat_100g',\n",
       "        'starch_100g', 'polyols_100g', 'soluble-fiber_100g',\n",
       "        'insoluble-fiber_100g', 'casein_100g', 'serum-proteins_100g',\n",
       "        'nucleotides_100g', 'beta-carotene_100g', 'vitamin-d_100g',\n",
       "        'vitamin-e_100g', 'vitamin-k_100g', 'vitamin-b6_100g',\n",
       "        'vitamin-b9_100g', 'folates_100g', 'vitamin-b12_100g', 'biotin_100g',\n",
       "        'pantothenic-acid_100g', 'silica_100g', 'bicarbonate_100g',\n",
       "        'chloride_100g', 'phosphorus_100g', 'magnesium_100g', 'zinc_100g',\n",
       "        'copper_100g', 'manganese_100g', 'fluoride_100g', 'selenium_100g',\n",
       "        'chromium_100g', 'molybdenum_100g', 'iodine_100g', 'caffeine_100g',\n",
       "        'taurine_100g', 'ph_100g', 'fruits-vegetables-nuts_100g',\n",
       "        'fruits-vegetables-nuts-dried_100g',\n",
       "        'fruits-vegetables-nuts-estimate_100g',\n",
       "        'collagen-meat-protein-ratio_100g', 'cocoa_100g', 'chlorophyl_100g',\n",
       "        'carbon-footprint_100g', 'carbon-footprint-from-meat-or-fish_100g',\n",
       "        'nutrition-score-uk_100g', 'glycemic-index_100g', 'water-hardness_100g',\n",
       "        'choline_100g', 'phylloquinone_100g', 'beta-glucan_100g',\n",
       "        'inositol_100g', 'carnitine_100g'],\n",
       "       dtype='object'),\n",
       " 55)"
      ]
     },
     "execution_count": 10,
     "metadata": {},
     "output_type": "execute_result"
    }
   ],
   "source": [
    "cols_fillrate_01 = inds_nan_rate[(inds_nan_rate > 0.00) & (inds_nan_rate < 0.01)].index\n",
    "cols_fillrate_01, len(cols_fillrate_01)"
   ]
  },
  {
   "cell_type": "markdown",
   "metadata": {},
   "source": [
    "Et regardons les colonnes qui ont moins de 10% des données *(et plus de 1%)*"
   ]
  },
  {
   "cell_type": "code",
   "execution_count": 11,
   "metadata": {},
   "outputs": [
    {
     "data": {
      "text/plain": [
       "(Index(['generic_name', 'packaging', 'packaging_tags', 'packaging_en',\n",
       "        'origins', 'origins_tags', 'origins_en', 'manufacturing_places',\n",
       "        'manufacturing_places_tags', 'emb_codes', 'emb_codes_tags',\n",
       "        'first_packaging_code_geo', 'cities_tags', 'purchase_places', 'stores',\n",
       "        'allergens', 'traces', 'traces_tags', 'traces_en', 'additives_tags',\n",
       "        'additives_en', 'brand_owner', 'energy-kj_100g',\n",
       "        'monounsaturated-fat_100g', 'polyunsaturated-fat_100g',\n",
       "        'trans-fat_100g', 'cholesterol_100g', 'alcohol_100g', 'vitamin-a_100g',\n",
       "        'vitamin-c_100g', 'vitamin-b1_100g', 'vitamin-b2_100g',\n",
       "        'vitamin-pp_100g', 'potassium_100g', 'calcium_100g', 'iron_100g'],\n",
       "       dtype='object'),\n",
       " 36)"
      ]
     },
     "execution_count": 11,
     "metadata": {},
     "output_type": "execute_result"
    }
   ],
   "source": [
    "cols_fillrate_02 = inds_nan_rate[(inds_nan_rate > 0.01) & (inds_nan_rate < 0.2)].index\n",
    "cols_fillrate_02, len(cols_fillrate_02)"
   ]
  },
  {
   "cell_type": "markdown",
   "metadata": {},
   "source": [
    "En parcourant les colonnes identifiées dans ces trois selections, aucune ne me semble être\n",
    "\n",
    "> Donc si on supprime les colonnes qui ont un taux de remplissage inférieur à 10%, on allège le jeu de données de 117 colonnes *(37+55+25)*."
   ]
  },
  {
   "cell_type": "code",
   "execution_count": null,
   "metadata": {},
   "outputs": [],
   "source": []
  },
  {
   "cell_type": "code",
   "execution_count": 12,
   "metadata": {},
   "outputs": [
    {
     "data": {
      "text/plain": [
       "(Index(['abbreviated_product_name', 'generic_name', 'packaging',\n",
       "        'packaging_tags', 'packaging_en', 'packaging_text', 'origins',\n",
       "        'origins_tags', 'origins_en', 'manufacturing_places',\n",
       "        ...\n",
       "        'carbon-footprint_100g', 'carbon-footprint-from-meat-or-fish_100g',\n",
       "        'nutrition-score-uk_100g', 'glycemic-index_100g', 'water-hardness_100g',\n",
       "        'choline_100g', 'phylloquinone_100g', 'beta-glucan_100g',\n",
       "        'inositol_100g', 'carnitine_100g'],\n",
       "       dtype='object', length=134),\n",
       " 134)"
      ]
     },
     "execution_count": 12,
     "metadata": {},
     "output_type": "execute_result"
    }
   ],
   "source": [
    "cols_to_remove = inds_nan_rate[inds_nan_rate < 0.25].index\n",
    "cols_to_remove, len(cols_to_remove)"
   ]
  },
  {
   "cell_type": "code",
   "execution_count": 13,
   "metadata": {},
   "outputs": [
    {
     "name": "stdout",
     "output_type": "stream",
     "text": [
      "0 abbreviated_product_name\n",
      "1 generic_name\n",
      "2 packaging\n",
      "3 packaging_tags\n",
      "4 packaging_en\n",
      "5 packaging_text\n",
      "6 origins\n",
      "7 origins_tags\n",
      "8 origins_en\n",
      "9 manufacturing_places\n",
      "10 manufacturing_places_tags\n",
      "11 labels\n",
      "12 labels_tags\n",
      "13 labels_en\n",
      "14 emb_codes\n",
      "15 emb_codes_tags\n",
      "16 first_packaging_code_geo\n",
      "17 cities\n",
      "18 cities_tags\n",
      "19 purchase_places\n",
      "20 stores\n",
      "21 allergens\n",
      "22 allergens_en\n",
      "23 traces\n",
      "24 traces_tags\n",
      "25 traces_en\n",
      "26 serving_size\n",
      "27 serving_quantity\n",
      "28 no_nutriments\n",
      "29 additives\n",
      "30 additives_tags\n",
      "31 additives_en\n",
      "32 brand_owner\n",
      "33 ecoscore_score\n",
      "34 energy-kj_100g\n",
      "35 energy-from-fat_100g\n",
      "36 -butyric-acid_100g\n",
      "37 -caproic-acid_100g\n",
      "38 -caprylic-acid_100g\n",
      "39 -capric-acid_100g\n",
      "40 -lauric-acid_100g\n",
      "41 -myristic-acid_100g\n",
      "42 -palmitic-acid_100g\n",
      "43 -stearic-acid_100g\n",
      "44 -arachidic-acid_100g\n",
      "45 -behenic-acid_100g\n",
      "46 -lignoceric-acid_100g\n",
      "47 -cerotic-acid_100g\n",
      "48 -montanic-acid_100g\n",
      "49 -melissic-acid_100g\n",
      "50 monounsaturated-fat_100g\n",
      "51 polyunsaturated-fat_100g\n",
      "52 omega-3-fat_100g\n",
      "53 -alpha-linolenic-acid_100g\n",
      "54 -eicosapentaenoic-acid_100g\n",
      "55 -docosahexaenoic-acid_100g\n",
      "56 omega-6-fat_100g\n",
      "57 -linoleic-acid_100g\n",
      "58 -arachidonic-acid_100g\n",
      "59 -gamma-linolenic-acid_100g\n",
      "60 -dihomo-gamma-linolenic-acid_100g\n",
      "61 omega-9-fat_100g\n",
      "62 -oleic-acid_100g\n",
      "63 -elaidic-acid_100g\n",
      "64 -gondoic-acid_100g\n",
      "65 -mead-acid_100g\n",
      "66 -erucic-acid_100g\n",
      "67 -nervonic-acid_100g\n",
      "68 trans-fat_100g\n",
      "69 cholesterol_100g\n",
      "70 -sucrose_100g\n",
      "71 -glucose_100g\n",
      "72 -fructose_100g\n",
      "73 -lactose_100g\n",
      "74 -maltose_100g\n",
      "75 -maltodextrins_100g\n",
      "76 starch_100g\n",
      "77 polyols_100g\n",
      "78 soluble-fiber_100g\n",
      "79 insoluble-fiber_100g\n",
      "80 casein_100g\n",
      "81 serum-proteins_100g\n",
      "82 nucleotides_100g\n",
      "83 alcohol_100g\n",
      "84 vitamin-a_100g\n",
      "85 beta-carotene_100g\n",
      "86 vitamin-d_100g\n",
      "87 vitamin-e_100g\n",
      "88 vitamin-k_100g\n",
      "89 vitamin-c_100g\n",
      "90 vitamin-b1_100g\n",
      "91 vitamin-b2_100g\n",
      "92 vitamin-pp_100g\n",
      "93 vitamin-b6_100g\n",
      "94 vitamin-b9_100g\n",
      "95 folates_100g\n",
      "96 vitamin-b12_100g\n",
      "97 biotin_100g\n",
      "98 pantothenic-acid_100g\n",
      "99 silica_100g\n",
      "100 bicarbonate_100g\n",
      "101 potassium_100g\n",
      "102 chloride_100g\n",
      "103 calcium_100g\n",
      "104 phosphorus_100g\n",
      "105 iron_100g\n",
      "106 magnesium_100g\n",
      "107 zinc_100g\n",
      "108 copper_100g\n",
      "109 manganese_100g\n",
      "110 fluoride_100g\n",
      "111 selenium_100g\n",
      "112 chromium_100g\n",
      "113 molybdenum_100g\n",
      "114 iodine_100g\n",
      "115 caffeine_100g\n",
      "116 taurine_100g\n",
      "117 ph_100g\n",
      "118 fruits-vegetables-nuts_100g\n",
      "119 fruits-vegetables-nuts-dried_100g\n",
      "120 fruits-vegetables-nuts-estimate_100g\n",
      "121 collagen-meat-protein-ratio_100g\n",
      "122 cocoa_100g\n",
      "123 chlorophyl_100g\n",
      "124 carbon-footprint_100g\n",
      "125 carbon-footprint-from-meat-or-fish_100g\n",
      "126 nutrition-score-uk_100g\n",
      "127 glycemic-index_100g\n",
      "128 water-hardness_100g\n",
      "129 choline_100g\n",
      "130 phylloquinone_100g\n",
      "131 beta-glucan_100g\n",
      "132 inositol_100g\n",
      "133 carnitine_100g\n"
     ]
    }
   ],
   "source": [
    "for i, col_name in enumerate(cols_to_remove):\n",
    "    print(i, col_name)"
   ]
  },
  {
   "cell_type": "markdown",
   "metadata": {},
   "source": [
    "> Donc si on supprime les colonnes qui ont un taux de remplissage inférieur à 25%, on allège le jeu de données de 134 colonnes.\n",
    "> \n",
    "> Ce qui le porterait de 186 à 52 colonnes.\n",
    "\n",
    "#### Appliquons cette réduction et voyons si un tel jeu de données pourrait être utile."
   ]
  },
  {
   "cell_type": "code",
   "execution_count": 14,
   "metadata": {},
   "outputs": [
    {
     "data": {
      "text/plain": [
       "{'additives_n',\n",
       " 'brands',\n",
       " 'brands_tags',\n",
       " 'carbohydrates_100g',\n",
       " 'categories',\n",
       " 'categories_en',\n",
       " 'categories_tags',\n",
       " 'code',\n",
       " 'countries',\n",
       " 'countries_en',\n",
       " 'countries_tags',\n",
       " 'created_datetime',\n",
       " 'created_t',\n",
       " 'creator',\n",
       " 'ecoscore_grade',\n",
       " 'energy-kcal_100g',\n",
       " 'energy_100g',\n",
       " 'fat_100g',\n",
       " 'fiber_100g',\n",
       " 'food_groups',\n",
       " 'food_groups_en',\n",
       " 'food_groups_tags',\n",
       " 'fruits-vegetables-nuts-estimate-from-ingredients_100g',\n",
       " 'image_ingredients_small_url',\n",
       " 'image_ingredients_url',\n",
       " 'image_nutrition_small_url',\n",
       " 'image_nutrition_url',\n",
       " 'image_small_url',\n",
       " 'image_url',\n",
       " 'ingredients_tags',\n",
       " 'ingredients_text',\n",
       " 'last_modified_datetime',\n",
       " 'last_modified_t',\n",
       " 'main_category',\n",
       " 'main_category_en',\n",
       " 'nova_group',\n",
       " 'nutriscore_grade',\n",
       " 'nutriscore_score',\n",
       " 'nutrition-score-fr_100g',\n",
       " 'pnns_groups_1',\n",
       " 'pnns_groups_2',\n",
       " 'product_name',\n",
       " 'proteins_100g',\n",
       " 'quantity',\n",
       " 'salt_100g',\n",
       " 'saturated-fat_100g',\n",
       " 'sodium_100g',\n",
       " 'states',\n",
       " 'states_en',\n",
       " 'states_tags',\n",
       " 'sugars_100g',\n",
       " 'url'}"
      ]
     },
     "execution_count": 14,
     "metadata": {},
     "output_type": "execute_result"
    }
   ],
   "source": [
    "cols_to_load = set(prob.columns) - set(cols_to_remove)\n",
    "cols_to_load"
   ]
  },
  {
   "cell_type": "code",
   "execution_count": 15,
   "metadata": {},
   "outputs": [],
   "source": [
    "data = pd.read_csv(filename, sep='\\t', dtype=dtypes, usecols=cols_to_load)"
   ]
  },
  {
   "cell_type": "code",
   "execution_count": null,
   "metadata": {},
   "outputs": [],
   "source": []
  },
  {
   "cell_type": "code",
   "execution_count": null,
   "metadata": {},
   "outputs": [],
   "source": []
  },
  {
   "cell_type": "code",
   "execution_count": null,
   "metadata": {},
   "outputs": [],
   "source": []
  },
  {
   "cell_type": "code",
   "execution_count": null,
   "metadata": {},
   "outputs": [],
   "source": []
  },
  {
   "cell_type": "code",
   "execution_count": null,
   "metadata": {},
   "outputs": [],
   "source": []
  },
  {
   "cell_type": "code",
   "execution_count": null,
   "metadata": {},
   "outputs": [],
   "source": [
    "data.shape"
   ]
  },
  {
   "cell_type": "code",
   "execution_count": null,
   "metadata": {},
   "outputs": [],
   "source": [
    "df.head(3)"
   ]
  },
  {
   "cell_type": "code",
   "execution_count": null,
   "metadata": {},
   "outputs": [],
   "source": [
    "df.shape"
   ]
  },
  {
   "cell_type": "code",
   "execution_count": null,
   "metadata": {},
   "outputs": [],
   "source": [
    "df.info()"
   ]
  },
  {
   "cell_type": "code",
   "execution_count": null,
   "metadata": {},
   "outputs": [],
   "source": [
    "data.describe().T"
   ]
  },
  {
   "cell_type": "code",
   "execution_count": null,
   "metadata": {},
   "outputs": [],
   "source": [
    "data.describe(exclude='number').T"
   ]
  },
  {
   "cell_type": "code",
   "execution_count": null,
   "metadata": {
    "scrolled": false
   },
   "outputs": [],
   "source": [
    "for i, c in enumerate(df.columns):\n",
    "    print(i, c)"
   ]
  },
  {
   "cell_type": "markdown",
   "metadata": {},
   "source": [
    "## Valeurs manquantes\n",
    "Avec ce premier aperçu, on remarque qu'il est difficile d'avoir une bonne vision du jeu de données en raison du grand nombre de colonnes. Il serait donc intéressant de vérifier le taux de remplissage des colonnes pour éliner celles qui n'ont vraiment aucun espoir d'être imputées.\n",
    "\n",
    "#### Affichons les valeurs manquantes pour chaque colonne"
   ]
  },
  {
   "cell_type": "code",
   "execution_count": null,
   "metadata": {},
   "outputs": [],
   "source": [
    "import missingno as msno\n",
    "msno.matrix(data, sort=\"ascending\")"
   ]
  },
  {
   "cell_type": "markdown",
   "metadata": {},
   "source": [
    "> Visiblement, il manque beaucoup de valeurs...\n",
    "\n",
    "#### Affichons les taux de valeurs manquantes pour chaque colonne."
   ]
  },
  {
   "cell_type": "code",
   "execution_count": null,
   "metadata": {},
   "outputs": [],
   "source": [
    "# Définissons une fonction qui nous permet d'afficher \n",
    "# facilement le nombre de valeurs manquantes et leur taux\n",
    "\n",
    "def print_missing_counts(dataset, col_array):\n",
    "    missing_count = dataset[col_array].isnull().sum()\n",
    "    missing_ratio = missing_count/dataset.shape[0]*100.0\n",
    "    \n",
    "    for k, v in zip(missing_count.keys(), missing_count):\n",
    "        fraction = v/dataset.shape[0]*100.0\n",
    "        print(f\"{k.rjust(45)} is missing {v:6} values \\t -->   {fraction:6.2f}%\")\n",
    "    return missing_ratio"
   ]
  },
  {
   "cell_type": "code",
   "execution_count": null,
   "metadata": {
    "scrolled": true
   },
   "outputs": [],
   "source": [
    "missing_ratio = print_missing_counts(data, data.columns)"
   ]
  },
  {
   "cell_type": "markdown",
   "metadata": {},
   "source": [
    "> On constate qu'il y a de nombreuses colonnes pour lesquelles il manque 100% des valeurs.\n",
    ">\n",
    "> Mais il y en a aussi beaucoup d'autre avec des taux très élevés.\n",
    "\n",
    "#### Identifions les colonnes pour lesquelles on à moins de 75% de valeurs manquantes."
   ]
  },
  {
   "cell_type": "code",
   "execution_count": null,
   "metadata": {},
   "outputs": [],
   "source": [
    "max_missing_rate = 90.0"
   ]
  },
  {
   "cell_type": "code",
   "execution_count": null,
   "metadata": {},
   "outputs": [],
   "source": [
    "selected_cols = []\n",
    "removed_cols = []\n",
    "\n",
    "for name, value in missing_ratio.iteritems():\n",
    "    if value < max_missing_rate:\n",
    "        selected_cols.append(name)\n",
    "    else:\n",
    "        removed_cols.append(name)"
   ]
  },
  {
   "cell_type": "code",
   "execution_count": null,
   "metadata": {},
   "outputs": [],
   "source": [
    "print(f\"{len(selected_cols)} SELECTED COLS:\\n {selected_cols}\")"
   ]
  },
  {
   "cell_type": "code",
   "execution_count": null,
   "metadata": {},
   "outputs": [],
   "source": [
    "print(f\"{len(removed_cols)} REMOVED COLS:\\n {removed_cols}\")"
   ]
  },
  {
   "cell_type": "code",
   "execution_count": null,
   "metadata": {},
   "outputs": [],
   "source": [
    "data.emb_codes.value_counts()"
   ]
  },
  {
   "cell_type": "code",
   "execution_count": null,
   "metadata": {},
   "outputs": [],
   "source": [
    "data.allergens.value_counts()"
   ]
  },
  {
   "cell_type": "code",
   "execution_count": null,
   "metadata": {},
   "outputs": [],
   "source": [
    "data.traces.value_counts()"
   ]
  },
  {
   "cell_type": "markdown",
   "metadata": {},
   "source": [
    "#### Préparons une copie du dataset qui ne contient que les colonnes retenues"
   ]
  },
  {
   "cell_type": "code",
   "execution_count": null,
   "metadata": {},
   "outputs": [],
   "source": [
    "data_low = data[selected_cols]"
   ]
  },
  {
   "cell_type": "code",
   "execution_count": null,
   "metadata": {},
   "outputs": [],
   "source": [
    "msno.matrix(data_low, sort=\"ascending\")"
   ]
  },
  {
   "cell_type": "markdown",
   "metadata": {},
   "source": [
    "#### Et comparons le avec le dataset correspondant aux colonnes mises de côté"
   ]
  },
  {
   "cell_type": "code",
   "execution_count": null,
   "metadata": {},
   "outputs": [],
   "source": [
    "data_low_removed = data[removed_cols]"
   ]
  },
  {
   "cell_type": "code",
   "execution_count": null,
   "metadata": {},
   "outputs": [],
   "source": [
    "msno.matrix(data_low_removed, sort=\"ascending\")"
   ]
  },
  {
   "cell_type": "markdown",
   "metadata": {},
   "source": [
    "#### Et relançons l'analyse"
   ]
  },
  {
   "cell_type": "code",
   "execution_count": null,
   "metadata": {},
   "outputs": [],
   "source": [
    "data_low.shape"
   ]
  },
  {
   "cell_type": "code",
   "execution_count": null,
   "metadata": {},
   "outputs": [],
   "source": [
    "data_low.describe().T"
   ]
  },
  {
   "cell_type": "code",
   "execution_count": null,
   "metadata": {},
   "outputs": [],
   "source": [
    "data_low.describe(exclude='number').T"
   ]
  },
  {
   "cell_type": "code",
   "execution_count": null,
   "metadata": {},
   "outputs": [],
   "source": []
  },
  {
   "cell_type": "code",
   "execution_count": null,
   "metadata": {},
   "outputs": [],
   "source": []
  },
  {
   "cell_type": "code",
   "execution_count": null,
   "metadata": {},
   "outputs": [],
   "source": []
  },
  {
   "cell_type": "code",
   "execution_count": null,
   "metadata": {},
   "outputs": [],
   "source": []
  },
  {
   "cell_type": "code",
   "execution_count": null,
   "metadata": {},
   "outputs": [],
   "source": [
    "data.states"
   ]
  },
  {
   "cell_type": "code",
   "execution_count": null,
   "metadata": {},
   "outputs": [],
   "source": [
    "data.states.iat[0]"
   ]
  },
  {
   "cell_type": "code",
   "execution_count": null,
   "metadata": {},
   "outputs": [],
   "source": [
    "msno.matrix(data[['states', 'states_fr', 'states_tags']], sort=\"ascending\")"
   ]
  },
  {
   "cell_type": "code",
   "execution_count": null,
   "metadata": {},
   "outputs": [],
   "source": [
    "data.states_fr"
   ]
  },
  {
   "cell_type": "code",
   "execution_count": null,
   "metadata": {},
   "outputs": [],
   "source": []
  },
  {
   "cell_type": "code",
   "execution_count": null,
   "metadata": {},
   "outputs": [],
   "source": []
  },
  {
   "cell_type": "code",
   "execution_count": null,
   "metadata": {},
   "outputs": [],
   "source": []
  },
  {
   "cell_type": "code",
   "execution_count": null,
   "metadata": {},
   "outputs": [],
   "source": [
    "# nombre de lignes à charger en même temps en mémoire\n",
    "chunksize = 10 ** 4\n",
    "filename = 'data/fr.openfoodfacts.org.products.csv'\n",
    "nan_rates = []\n",
    "for chunk in pd.read_csv(filename, chunksize=chunksize, sep='\\t'):\n",
    "    nan_rates.append(chunk.isna().mean(axis=0))\n",
    "# moyenne des taux de remplissage des chunks\n",
    "inds_nan_rate = pd.concat(nan_rates, axis=1).mean(axis=1)\n",
    "cols_to_load = inds_nan_rate[inds_nan_rate < 0.7].index.tolist()\n",
    "df = pd.read_csv(filename, sep='\\t', usecols=cols_to_load)"
   ]
  },
  {
   "cell_type": "code",
   "execution_count": null,
   "metadata": {},
   "outputs": [],
   "source": [
    "df.describe()"
   ]
  },
  {
   "cell_type": "code",
   "execution_count": null,
   "metadata": {},
   "outputs": [],
   "source": [
    "df.shape"
   ]
  },
  {
   "cell_type": "code",
   "execution_count": null,
   "metadata": {},
   "outputs": [],
   "source": []
  }
 ],
 "metadata": {
  "kernelspec": {
   "display_name": "venvP03",
   "language": "python",
   "name": "venvp03"
  },
  "language_info": {
   "codemirror_mode": {
    "name": "ipython",
    "version": 3
   },
   "file_extension": ".py",
   "mimetype": "text/x-python",
   "name": "python",
   "nbconvert_exporter": "python",
   "pygments_lexer": "ipython3",
   "version": "3.8.10"
  }
 },
 "nbformat": 4,
 "nbformat_minor": 4
}
